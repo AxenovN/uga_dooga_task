{
 "cells": [
  {
   "cell_type": "markdown",
   "id": "9608e716",
   "metadata": {},
   "source": [
    "# Из Общей Информации"
   ]
  },
  {
   "cell_type": "markdown",
   "id": "c69cdb23",
   "metadata": {},
   "source": [
    "Форматы рекламы в мобильных играх:\n",
    "- int – полноэкранная реклама; \n",
    "- banner – горизонтальный баннер, висит внизу экрана пока юзер играет;\n",
    "- rv – видео, которое юзер смотрит по желанию и за просмотр получает монетки или др. ресурсы.\n",
    "\n",
    "eCPM – доход за 1000 показов рекламы."
   ]
  },
  {
   "cell_type": "markdown",
   "id": "d0751360",
   "metadata": {},
   "source": [
    "# Бизнес Задача"
   ]
  },
  {
   "cell_type": "markdown",
   "id": "df54e71d",
   "metadata": {},
   "source": [
    "Провести исследование показов рекламы с целью понять на сколько отличается eCPM в зависимости от географии (города) юзера, версии ОС и других параметров.\n",
    "\n",
    "Этот csv файл (544,4 Mb) содержит информацию о показах рекламы для юзеров США:\n",
    "https://drive.google.com/drive/folders/1bjWlzyXV8ALcoxZYrdNQH6_MOm3nS3Pl?usp=sharing"
   ]
  },
  {
   "cell_type": "markdown",
   "id": "1b740527",
   "metadata": {},
   "source": [
    "# Детализация Задач"
   ]
  },
  {
   "cell_type": "markdown",
   "id": "5aa93529",
   "metadata": {},
   "source": [
    "- 1. Для каждого формата рекламы:\n",
    "    - a. построить распределение средних eCPM-ов юзеров\n",
    "    - b. построить распределение eCPM-ов по городам, версиям ОС\n",
    "    - c. построить распределение доходов по городам, версиям ОС\n",
    "- 2. Учесть статистическую значимость (отобразить, отфильтровать незначимое или хотя бы прокомментировать). Объяснить решение.\n",
    "- 3. Описать наблюдения и вывод по исследованию.\n",
    "\n",
    "**Доп.:**\n",
    "\n",
    "Исследовать:\n",
    "- 4. Какой процент доходов содержит информацию о городе юзера\n",
    "- 5. Зависит ли eCPM от времени дня"
   ]
  },
  {
   "cell_type": "markdown",
   "id": "31c66f0c",
   "metadata": {},
   "source": [
    "# Информация о Данных"
   ]
  },
  {
   "cell_type": "markdown",
   "id": "7376ad63",
   "metadata": {},
   "source": [
    "- Столбец profile_id – id юзера\n",
    "- Столбец event_json содержит данные о событии показа рекламы:\n",
    "    - ad_type – формат рекламы (int, banner или rv)\n",
    "    - placement – когда/где был показ рекламы в игре\n",
    "    - view_index – номер показа конкретного формата рекламы для юзера (не поддерживается для баннеров)\n",
    "\n",
    "    - revenue – доход от конкретного показа рекламы (eCPM = revenue * 1000)\n",
    "    - ads_ltv – накапливающийся доход от рекламы, равен сумме всех revenue юзера\n",
    "    - network_name – рекламная сеть, от которой был показ"
   ]
  },
  {
   "cell_type": "markdown",
   "id": "cbfa9d3c",
   "metadata": {},
   "source": [
    "# Требования к Работе"
   ]
  },
  {
   "cell_type": "markdown",
   "id": "55af488e",
   "metadata": {},
   "source": [
    "- Понятная визуализация данных, грамотный выбор средств для презентации данных (типы диаграмм, таблиц или др.)\n",
    "- Чистотый и понятный код\n",
    "- Описание наблюдений в процессе иследования и выводы"
   ]
  },
  {
   "cell_type": "markdown",
   "id": "82cbd0d9",
   "metadata": {},
   "source": [
    "# Получение данных"
   ]
  },
  {
   "cell_type": "code",
   "execution_count": 23,
   "id": "3878ddf2",
   "metadata": {},
   "outputs": [],
   "source": [
    "import pandas as pd\n",
    "import json"
   ]
  },
  {
   "cell_type": "code",
   "execution_count": null,
   "id": "acc82882",
   "metadata": {},
   "outputs": [],
   "source": [
    "'''\n",
    "# неудачная попытка загрузки данных, т.к. файл очень большой вместо стандартного начала загрузки\n",
    "# гугл отправляет на страницу, где просит подтвердить скачивание (см. скрин окна подтверждения ниже)\n",
    "url='https://drive.google.com/file/d/1h2eXP4EyL8hYT2kZ0wmShAtp8Qz8HpNq/view?usp=sharing'\n",
    "url='https://drive.google.com/uc?id=' + url.split('/')[-2]\n",
    "df = pd.read_csv(url)\n",
    "'''"
   ]
  },
  {
   "attachments": {
    "image.png": {
     "image/png": "[encoded data removed]"
    }
   },
   "cell_type": "markdown",
   "id": "de52fc69",
   "metadata": {},
   "source": [
    "![image.png](attachment:image.png)"
   ]
  },
  {
   "cell_type": "markdown",
   "id": "13433378",
   "metadata": {},
   "source": [
    "Я скачал файл на свой ПК; в репозиторий клонировать его не буду; открою локально для анализа, дальнейшей работы."
   ]
  },
  {
   "cell_type": "code",
   "execution_count": 2,
   "id": "af424415",
   "metadata": {},
   "outputs": [],
   "source": [
    "path = '../../../6_database/us events ad_revenue filtered 03.02-07.02.csv'\n",
    "df = pd.read_csv(path)"
   ]
  },
  {
   "cell_type": "code",
   "execution_count": 6,
   "id": "f2489af8",
   "metadata": {
    "scrolled": true
   },
   "outputs": [
    {
     "data": {
      "text/html": [
       "<div>\n",
       "<style scoped>\n",
       "    .dataframe tbody tr th:only-of-type {\n",
       "        vertical-align: middle;\n",
       "    }\n",
       "\n",
       "    .dataframe tbody tr th {\n",
       "        vertical-align: top;\n",
       "    }\n",
       "\n",
       "    .dataframe thead th {\n",
       "        text-align: right;\n",
       "    }\n",
       "</style>\n",
       "<table border=\"1\" class=\"dataframe\">\n",
       "  <thead>\n",
       "    <tr style=\"text-align: right;\">\n",
       "      <th></th>\n",
       "      <th>profile_id</th>\n",
       "      <th>os_version</th>\n",
       "      <th>device_manufacturer</th>\n",
       "      <th>device_model</th>\n",
       "      <th>device_type</th>\n",
       "      <th>device_locale</th>\n",
       "      <th>event_name</th>\n",
       "      <th>event_json</th>\n",
       "      <th>event_datetime</th>\n",
       "      <th>event_timestamp</th>\n",
       "      <th>event_receive_datetime</th>\n",
       "      <th>event_receive_timestamp</th>\n",
       "      <th>connection_type</th>\n",
       "      <th>operator_name</th>\n",
       "      <th>country_iso_code</th>\n",
       "      <th>city</th>\n",
       "    </tr>\n",
       "  </thead>\n",
       "  <tbody>\n",
       "    <tr>\n",
       "      <th>0</th>\n",
       "      <td>JLjpGzDHBQm</td>\n",
       "      <td>11</td>\n",
       "      <td>Samsung</td>\n",
       "      <td>Galaxy Tab S6</td>\n",
       "      <td>tablet</td>\n",
       "      <td>en_US</td>\n",
       "      <td>c_ad_revenue</td>\n",
       "      <td>{\"ad_type\":\"banner\",\"placement\":\"\",\"view_index...</td>\n",
       "      <td>2022-02-04 20:02:28</td>\n",
       "      <td>1643994148</td>\n",
       "      <td>2022-02-06 17:58:19</td>\n",
       "      <td>1644159499</td>\n",
       "      <td>wifi</td>\n",
       "      <td>NaN</td>\n",
       "      <td>US</td>\n",
       "      <td>Norwalk</td>\n",
       "    </tr>\n",
       "    <tr>\n",
       "      <th>1</th>\n",
       "      <td>JLjpGzDHBQm</td>\n",
       "      <td>11</td>\n",
       "      <td>Samsung</td>\n",
       "      <td>Galaxy Tab S6</td>\n",
       "      <td>tablet</td>\n",
       "      <td>en_US</td>\n",
       "      <td>c_ad_revenue</td>\n",
       "      <td>{\"ad_type\":\"banner\",\"placement\":\"\",\"view_index...</td>\n",
       "      <td>2022-02-04 20:02:45</td>\n",
       "      <td>1643994165</td>\n",
       "      <td>2022-02-06 17:58:19</td>\n",
       "      <td>1644159499</td>\n",
       "      <td>wifi</td>\n",
       "      <td>NaN</td>\n",
       "      <td>US</td>\n",
       "      <td>Norwalk</td>\n",
       "    </tr>\n",
       "    <tr>\n",
       "      <th>2</th>\n",
       "      <td>JLkVacrzHY6</td>\n",
       "      <td>11</td>\n",
       "      <td>Google</td>\n",
       "      <td>Pixel 2</td>\n",
       "      <td>phone</td>\n",
       "      <td>en_US</td>\n",
       "      <td>c_ad_revenue</td>\n",
       "      <td>{\"ad_type\":\"banner\",\"placement\":\"\",\"view_index...</td>\n",
       "      <td>2022-02-05 17:53:05</td>\n",
       "      <td>1644072785</td>\n",
       "      <td>2022-02-06 16:59:29</td>\n",
       "      <td>1644155969</td>\n",
       "      <td>wifi</td>\n",
       "      <td>Verizon</td>\n",
       "      <td>US</td>\n",
       "      <td>Charlotte</td>\n",
       "    </tr>\n",
       "    <tr>\n",
       "      <th>3</th>\n",
       "      <td>JMC6wG3cX0f</td>\n",
       "      <td>10</td>\n",
       "      <td>Samsung</td>\n",
       "      <td>Galaxy S9</td>\n",
       "      <td>phone</td>\n",
       "      <td>en_US</td>\n",
       "      <td>c_ad_revenue</td>\n",
       "      <td>{\"ad_type\":\"int\",\"placement\":\"next_level\",\"vie...</td>\n",
       "      <td>2022-02-06 17:09:01</td>\n",
       "      <td>1644156541</td>\n",
       "      <td>2022-02-06 17:09:24</td>\n",
       "      <td>1644156564</td>\n",
       "      <td>wifi</td>\n",
       "      <td>T-Mobile</td>\n",
       "      <td>US</td>\n",
       "      <td>Cocoa</td>\n",
       "    </tr>\n",
       "    <tr>\n",
       "      <th>4</th>\n",
       "      <td>JLzWWTJfi1b</td>\n",
       "      <td>10</td>\n",
       "      <td>Samsung</td>\n",
       "      <td>Galaxy S9</td>\n",
       "      <td>phone</td>\n",
       "      <td>en_US</td>\n",
       "      <td>c_ad_revenue</td>\n",
       "      <td>{\"ad_type\":\"banner\",\"placement\":\"\",\"view_index...</td>\n",
       "      <td>2022-02-06 17:15:38</td>\n",
       "      <td>1644156938</td>\n",
       "      <td>2022-02-06 17:16:16</td>\n",
       "      <td>1644156976</td>\n",
       "      <td>cell</td>\n",
       "      <td>Verizon</td>\n",
       "      <td>US</td>\n",
       "      <td>NaN</td>\n",
       "    </tr>\n",
       "  </tbody>\n",
       "</table>\n",
       "</div>"
      ],
      "text/plain": [
       "    profile_id os_version device_manufacturer   device_model device_type  \\\n",
       "0  JLjpGzDHBQm         11             Samsung  Galaxy Tab S6      tablet   \n",
       "1  JLjpGzDHBQm         11             Samsung  Galaxy Tab S6      tablet   \n",
       "2  JLkVacrzHY6         11              Google        Pixel 2       phone   \n",
       "3  JMC6wG3cX0f         10             Samsung      Galaxy S9       phone   \n",
       "4  JLzWWTJfi1b         10             Samsung      Galaxy S9       phone   \n",
       "\n",
       "  device_locale    event_name  \\\n",
       "0         en_US  c_ad_revenue   \n",
       "1         en_US  c_ad_revenue   \n",
       "2         en_US  c_ad_revenue   \n",
       "3         en_US  c_ad_revenue   \n",
       "4         en_US  c_ad_revenue   \n",
       "\n",
       "                                          event_json       event_datetime  \\\n",
       "0  {\"ad_type\":\"banner\",\"placement\":\"\",\"view_index...  2022-02-04 20:02:28   \n",
       "1  {\"ad_type\":\"banner\",\"placement\":\"\",\"view_index...  2022-02-04 20:02:45   \n",
       "2  {\"ad_type\":\"banner\",\"placement\":\"\",\"view_index...  2022-02-05 17:53:05   \n",
       "3  {\"ad_type\":\"int\",\"placement\":\"next_level\",\"vie...  2022-02-06 17:09:01   \n",
       "4  {\"ad_type\":\"banner\",\"placement\":\"\",\"view_index...  2022-02-06 17:15:38   \n",
       "\n",
       "   event_timestamp event_receive_datetime  event_receive_timestamp  \\\n",
       "0       1643994148    2022-02-06 17:58:19               1644159499   \n",
       "1       1643994165    2022-02-06 17:58:19               1644159499   \n",
       "2       1644072785    2022-02-06 16:59:29               1644155969   \n",
       "3       1644156541    2022-02-06 17:09:24               1644156564   \n",
       "4       1644156938    2022-02-06 17:16:16               1644156976   \n",
       "\n",
       "  connection_type operator_name country_iso_code       city  \n",
       "0            wifi           NaN               US    Norwalk  \n",
       "1            wifi           NaN               US    Norwalk  \n",
       "2            wifi       Verizon               US  Charlotte  \n",
       "3            wifi      T-Mobile               US      Cocoa  \n",
       "4            cell      Verizon                US        NaN  "
      ]
     },
     "execution_count": 6,
     "metadata": {},
     "output_type": "execute_result"
    }
   ],
   "source": [
    "df.head()"
   ]
  },
  {
   "cell_type": "markdown",
   "id": "03da89c2",
   "metadata": {},
   "source": [
    "Данные открыты. Посмотрим на изначальные вид и структуру"
   ]
  },
  {
   "cell_type": "code",
   "execution_count": 32,
   "id": "8453cdec",
   "metadata": {},
   "outputs": [
    {
     "data": {
      "text/plain": [
       "(860079, 16)"
      ]
     },
     "execution_count": 32,
     "metadata": {},
     "output_type": "execute_result"
    }
   ],
   "source": [
    "df.shape"
   ]
  },
  {
   "cell_type": "code",
   "execution_count": 37,
   "id": "48f670f7",
   "metadata": {},
   "outputs": [
    {
     "data": {
      "text/plain": [
       "profile_id                 object\n",
       "os_version                 object\n",
       "device_manufacturer        object\n",
       "device_model               object\n",
       "device_type                object\n",
       "device_locale              object\n",
       "event_name                 object\n",
       "event_json                 object\n",
       "event_datetime             object\n",
       "event_timestamp             int64\n",
       "event_receive_datetime     object\n",
       "event_receive_timestamp     int64\n",
       "connection_type            object\n",
       "operator_name              object\n",
       "country_iso_code           object\n",
       "city                       object\n",
       "dtype: object"
      ]
     },
     "execution_count": 37,
     "metadata": {},
     "output_type": "execute_result"
    }
   ],
   "source": [
    "df.dtypes"
   ]
  },
  {
   "cell_type": "code",
   "execution_count": 30,
   "id": "515c145e",
   "metadata": {
    "scrolled": true
   },
   "outputs": [
    {
     "name": "stdout",
     "output_type": "stream",
     "text": [
      "COLUMNS\n",
      "1) profile_id - id пользователя\n",
      "2) os_version\n",
      "3) device_manufacturer\n",
      "4) device_model\n",
      "5) device_type\n",
      "6) device_locale\n",
      "7) event_name\n",
      "8) event_json - содержит данные:\n",
      "    - ad_type      – формат рекламы (int [полноэкранная], banner или rv [по желанию])\n",
      "    - placement    – когда/где был показ рекламы в игре\n",
      "    - view_index   – номер показа конкретного формата рекламы для юзера (не поддерживается для баннеров)\n",
      "    - revenue      – доход от конкретного показа рекламы (eCPM = revenue * 1000)\n",
      "    - ads_ltv      – накапливающийся доход от рекламы, равен сумме всех revenue юзера\n",
      "    - network_name – рекламная сеть, от которой был показ\n",
      "9) event_datetime\n",
      "10) event_timestamp\n",
      "11) event_receive_datetime\n",
      "12) event_receive_timestamp\n",
      "13) connection_type\n",
      "14) operator_name\n",
      "15) country_iso_code\n",
      "16) city\n"
     ]
    }
   ],
   "source": [
    "k=0\n",
    "print('COLUMNS')\n",
    "for i in df.columns:\n",
    "    if i == 'profile_id': \n",
    "        k+=1\n",
    "        print(f'{str(k)}) {i} - id пользователя')\n",
    "    elif i == 'event_json':\n",
    "        k+=1\n",
    "        print(f'{str(k)}) {i} - содержит данные:')\n",
    "        print('''    - ad_type      – формат рекламы (int [полноэкранная], banner или rv [по желанию])\n",
    "    - placement    – когда/где был показ рекламы в игре\n",
    "    - view_index   – номер показа конкретного формата рекламы для юзера (не поддерживается для баннеров)\n",
    "    - revenue      – доход от конкретного показа рекламы (eCPM = revenue * 1000)\n",
    "    - ads_ltv      – накапливающийся доход от рекламы, равен сумме всех revenue юзера\n",
    "    - network_name – рекламная сеть, от которой был показ''')\n",
    "    else:\n",
    "        k+=1\n",
    "        print(f'{str(k)}) {i}')\n",
    "        "
   ]
  },
  {
   "cell_type": "markdown",
   "id": "728fad70",
   "metadata": {},
   "source": [
    "Посмотрим на данные в колонке event_json"
   ]
  },
  {
   "cell_type": "code",
   "execution_count": 26,
   "id": "4f4926e6",
   "metadata": {
    "scrolled": true
   },
   "outputs": [
    {
     "data": {
      "text/plain": [
       "{'ad_type': 'banner',\n",
       " 'placement': '',\n",
       " 'view_index': 1,\n",
       " 'session_view_index': 0,\n",
       " 'cur_ticks': 637795729492245130,\n",
       " 'session_length': 705.8807,\n",
       " 'revenue': 0.000510313,\n",
       " 'ads_ltv': 0.487876676518837,\n",
       " 'ecpm_sma': 0.511508107185364,\n",
       " 'normalized_ecpm_sma': 0.511508107185364,\n",
       " 'value': 0.000510313,\n",
       " 'currency': 'USD',\n",
       " 'ad_country_code': 'US',\n",
       " 'network_name': 'Google AdMob',\n",
       " 'ad_unit_id': '64c6b1114ea8c1cc',\n",
       " 'ad_network_placement': 'ca-app-pub-7511632782617496/8825263691',\n",
       " 'creativeId': 'CJ3XirfD5vUCFYPnKAUdG3MOYQ'}"
      ]
     },
     "execution_count": 26,
     "metadata": {},
     "output_type": "execute_result"
    }
   ],
   "source": [
    "json.loads(df.event_json[0])"
   ]
  },
  {
   "cell_type": "markdown",
   "id": "f1426ff2",
   "metadata": {},
   "source": [
    "Исследуем данные по каждой колонке, чтобы убедиться, что у нас все выгрузилось правильно, и чтобы \"познакомиться\" с данными"
   ]
  },
  {
   "cell_type": "code",
   "execution_count": 34,
   "id": "111f360a",
   "metadata": {},
   "outputs": [
    {
     "data": {
      "text/plain": [
       "4226"
      ]
     },
     "execution_count": 34,
     "metadata": {},
     "output_type": "execute_result"
    }
   ],
   "source": [
    "# 1\n",
    "df.profile_id.nunique()  # vs. 860.079 rows in dataset"
   ]
  },
  {
   "cell_type": "code",
   "execution_count": 44,
   "id": "6357f3e8",
   "metadata": {},
   "outputs": [
    {
     "data": {
      "text/plain": [
       "'JLjpGzDHBQm'"
      ]
     },
     "execution_count": 44,
     "metadata": {},
     "output_type": "execute_result"
    }
   ],
   "source": [
    "df.profile_id[0]"
   ]
  },
  {
   "cell_type": "code",
   "execution_count": 43,
   "id": "523b7ce2",
   "metadata": {},
   "outputs": [
    {
     "data": {
      "text/plain": [
       "dtype('O')"
      ]
     },
     "execution_count": 43,
     "metadata": {},
     "output_type": "execute_result"
    }
   ],
   "source": [
    "df.profile_id.dtype"
   ]
  },
  {
   "cell_type": "code",
   "execution_count": 50,
   "id": "d8965fbb",
   "metadata": {},
   "outputs": [
    {
     "name": "stdout",
     "output_type": "stream",
     "text": [
      "['Samsung' 'Google' 'TCL' 'LG' 'OnePlus' 'Motorola' 'Teracube' 'Lenovo'\n",
      " 'T-Mobile' 'Verizon Wireless' 'Xiaomi' 'Alcatel' 'Cricket' 'Blu'\n",
      " 'Kyocera' 'Maxwest' 'Nokia' 'FIH' 'Dish' 'Schok' 'deejoy' 'AT&T' 'Zte'\n",
      " 'Redmi' 'Yulong' 'Wiko' 'Huawei' 'Onn (Walmart)' 'AEEZO' 'Asus' 'JOYAR'\n",
      " 'POCO' 'Ulefone' 'Razer']\n",
      "34\n"
     ]
    }
   ],
   "source": [
    "# 2\n",
    "print(df.device_manufacturer.unique())  # all are android-devices?\n",
    "print(df.device_manufacturer.nunique())"
   ]
  },
  {
   "cell_type": "code",
   "execution_count": null,
   "id": "2396bed8",
   "metadata": {},
   "outputs": [],
   "source": []
  },
  {
   "cell_type": "code",
   "execution_count": null,
   "id": "4e3e453f",
   "metadata": {},
   "outputs": [],
   "source": []
  },
  {
   "cell_type": "code",
   "execution_count": null,
   "id": "a1334f7b",
   "metadata": {},
   "outputs": [],
   "source": []
  },
  {
   "cell_type": "code",
   "execution_count": null,
   "id": "202f6cec",
   "metadata": {},
   "outputs": [],
   "source": []
  },
  {
   "cell_type": "code",
   "execution_count": null,
   "id": "d5af139c",
   "metadata": {},
   "outputs": [],
   "source": []
  },
  {
   "cell_type": "code",
   "execution_count": null,
   "id": "54104371",
   "metadata": {},
   "outputs": [],
   "source": []
  },
  {
   "cell_type": "code",
   "execution_count": null,
   "id": "52607cc8",
   "metadata": {},
   "outputs": [],
   "source": []
  },
  {
   "cell_type": "code",
   "execution_count": null,
   "id": "6df0e136",
   "metadata": {},
   "outputs": [],
   "source": []
  },
  {
   "cell_type": "code",
   "execution_count": null,
   "id": "dd3637e7",
   "metadata": {},
   "outputs": [],
   "source": []
  },
  {
   "cell_type": "code",
   "execution_count": null,
   "id": "cfda8a00",
   "metadata": {},
   "outputs": [],
   "source": []
  },
  {
   "cell_type": "code",
   "execution_count": null,
   "id": "c8724e3c",
   "metadata": {},
   "outputs": [],
   "source": []
  },
  {
   "cell_type": "code",
   "execution_count": null,
   "id": "c96646eb",
   "metadata": {},
   "outputs": [],
   "source": []
  },
  {
   "cell_type": "code",
   "execution_count": null,
   "id": "5155c90c",
   "metadata": {},
   "outputs": [],
   "source": []
  },
  {
   "cell_type": "code",
   "execution_count": null,
   "id": "d0213903",
   "metadata": {},
   "outputs": [],
   "source": []
  },
  {
   "cell_type": "code",
   "execution_count": null,
   "id": "b89a748f",
   "metadata": {},
   "outputs": [],
   "source": []
  },
  {
   "cell_type": "code",
   "execution_count": null,
   "id": "e9d555ba",
   "metadata": {},
   "outputs": [],
   "source": []
  },
  {
   "cell_type": "code",
   "execution_count": null,
   "id": "4ed97ef6",
   "metadata": {},
   "outputs": [],
   "source": []
  },
  {
   "cell_type": "code",
   "execution_count": null,
   "id": "928ed389",
   "metadata": {},
   "outputs": [],
   "source": []
  },
  {
   "cell_type": "code",
   "execution_count": null,
   "id": "1a12595d",
   "metadata": {},
   "outputs": [],
   "source": []
  },
  {
   "cell_type": "code",
   "execution_count": null,
   "id": "a26cf207",
   "metadata": {},
   "outputs": [],
   "source": []
  },
  {
   "cell_type": "code",
   "execution_count": null,
   "id": "148701eb",
   "metadata": {},
   "outputs": [],
   "source": []
  },
  {
   "cell_type": "code",
   "execution_count": null,
   "id": "e581b10a",
   "metadata": {},
   "outputs": [],
   "source": []
  }
 ],
 "metadata": {
  "kernelspec": {
   "display_name": "Python 3 (ipykernel)",
   "language": "python",
   "name": "python3"
  },
  "language_info": {
   "codemirror_mode": {
    "name": "ipython",
    "version": 3
   },
   "file_extension": ".py",
   "mimetype": "text/x-python",
   "name": "python",
   "nbconvert_exporter": "python",
   "pygments_lexer": "ipython3",
   "version": "3.10.5"
  }
 },
 "nbformat": 4,
 "nbformat_minor": 5
}

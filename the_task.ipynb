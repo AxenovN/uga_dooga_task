{
 "cells": [
  {
   "cell_type": "markdown",
   "id": "7fbe1182",
   "metadata": {},
   "source": [
    "# СОДЕРЖАНИЕ\n",
    "\n",
    "- Из общей информации\n",
    "- Бизнес задача\n",
    "- Детализация задач\n",
    "- Информация о данных\n",
    "- Требования к работе\n",
    "- Получениие данных\n",
    "- Предобработка данных\n",
    "    - Начальная. Понятие физ. сущностей\n",
    "    - Предобработка данных. Манипуляции\n",
    "- Задача 1\n",
    "    - Подзадача А\n",
    "    - Подзадача B\n",
    "    - Промежуточный вывод\n",
    "    - Подзадача C\n",
    "- Вывод"
   ]
  },
  {
   "cell_type": "markdown",
   "id": "137431ed",
   "metadata": {},
   "source": [
    "# Из Общей Информации"
   ]
  },
  {
   "cell_type": "markdown",
   "id": "c69cdb23",
   "metadata": {},
   "source": [
    "Форматы рекламы в мобильных играх:\n",
    "- int – полноэкранная реклама; \n",
    "- banner – горизонтальный баннер, висит внизу экрана пока юзер играет;\n",
    "- rv – видео, которое юзер смотрит по желанию и за просмотр получает монетки или др. ресурсы.\n",
    "\n",
    "eCPM – доход за 1000 показов рекламы."
   ]
  },
  {
   "cell_type": "markdown",
   "id": "d0751360",
   "metadata": {},
   "source": [
    "# Бизнес Задача"
   ]
  },
  {
   "cell_type": "markdown",
   "id": "df54e71d",
   "metadata": {},
   "source": [
    "Провести исследование показов рекламы с целью понять на сколько отличается eCPM в зависимости от географии (города) юзера, версии ОС и других параметров.\n",
    "\n",
    "Этот csv файл (544,4 Mb) содержит информацию о показах рекламы для юзеров США:\n",
    "https://drive.google.com/drive/folders/1bjWlzyXV8ALcoxZYrdNQH6_MOm3nS3Pl?usp=sharing"
   ]
  },
  {
   "cell_type": "markdown",
   "id": "1b740527",
   "metadata": {},
   "source": [
    "# Детализация Задач"
   ]
  },
  {
   "cell_type": "markdown",
   "id": "5aa93529",
   "metadata": {},
   "source": [
    "- 1. Для каждого формата рекламы:\n",
    "    - a. построить распределение средних eCPM-ов юзеров\n",
    "    - b. построить распределение eCPM-ов по городам, версиям ОС\n",
    "    - c. построить распределение доходов по городам, версиям ОС\n",
    "- 2. Учесть статистическую значимость (отобразить, отфильтровать незначимое или хотя бы прокомментировать). Объяснить решение.\n",
    "- 3. Описать наблюдения и вывод по исследованию.\n",
    "\n",
    "**Доп.:**\n",
    "\n",
    "Исследовать:\n",
    "- 4. Какой процент доходов содержит информацию о городе юзера\n",
    "- 5. Зависит ли eCPM от времени дня"
   ]
  },
  {
   "cell_type": "markdown",
   "id": "31c66f0c",
   "metadata": {},
   "source": [
    "# Информация о Данных"
   ]
  },
  {
   "cell_type": "markdown",
   "id": "7376ad63",
   "metadata": {},
   "source": [
    "- Столбец profile_id – id юзера\n",
    "- Столбец event_json содержит данные о событии показа рекламы:\n",
    "    - ad_type – формат рекламы (int, banner или rv)\n",
    "    - placement – когда/где был показ рекламы в игре\n",
    "    - view_index – номер показа конкретного формата рекламы для юзера (не поддерживается для баннеров)\n",
    "\n",
    "    - revenue – доход от конкретного показа рекламы (eCPM = revenue * 1000)\n",
    "    - ads_ltv – накапливающийся доход от рекламы, равен сумме всех revenue юзера\n",
    "    - network_name – рекламная сеть, от которой был показ"
   ]
  },
  {
   "cell_type": "markdown",
   "id": "cbfa9d3c",
   "metadata": {},
   "source": [
    "# Требования к Работе"
   ]
  },
  {
   "cell_type": "markdown",
   "id": "55af488e",
   "metadata": {},
   "source": [
    "- Понятная визуализация данных, грамотный выбор средств для презентации данных (типы диаграмм, таблиц или др.)\n",
    "- Чистотый и понятный код\n",
    "- Описание наблюдений в процессе иследования и выводы"
   ]
  },
  {
   "cell_type": "markdown",
   "id": "82cbd0d9",
   "metadata": {},
   "source": [
    "# Получение данных"
   ]
  },
  {
   "cell_type": "code",
   "execution_count": 1,
   "id": "3878ddf2",
   "metadata": {},
   "outputs": [],
   "source": [
    "import pandas as pd\n",
    "import json\n",
    "import numpy as np\n",
    "import seaborn as sns\n",
    "from scipy.stats import levene\n",
    "from scipy.stats import f_oneway\n",
    "import matplotlib.pyplot as plt"
   ]
  },
  {
   "cell_type": "code",
   "execution_count": 2,
   "id": "acc82882",
   "metadata": {},
   "outputs": [
    {
     "data": {
      "text/plain": [
       "\"\\n# неудачная попытка загрузки данных, т.к. файл очень большой вместо стандартного начала загрузки\\n# гугл отправляет на страницу, где просит подтвердить скачивание (см. скрин окна подтверждения ниже)\\nurl='https://drive.google.com/file/d/1h2eXP4EyL8hYT2kZ0wmShAtp8Qz8HpNq/view?usp=sharing'\\nurl='https://drive.google.com/uc?id=' + url.split('/')[-2]\\ndf = pd.read_csv(url)\\n\""
      ]
     },
     "execution_count": 2,
     "metadata": {},
     "output_type": "execute_result"
    }
   ],
   "source": [
    "'''\n",
    "# неудачная попытка загрузки данных, т.к. файл очень большой вместо стандартного начала загрузки\n",
    "# гугл отправляет на страницу, где просит подтвердить скачивание (см. скрин окна подтверждения ниже)\n",
    "url='https://drive.google.com/file/d/1h2eXP4EyL8hYT2kZ0wmShAtp8Qz8HpNq/view?usp=sharing'\n",
    "url='https://drive.google.com/uc?id=' + url.split('/')[-2]\n",
    "df = pd.read_csv(url)\n",
    "'''"
   ]
  },
  {
   "attachments": {
    "image.png": {
     "image/png": "[encoded data removed]"
    }
   },
   "cell_type": "markdown",
   "id": "de52fc69",
   "metadata": {},
   "source": [
    "![image.png](attachment:image.png)"
   ]
  },
  {
   "cell_type": "markdown",
   "id": "13433378",
   "metadata": {},
   "source": [
    "Я скачал файл на свой ПК; в репозиторий клонировать его не буду; открою локально для анализа, дальнейшей работы."
   ]
  },
  {
   "cell_type": "code",
   "execution_count": 3,
   "id": "af424415",
   "metadata": {},
   "outputs": [],
   "source": [
    "path = '../../../6_database/us events ad_revenue filtered 03.02-07.02.csv'\n",
    "df = pd.read_csv(path)"
   ]
  },
  {
   "cell_type": "code",
   "execution_count": 4,
   "id": "f2489af8",
   "metadata": {
    "scrolled": false
   },
   "outputs": [
    {
     "data": {
      "text/html": [
       "<div>\n",
       "<style scoped>\n",
       "    .dataframe tbody tr th:only-of-type {\n",
       "        vertical-align: middle;\n",
       "    }\n",
       "\n",
       "    .dataframe tbody tr th {\n",
       "        vertical-align: top;\n",
       "    }\n",
       "\n",
       "    .dataframe thead th {\n",
       "        text-align: right;\n",
       "    }\n",
       "</style>\n",
       "<table border=\"1\" class=\"dataframe\">\n",
       "  <thead>\n",
       "    <tr style=\"text-align: right;\">\n",
       "      <th></th>\n",
       "      <th>profile_id</th>\n",
       "      <th>os_version</th>\n",
       "      <th>device_manufacturer</th>\n",
       "      <th>device_model</th>\n",
       "      <th>device_type</th>\n",
       "      <th>device_locale</th>\n",
       "      <th>event_name</th>\n",
       "      <th>event_json</th>\n",
       "      <th>event_datetime</th>\n",
       "      <th>event_timestamp</th>\n",
       "      <th>event_receive_datetime</th>\n",
       "      <th>event_receive_timestamp</th>\n",
       "      <th>connection_type</th>\n",
       "      <th>operator_name</th>\n",
       "      <th>country_iso_code</th>\n",
       "      <th>city</th>\n",
       "    </tr>\n",
       "  </thead>\n",
       "  <tbody>\n",
       "    <tr>\n",
       "      <th>0</th>\n",
       "      <td>JLjpGzDHBQm</td>\n",
       "      <td>11</td>\n",
       "      <td>Samsung</td>\n",
       "      <td>Galaxy Tab S6</td>\n",
       "      <td>tablet</td>\n",
       "      <td>en_US</td>\n",
       "      <td>c_ad_revenue</td>\n",
       "      <td>{\"ad_type\":\"banner\",\"placement\":\"\",\"view_index...</td>\n",
       "      <td>2022-02-04 20:02:28</td>\n",
       "      <td>1643994148</td>\n",
       "      <td>2022-02-06 17:58:19</td>\n",
       "      <td>1644159499</td>\n",
       "      <td>wifi</td>\n",
       "      <td>NaN</td>\n",
       "      <td>US</td>\n",
       "      <td>Norwalk</td>\n",
       "    </tr>\n",
       "    <tr>\n",
       "      <th>1</th>\n",
       "      <td>JLjpGzDHBQm</td>\n",
       "      <td>11</td>\n",
       "      <td>Samsung</td>\n",
       "      <td>Galaxy Tab S6</td>\n",
       "      <td>tablet</td>\n",
       "      <td>en_US</td>\n",
       "      <td>c_ad_revenue</td>\n",
       "      <td>{\"ad_type\":\"banner\",\"placement\":\"\",\"view_index...</td>\n",
       "      <td>2022-02-04 20:02:45</td>\n",
       "      <td>1643994165</td>\n",
       "      <td>2022-02-06 17:58:19</td>\n",
       "      <td>1644159499</td>\n",
       "      <td>wifi</td>\n",
       "      <td>NaN</td>\n",
       "      <td>US</td>\n",
       "      <td>Norwalk</td>\n",
       "    </tr>\n",
       "    <tr>\n",
       "      <th>2</th>\n",
       "      <td>JLkVacrzHY6</td>\n",
       "      <td>11</td>\n",
       "      <td>Google</td>\n",
       "      <td>Pixel 2</td>\n",
       "      <td>phone</td>\n",
       "      <td>en_US</td>\n",
       "      <td>c_ad_revenue</td>\n",
       "      <td>{\"ad_type\":\"banner\",\"placement\":\"\",\"view_index...</td>\n",
       "      <td>2022-02-05 17:53:05</td>\n",
       "      <td>1644072785</td>\n",
       "      <td>2022-02-06 16:59:29</td>\n",
       "      <td>1644155969</td>\n",
       "      <td>wifi</td>\n",
       "      <td>Verizon</td>\n",
       "      <td>US</td>\n",
       "      <td>Charlotte</td>\n",
       "    </tr>\n",
       "    <tr>\n",
       "      <th>3</th>\n",
       "      <td>JMC6wG3cX0f</td>\n",
       "      <td>10</td>\n",
       "      <td>Samsung</td>\n",
       "      <td>Galaxy S9</td>\n",
       "      <td>phone</td>\n",
       "      <td>en_US</td>\n",
       "      <td>c_ad_revenue</td>\n",
       "      <td>{\"ad_type\":\"int\",\"placement\":\"next_level\",\"vie...</td>\n",
       "      <td>2022-02-06 17:09:01</td>\n",
       "      <td>1644156541</td>\n",
       "      <td>2022-02-06 17:09:24</td>\n",
       "      <td>1644156564</td>\n",
       "      <td>wifi</td>\n",
       "      <td>T-Mobile</td>\n",
       "      <td>US</td>\n",
       "      <td>Cocoa</td>\n",
       "    </tr>\n",
       "    <tr>\n",
       "      <th>4</th>\n",
       "      <td>JLzWWTJfi1b</td>\n",
       "      <td>10</td>\n",
       "      <td>Samsung</td>\n",
       "      <td>Galaxy S9</td>\n",
       "      <td>phone</td>\n",
       "      <td>en_US</td>\n",
       "      <td>c_ad_revenue</td>\n",
       "      <td>{\"ad_type\":\"banner\",\"placement\":\"\",\"view_index...</td>\n",
       "      <td>2022-02-06 17:15:38</td>\n",
       "      <td>1644156938</td>\n",
       "      <td>2022-02-06 17:16:16</td>\n",
       "      <td>1644156976</td>\n",
       "      <td>cell</td>\n",
       "      <td>Verizon</td>\n",
       "      <td>US</td>\n",
       "      <td>NaN</td>\n",
       "    </tr>\n",
       "  </tbody>\n",
       "</table>\n",
       "</div>"
      ],
      "text/plain": [
       "    profile_id os_version device_manufacturer   device_model device_type  \\\n",
       "0  JLjpGzDHBQm         11             Samsung  Galaxy Tab S6      tablet   \n",
       "1  JLjpGzDHBQm         11             Samsung  Galaxy Tab S6      tablet   \n",
       "2  JLkVacrzHY6         11              Google        Pixel 2       phone   \n",
       "3  JMC6wG3cX0f         10             Samsung      Galaxy S9       phone   \n",
       "4  JLzWWTJfi1b         10             Samsung      Galaxy S9       phone   \n",
       "\n",
       "  device_locale    event_name  \\\n",
       "0         en_US  c_ad_revenue   \n",
       "1         en_US  c_ad_revenue   \n",
       "2         en_US  c_ad_revenue   \n",
       "3         en_US  c_ad_revenue   \n",
       "4         en_US  c_ad_revenue   \n",
       "\n",
       "                                          event_json       event_datetime  \\\n",
       "0  {\"ad_type\":\"banner\",\"placement\":\"\",\"view_index...  2022-02-04 20:02:28   \n",
       "1  {\"ad_type\":\"banner\",\"placement\":\"\",\"view_index...  2022-02-04 20:02:45   \n",
       "2  {\"ad_type\":\"banner\",\"placement\":\"\",\"view_index...  2022-02-05 17:53:05   \n",
       "3  {\"ad_type\":\"int\",\"placement\":\"next_level\",\"vie...  2022-02-06 17:09:01   \n",
       "4  {\"ad_type\":\"banner\",\"placement\":\"\",\"view_index...  2022-02-06 17:15:38   \n",
       "\n",
       "   event_timestamp event_receive_datetime  event_receive_timestamp  \\\n",
       "0       1643994148    2022-02-06 17:58:19               1644159499   \n",
       "1       1643994165    2022-02-06 17:58:19               1644159499   \n",
       "2       1644072785    2022-02-06 16:59:29               1644155969   \n",
       "3       1644156541    2022-02-06 17:09:24               1644156564   \n",
       "4       1644156938    2022-02-06 17:16:16               1644156976   \n",
       "\n",
       "  connection_type operator_name country_iso_code       city  \n",
       "0            wifi           NaN               US    Norwalk  \n",
       "1            wifi           NaN               US    Norwalk  \n",
       "2            wifi       Verizon               US  Charlotte  \n",
       "3            wifi      T-Mobile               US      Cocoa  \n",
       "4            cell      Verizon                US        NaN  "
      ]
     },
     "execution_count": 4,
     "metadata": {},
     "output_type": "execute_result"
    }
   ],
   "source": [
    "df.head()"
   ]
  },
  {
   "cell_type": "markdown",
   "id": "03da89c2",
   "metadata": {},
   "source": [
    "Данные открыты. Посмотрим на изначальные вид и структуру"
   ]
  },
  {
   "cell_type": "markdown",
   "id": "6af4a68d",
   "metadata": {},
   "source": [
    "# Предобработка данных"
   ]
  },
  {
   "cell_type": "markdown",
   "id": "d1a9a5fa",
   "metadata": {},
   "source": [
    "## Начальная. Понятие физ. сущностей"
   ]
  },
  {
   "cell_type": "code",
   "execution_count": 5,
   "id": "8453cdec",
   "metadata": {},
   "outputs": [
    {
     "data": {
      "text/plain": [
       "(860079, 16)"
      ]
     },
     "execution_count": 5,
     "metadata": {},
     "output_type": "execute_result"
    }
   ],
   "source": [
    "df.shape"
   ]
  },
  {
   "cell_type": "code",
   "execution_count": 6,
   "id": "48f670f7",
   "metadata": {},
   "outputs": [
    {
     "data": {
      "text/plain": [
       "profile_id                 object\n",
       "os_version                 object\n",
       "device_manufacturer        object\n",
       "device_model               object\n",
       "device_type                object\n",
       "device_locale              object\n",
       "event_name                 object\n",
       "event_json                 object\n",
       "event_datetime             object\n",
       "event_timestamp             int64\n",
       "event_receive_datetime     object\n",
       "event_receive_timestamp     int64\n",
       "connection_type            object\n",
       "operator_name              object\n",
       "country_iso_code           object\n",
       "city                       object\n",
       "dtype: object"
      ]
     },
     "execution_count": 6,
     "metadata": {},
     "output_type": "execute_result"
    }
   ],
   "source": [
    "df.dtypes"
   ]
  },
  {
   "cell_type": "code",
   "execution_count": 7,
   "id": "515c145e",
   "metadata": {
    "scrolled": true
   },
   "outputs": [
    {
     "name": "stdout",
     "output_type": "stream",
     "text": [
      "COLUMNS\n",
      "1) profile_id - id пользователя\n",
      "2) os_version\n",
      "3) device_manufacturer\n",
      "4) device_model\n",
      "5) device_type\n",
      "6) device_locale\n",
      "7) event_name\n",
      "8) event_json - содержит данные:\n",
      "    - ad_type      – формат рекламы (int [полноэкранная], banner или rv [по желанию])\n",
      "    - placement    – когда/где был показ рекламы в игре\n",
      "    - view_index   – номер показа конкретного формата рекламы для юзера (не поддерживается для баннеров)\n",
      "    - revenue      – доход от конкретного показа рекламы (eCPM = revenue * 1000)\n",
      "    - ads_ltv      – накапливающийся доход от рекламы, равен сумме всех revenue юзера\n",
      "    - network_name – рекламная сеть, от которой был показ\n",
      "9) event_datetime\n",
      "10) event_timestamp\n",
      "11) event_receive_datetime\n",
      "12) event_receive_timestamp\n",
      "13) connection_type\n",
      "14) operator_name\n",
      "15) country_iso_code\n",
      "16) city\n"
     ]
    }
   ],
   "source": [
    "k=0\n",
    "print('COLUMNS')\n",
    "for i in df.columns:\n",
    "    if i == 'profile_id': \n",
    "        k+=1\n",
    "        print(f'{str(k)}) {i} - id пользователя')\n",
    "    elif i == 'event_json':\n",
    "        k+=1\n",
    "        print(f'{str(k)}) {i} - содержит данные:')\n",
    "        print('''    - ad_type      – формат рекламы (int [полноэкранная], banner или rv [по желанию])\n",
    "    - placement    – когда/где был показ рекламы в игре\n",
    "    - view_index   – номер показа конкретного формата рекламы для юзера (не поддерживается для баннеров)\n",
    "    - revenue      – доход от конкретного показа рекламы (eCPM = revenue * 1000)\n",
    "    - ads_ltv      – накапливающийся доход от рекламы, равен сумме всех revenue юзера\n",
    "    - network_name – рекламная сеть, от которой был показ''')\n",
    "    else:\n",
    "        k+=1\n",
    "        print(f'{str(k)}) {i}')\n",
    "        "
   ]
  },
  {
   "cell_type": "markdown",
   "id": "728fad70",
   "metadata": {},
   "source": [
    "Посмотрим на данные в колонке event_json"
   ]
  },
  {
   "cell_type": "code",
   "execution_count": 8,
   "id": "4f4926e6",
   "metadata": {
    "scrolled": true
   },
   "outputs": [
    {
     "data": {
      "text/plain": [
       "{'ad_type': 'banner',\n",
       " 'placement': '',\n",
       " 'view_index': 1,\n",
       " 'session_view_index': 0,\n",
       " 'cur_ticks': 637795729492245130,\n",
       " 'session_length': 705.8807,\n",
       " 'revenue': 0.000510313,\n",
       " 'ads_ltv': 0.487876676518837,\n",
       " 'ecpm_sma': 0.511508107185364,\n",
       " 'normalized_ecpm_sma': 0.511508107185364,\n",
       " 'value': 0.000510313,\n",
       " 'currency': 'USD',\n",
       " 'ad_country_code': 'US',\n",
       " 'network_name': 'Google AdMob',\n",
       " 'ad_unit_id': '64c6b1114ea8c1cc',\n",
       " 'ad_network_placement': 'ca-app-pub-7511632782617496/8825263691',\n",
       " 'creativeId': 'CJ3XirfD5vUCFYPnKAUdG3MOYQ'}"
      ]
     },
     "execution_count": 8,
     "metadata": {},
     "output_type": "execute_result"
    }
   ],
   "source": [
    "json.loads(df.event_json[0])"
   ]
  },
  {
   "cell_type": "markdown",
   "id": "f1426ff2",
   "metadata": {},
   "source": [
    "Исследуем данные по каждой колонке, чтобы убедиться, что у нас все выгрузилось правильно, и чтобы \"познакомиться\" с данными"
   ]
  },
  {
   "cell_type": "code",
   "execution_count": 9,
   "id": "111f360a",
   "metadata": {},
   "outputs": [
    {
     "data": {
      "text/plain": [
       "4226"
      ]
     },
     "execution_count": 9,
     "metadata": {},
     "output_type": "execute_result"
    }
   ],
   "source": [
    "# 1 - колонка 1\n",
    "df.profile_id.nunique()  # vs. 860.079 rows in dataset"
   ]
  },
  {
   "cell_type": "code",
   "execution_count": 10,
   "id": "6357f3e8",
   "metadata": {},
   "outputs": [
    {
     "data": {
      "text/plain": [
       "'JLjpGzDHBQm'"
      ]
     },
     "execution_count": 10,
     "metadata": {},
     "output_type": "execute_result"
    }
   ],
   "source": [
    "df.profile_id[0]"
   ]
  },
  {
   "cell_type": "code",
   "execution_count": 11,
   "id": "523b7ce2",
   "metadata": {},
   "outputs": [
    {
     "data": {
      "text/plain": [
       "dtype('O')"
      ]
     },
     "execution_count": 11,
     "metadata": {},
     "output_type": "execute_result"
    }
   ],
   "source": [
    "df.profile_id.dtype"
   ]
  },
  {
   "cell_type": "code",
   "execution_count": 12,
   "id": "d8965fbb",
   "metadata": {},
   "outputs": [
    {
     "name": "stdout",
     "output_type": "stream",
     "text": [
      "['Samsung' 'Google' 'TCL' 'LG' 'OnePlus' 'Motorola' 'Teracube' 'Lenovo'\n",
      " 'T-Mobile' 'Verizon Wireless' 'Xiaomi' 'Alcatel' 'Cricket' 'Blu'\n",
      " 'Kyocera' 'Maxwest' 'Nokia' 'FIH' 'Dish' 'Schok' 'deejoy' 'AT&T' 'Zte'\n",
      " 'Redmi' 'Yulong' 'Wiko' 'Huawei' 'Onn (Walmart)' 'AEEZO' 'Asus' 'JOYAR'\n",
      " 'POCO' 'Ulefone' 'Razer']\n",
      "34\n"
     ]
    }
   ],
   "source": [
    "# 2 - колонка 3\n",
    "print(df.device_manufacturer.unique())  # all are android-devices?\n",
    "print(df.device_manufacturer.nunique())"
   ]
  },
  {
   "cell_type": "code",
   "execution_count": 13,
   "id": "2396bed8",
   "metadata": {},
   "outputs": [
    {
     "name": "stdout",
     "output_type": "stream",
     "text": [
      "['11' '10' '12' '9' '8.0.0' '6.0.1' '8.1.0' '7.0' '7.1.2' '7.1.1' '5.0.2']\n",
      "11\n"
     ]
    }
   ],
   "source": [
    "# 3 - колонка 2\n",
    "print(df.os_version.unique())\n",
    "print(df.os_version.nunique())  # 11"
   ]
  },
  {
   "cell_type": "code",
   "execution_count": 14,
   "id": "4e3e453f",
   "metadata": {},
   "outputs": [],
   "source": [
    "# 4 - колонка 4 (опускаем рассмотрение)"
   ]
  },
  {
   "cell_type": "code",
   "execution_count": 15,
   "id": "a1334f7b",
   "metadata": {},
   "outputs": [
    {
     "name": "stdout",
     "output_type": "stream",
     "text": [
      "['tablet' 'phone']\n"
     ]
    }
   ],
   "source": [
    "# 5 - колонка 5\n",
    "print(df.device_type.unique())"
   ]
  },
  {
   "cell_type": "code",
   "execution_count": 16,
   "id": "202f6cec",
   "metadata": {},
   "outputs": [
    {
     "name": "stdout",
     "output_type": "stream",
     "text": [
      "['en_US' 'en_GB' 'en_NL' 'ko_KR' 'en_CA' 'fr_FR' 'en_IN' 'en_AU'\n",
      " 'zh-Hant_TW']\n",
      "9\n"
     ]
    }
   ],
   "source": [
    "# 6 - колонка 6\n",
    "print(df.device_locale.unique())\n",
    "print(df.device_locale.nunique())  # 9 стран (6 en, 1 ko, 1 fr, 1 ch)"
   ]
  },
  {
   "cell_type": "code",
   "execution_count": 17,
   "id": "d5af139c",
   "metadata": {
    "scrolled": true
   },
   "outputs": [
    {
     "name": "stdout",
     "output_type": "stream",
     "text": [
      "['c_ad_revenue']\n"
     ]
    }
   ],
   "source": [
    "# 7 - колонка 7\n",
    "print(df.event_name.unique())  # лишняя колонка в этом dataset'е, т.к. не дает почти никакой информации"
   ]
  },
  {
   "cell_type": "markdown",
   "id": "70852936",
   "metadata": {},
   "source": [
    "- Задача: убрать колонку event_name из dataset'а"
   ]
  },
  {
   "cell_type": "code",
   "execution_count": 18,
   "id": "54104371",
   "metadata": {},
   "outputs": [],
   "source": [
    "# 8 - колонка 8 (пока пропустим, т.к. в ней лучше разобрать ее \"подколонки\"/ключи)"
   ]
  },
  {
   "cell_type": "code",
   "execution_count": 19,
   "id": "52607cc8",
   "metadata": {},
   "outputs": [],
   "source": [
    "# 9 - колонка 9"
   ]
  },
  {
   "cell_type": "code",
   "execution_count": 20,
   "id": "6df0e136",
   "metadata": {},
   "outputs": [
    {
     "data": {
      "text/plain": [
       "0    2022-02-04 20:02:28\n",
       "1    2022-02-04 20:02:45\n",
       "2    2022-02-05 17:53:05\n",
       "3    2022-02-06 17:09:01\n",
       "4    2022-02-06 17:15:38\n",
       "Name: event_datetime, dtype: object"
      ]
     },
     "execution_count": 20,
     "metadata": {},
     "output_type": "execute_result"
    }
   ],
   "source": [
    "df.event_datetime.head()  # дата открылась как объект"
   ]
  },
  {
   "cell_type": "markdown",
   "id": "b7b2aa1c",
   "metadata": {},
   "source": [
    "- ~~Задача: распарсить колонку event_datetime в тип datetime~~ (см. ниже)"
   ]
  },
  {
   "cell_type": "code",
   "execution_count": 21,
   "id": "cfda8a00",
   "metadata": {},
   "outputs": [
    {
     "data": {
      "text/plain": [
       "Timestamp('2022-02-04 20:02:28')"
      ]
     },
     "execution_count": 21,
     "metadata": {},
     "output_type": "execute_result"
    }
   ],
   "source": [
    "pd.to_datetime(df.event_datetime[0])"
   ]
  },
  {
   "cell_type": "code",
   "execution_count": 22,
   "id": "c8724e3c",
   "metadata": {},
   "outputs": [
    {
     "data": {
      "text/plain": [
       "0    1643994148\n",
       "1    1643994165\n",
       "2    1644072785\n",
       "3    1644156541\n",
       "4    1644156938\n",
       "Name: event_timestamp, dtype: int64"
      ]
     },
     "execution_count": 22,
     "metadata": {},
     "output_type": "execute_result"
    }
   ],
   "source": [
    "# 10 - колонка 10\n",
    "df.event_timestamp.head()"
   ]
  },
  {
   "cell_type": "code",
   "execution_count": 23,
   "id": "c96646eb",
   "metadata": {},
   "outputs": [
    {
     "data": {
      "text/plain": [
       "Timestamp('2022-02-04 17:02:28')"
      ]
     },
     "execution_count": 23,
     "metadata": {},
     "output_type": "execute_result"
    }
   ],
   "source": [
    "pd.Timestamp(df.event_timestamp[0], unit='s')"
   ]
  },
  {
   "cell_type": "markdown",
   "id": "1e1c2b5e",
   "metadata": {},
   "source": [
    "Мы имеем в колонках 9 и 10 одни и те же данные, но выраженные разным способом:\n",
    "- Данные: время наступления события (показ рекламы)\n",
    "- Колонка 10 / event_timestamp: время наступления события в секундах от полуночи 1 января 1970 года по UTC\n",
    "- Колонка 9 / event_datetime: тогда должно быть временем наступления события (local time)\n",
    "\n",
    "Проверим:"
   ]
  },
  {
   "cell_type": "code",
   "execution_count": 24,
   "id": "5155c90c",
   "metadata": {},
   "outputs": [
    {
     "data": {
      "text/plain": [
       "profile_id                                                       JLjpGzDHBQm\n",
       "os_version                                                                11\n",
       "device_manufacturer                                                  Samsung\n",
       "device_model                                                   Galaxy Tab S6\n",
       "device_type                                                           tablet\n",
       "device_locale                                                          en_US\n",
       "event_name                                                      c_ad_revenue\n",
       "event_json                 {\"ad_type\":\"banner\",\"placement\":\"\",\"view_index...\n",
       "event_datetime                                           2022-02-04 20:02:28\n",
       "event_timestamp                                                   1643994148\n",
       "event_receive_datetime                                   2022-02-06 17:58:19\n",
       "event_receive_timestamp                                           1644159499\n",
       "connection_type                                                         wifi\n",
       "operator_name                                                            NaN\n",
       "country_iso_code                                                          US\n",
       "city                                                                 Norwalk\n",
       "Name: 0, dtype: object"
      ]
     },
     "execution_count": 24,
     "metadata": {},
     "output_type": "execute_result"
    }
   ],
   "source": [
    "df.loc[0]"
   ]
  },
  {
   "cell_type": "code",
   "execution_count": 25,
   "id": "d0213903",
   "metadata": {},
   "outputs": [
    {
     "data": {
      "text/plain": [
       "Timestamp('2022-02-04 20:02:28')"
      ]
     },
     "execution_count": 25,
     "metadata": {},
     "output_type": "execute_result"
    }
   ],
   "source": [
    "should_be_local = pd.to_datetime(df.loc[0].event_datetime)\n",
    "should_be_local"
   ]
  },
  {
   "cell_type": "code",
   "execution_count": 26,
   "id": "b89a748f",
   "metadata": {},
   "outputs": [
    {
     "data": {
      "text/plain": [
       "Timestamp('2022-02-04 17:02:28')"
      ]
     },
     "execution_count": 26,
     "metadata": {},
     "output_type": "execute_result"
    }
   ],
   "source": [
    "should_be_united = pd.Timestamp(df.loc[0].event_timestamp, unit='s')\n",
    "should_be_united"
   ]
  },
  {
   "cell_type": "code",
   "execution_count": 27,
   "id": "e9d555ba",
   "metadata": {},
   "outputs": [
    {
     "data": {
      "text/plain": [
       "Timedelta('0 days 03:00:00')"
      ]
     },
     "execution_count": 27,
     "metadata": {},
     "output_type": "execute_result"
    }
   ],
   "source": [
    "# should_be_tzdiff\n",
    "# # UTC +- tz_diff = loc\n",
    "should_be_local - should_be_united  # получилось, что tz Норуолка UTC+3, а по данным Wiki -5 (зима) или -4 (лето)"
   ]
  },
  {
   "cell_type": "markdown",
   "id": "3b3ea9c2",
   "metadata": {},
   "source": [
    "Таким образом, есть ошибка и в знаке, и по модулю, что говорит о том, что скорее всего я неправильно понял физ. сущности этих колонок. Так как уточнять сейчас нет времени, то буду действовать так:\n",
    "- буду смотреть на время UTC, на то оно и united, что по нему удобно смотреть разницу\n",
    "- если будет необходимость определить местное время суток для суточной аналитики, то ... (хотел было сказать, что буду использовать event_datetime, но это ненадежно, т.к. ошибка была еще и по знаку)"
   ]
  },
  {
   "cell_type": "markdown",
   "id": "8888824b",
   "metadata": {},
   "source": [
    "Тогда:\n",
    "- Задача: распарсить колонку event_timestamp в тип Timestamp\n",
    "- Задача: дроппнуть колонку event_datetime, т.к. я не смогу ее использовать, не поняв физ. сущность"
   ]
  },
  {
   "cell_type": "code",
   "execution_count": 28,
   "id": "1a12595d",
   "metadata": {},
   "outputs": [],
   "source": [
    "# 11, 12 - колонки 11 и 12"
   ]
  },
  {
   "cell_type": "markdown",
   "id": "89166fbd",
   "metadata": {},
   "source": [
    "Я полагаю, что дела с колонками 11 и 12 у меня будут похожи на то, что было с 9 и 10 поэтому сразу задачи:\n",
    "- Задача: распарсить колонку event_receive_timestamp в тип Timestamp\n",
    "- Задача: дроппнуть колонку event_receive_datetime, т.к. я не смогу ее использовать, не поняв физ. сущность"
   ]
  },
  {
   "cell_type": "markdown",
   "id": "7b9fb886",
   "metadata": {},
   "source": [
    "Но мне нужно понять, как соотносятся между собой event_timestamp и event_receive_timestamp."
   ]
  },
  {
   "cell_type": "code",
   "execution_count": 29,
   "id": "a9a4ad09",
   "metadata": {},
   "outputs": [
    {
     "data": {
      "text/plain": [
       "Timestamp('2022-02-04 17:02:28')"
      ]
     },
     "execution_count": 29,
     "metadata": {},
     "output_type": "execute_result"
    }
   ],
   "source": [
    "pd.Timestamp(df.loc[0].event_timestamp, unit='s')"
   ]
  },
  {
   "cell_type": "code",
   "execution_count": 30,
   "id": "b1770d49",
   "metadata": {},
   "outputs": [
    {
     "data": {
      "text/plain": [
       "Timestamp('2022-02-06 14:58:19')"
      ]
     },
     "execution_count": 30,
     "metadata": {},
     "output_type": "execute_result"
    }
   ],
   "source": [
    "pd.Timestamp(df.loc[0].event_receive_timestamp, unit='s')"
   ]
  },
  {
   "cell_type": "markdown",
   "id": "0823803a",
   "metadata": {},
   "source": [
    "Есть мнение, что event_receive_timestamp означает время получения revenue с произошедшего события (показа рекламы). Если это действительно так, то должно быть выполненно (imho) следующее условие:\n",
    "- event_timestamp всегда должно быть меньше event_receive_timestamp, если мы говорим о сдельной оплате\n",
    "\n",
    "Проверим это:"
   ]
  },
  {
   "cell_type": "code",
   "execution_count": 31,
   "id": "093392d3",
   "metadata": {},
   "outputs": [],
   "source": [
    "df1 = df[['event_timestamp', 'event_receive_timestamp']]"
   ]
  },
  {
   "cell_type": "code",
   "execution_count": 32,
   "id": "1e96788f",
   "metadata": {
    "scrolled": false
   },
   "outputs": [
    {
     "name": "stderr",
     "output_type": "stream",
     "text": [
      "C:\\Users\\OldNick\\AppData\\Local\\Temp\\ipykernel_1560\\1789636172.py:1: SettingWithCopyWarning: \n",
      "A value is trying to be set on a copy of a slice from a DataFrame.\n",
      "Try using .loc[row_indexer,col_indexer] = value instead\n",
      "\n",
      "See the caveats in the documentation: https://pandas.pydata.org/pandas-docs/stable/user_guide/indexing.html#returning-a-view-versus-a-copy\n",
      "  df1['event_receive_timestamp'] = df1['event_receive_timestamp'].apply(lambda x: pd.Timestamp(x, unit='s'))\n",
      "C:\\Users\\OldNick\\AppData\\Local\\Temp\\ipykernel_1560\\1789636172.py:2: SettingWithCopyWarning: \n",
      "A value is trying to be set on a copy of a slice from a DataFrame.\n",
      "Try using .loc[row_indexer,col_indexer] = value instead\n",
      "\n",
      "See the caveats in the documentation: https://pandas.pydata.org/pandas-docs/stable/user_guide/indexing.html#returning-a-view-versus-a-copy\n",
      "  df1['event_timestamp'] = df1['event_timestamp'].apply(lambda x: pd.Timestamp(x, unit='s'))\n"
     ]
    }
   ],
   "source": [
    "df1['event_receive_timestamp'] = df1['event_receive_timestamp'].apply(lambda x: pd.Timestamp(x, unit='s'))\n",
    "df1['event_timestamp'] = df1['event_timestamp'].apply(lambda x: pd.Timestamp(x, unit='s'))"
   ]
  },
  {
   "cell_type": "code",
   "execution_count": 33,
   "id": "33c449f5",
   "metadata": {},
   "outputs": [
    {
     "data": {
      "text/html": [
       "<div>\n",
       "<style scoped>\n",
       "    .dataframe tbody tr th:only-of-type {\n",
       "        vertical-align: middle;\n",
       "    }\n",
       "\n",
       "    .dataframe tbody tr th {\n",
       "        vertical-align: top;\n",
       "    }\n",
       "\n",
       "    .dataframe thead th {\n",
       "        text-align: right;\n",
       "    }\n",
       "</style>\n",
       "<table border=\"1\" class=\"dataframe\">\n",
       "  <thead>\n",
       "    <tr style=\"text-align: right;\">\n",
       "      <th></th>\n",
       "      <th>event_timestamp</th>\n",
       "      <th>event_receive_timestamp</th>\n",
       "    </tr>\n",
       "  </thead>\n",
       "  <tbody>\n",
       "    <tr>\n",
       "      <th>0</th>\n",
       "      <td>2022-02-04 17:02:28</td>\n",
       "      <td>2022-02-06 14:58:19</td>\n",
       "    </tr>\n",
       "    <tr>\n",
       "      <th>1</th>\n",
       "      <td>2022-02-04 17:02:45</td>\n",
       "      <td>2022-02-06 14:58:19</td>\n",
       "    </tr>\n",
       "    <tr>\n",
       "      <th>2</th>\n",
       "      <td>2022-02-05 14:53:05</td>\n",
       "      <td>2022-02-06 13:59:29</td>\n",
       "    </tr>\n",
       "    <tr>\n",
       "      <th>3</th>\n",
       "      <td>2022-02-06 14:09:01</td>\n",
       "      <td>2022-02-06 14:09:24</td>\n",
       "    </tr>\n",
       "    <tr>\n",
       "      <th>4</th>\n",
       "      <td>2022-02-06 14:15:38</td>\n",
       "      <td>2022-02-06 14:16:16</td>\n",
       "    </tr>\n",
       "  </tbody>\n",
       "</table>\n",
       "</div>"
      ],
      "text/plain": [
       "      event_timestamp event_receive_timestamp\n",
       "0 2022-02-04 17:02:28     2022-02-06 14:58:19\n",
       "1 2022-02-04 17:02:45     2022-02-06 14:58:19\n",
       "2 2022-02-05 14:53:05     2022-02-06 13:59:29\n",
       "3 2022-02-06 14:09:01     2022-02-06 14:09:24\n",
       "4 2022-02-06 14:15:38     2022-02-06 14:16:16"
      ]
     },
     "execution_count": 33,
     "metadata": {},
     "output_type": "execute_result"
    }
   ],
   "source": [
    "df1.head()"
   ]
  },
  {
   "cell_type": "code",
   "execution_count": 34,
   "id": "63939833",
   "metadata": {
    "scrolled": true
   },
   "outputs": [
    {
     "data": {
      "text/plain": [
       "event_timestamp            datetime64[ns]\n",
       "event_receive_timestamp    datetime64[ns]\n",
       "dtype: object"
      ]
     },
     "execution_count": 34,
     "metadata": {},
     "output_type": "execute_result"
    }
   ],
   "source": [
    "df1.dtypes"
   ]
  },
  {
   "cell_type": "code",
   "execution_count": 35,
   "id": "dee0b674",
   "metadata": {},
   "outputs": [
    {
     "data": {
      "text/plain": [
       "True"
      ]
     },
     "execution_count": 35,
     "metadata": {},
     "output_type": "execute_result"
    }
   ],
   "source": [
    "# Если мое предположение выше верно, то все записи в df1 (а значит и в df тоже) должны удовлетворять: \n",
    "df1.event_receive_timestamp.loc[0] > df1.event_timestamp.loc[0]"
   ]
  },
  {
   "cell_type": "code",
   "execution_count": 36,
   "id": "0e46ce0b",
   "metadata": {},
   "outputs": [
    {
     "data": {
      "text/plain": [
       "11220"
      ]
     },
     "execution_count": 36,
     "metadata": {},
     "output_type": "execute_result"
    }
   ],
   "source": [
    "# Есть ли такие записи, в которых это утверждение неверно:\n",
    "df1.query('event_receive_timestamp < event_timestamp').shape[0]"
   ]
  },
  {
   "cell_type": "markdown",
   "id": "10027656",
   "metadata": {},
   "source": [
    "Есть и их достаточно...\n",
    "\n",
    "А какая разница во времени в таких записях?"
   ]
  },
  {
   "cell_type": "code",
   "execution_count": 37,
   "id": "c8fd12ba",
   "metadata": {},
   "outputs": [
    {
     "name": "stdout",
     "output_type": "stream",
     "text": [
      "0 days 00:01:15\n",
      "0 days 00:00:01\n"
     ]
    }
   ],
   "source": [
    "print(max(df1.query('event_receive_timestamp < event_timestamp').event_timestamp - \n",
    "    df1.query('event_receive_timestamp < event_timestamp').event_receive_timestamp))\n",
    "print(min(df1.query('event_receive_timestamp < event_timestamp').event_timestamp - \n",
    "    df1.query('event_receive_timestamp < event_timestamp').event_receive_timestamp))"
   ]
  },
  {
   "cell_type": "markdown",
   "id": "94047337",
   "metadata": {},
   "source": [
    "У меня не осталось пока идей о том, чем отличаются колонки event_receive_timestamp и event_timestamp. Поступим также как и с любой информаций, по которой не ясна ее физ. сущность и пока нет возможности/времени узнать: дроппнем. Таким образом, у нас останется только время самого event'а (показ рекламы)."
   ]
  },
  {
   "cell_type": "markdown",
   "id": "2f5bfac6",
   "metadata": {},
   "source": [
    "- Задача: дроппнуть колонку event_receive_timestamp (тоже), т.к. я не смогу ее использовать, не поняв физ. сущность"
   ]
  },
  {
   "cell_type": "code",
   "execution_count": 38,
   "id": "f65a24b8",
   "metadata": {},
   "outputs": [
    {
     "data": {
      "text/plain": [
       "array(['wifi', 'cell', 'unknown'], dtype=object)"
      ]
     },
     "execution_count": 38,
     "metadata": {},
     "output_type": "execute_result"
    }
   ],
   "source": [
    "# 13 - колонка 13\n",
    "df.connection_type.unique()"
   ]
  },
  {
   "cell_type": "code",
   "execution_count": 39,
   "id": "ae9ab4e4",
   "metadata": {},
   "outputs": [
    {
     "data": {
      "text/plain": [
       "92"
      ]
     },
     "execution_count": 39,
     "metadata": {},
     "output_type": "execute_result"
    }
   ],
   "source": [
    "# 14 - колонка 14\n",
    "df.operator_name.nunique()"
   ]
  },
  {
   "cell_type": "code",
   "execution_count": 40,
   "id": "cb8f67b2",
   "metadata": {
    "scrolled": true
   },
   "outputs": [
    {
     "name": "stdout",
     "output_type": "stream",
     "text": [
      "['US']\n"
     ]
    }
   ],
   "source": [
    "# 15 - колонка 15\n",
    "print(df.country_iso_code.unique())"
   ]
  },
  {
   "cell_type": "code",
   "execution_count": 41,
   "id": "11cb6116",
   "metadata": {},
   "outputs": [
    {
     "data": {
      "text/plain": [
       "920"
      ]
     },
     "execution_count": 41,
     "metadata": {},
     "output_type": "execute_result"
    }
   ],
   "source": [
    "# 16 - колонка 16\n",
    "df.city.nunique()"
   ]
  },
  {
   "cell_type": "markdown",
   "id": "5a550d67",
   "metadata": {},
   "source": [
    "Теперь вернемся к колонке 8: event_json, - и постараемся понять физ. сущность каждого ключа "
   ]
  },
  {
   "cell_type": "code",
   "execution_count": 42,
   "id": "3f703b74",
   "metadata": {},
   "outputs": [
    {
     "data": {
      "text/plain": [
       "{'ad_type': 'banner',\n",
       " 'placement': '',\n",
       " 'view_index': 1,\n",
       " 'session_view_index': 0,\n",
       " 'cur_ticks': 637795729492245130,\n",
       " 'session_length': 705.8807,\n",
       " 'revenue': 0.000510313,\n",
       " 'ads_ltv': 0.487876676518837,\n",
       " 'ecpm_sma': 0.511508107185364,\n",
       " 'normalized_ecpm_sma': 0.511508107185364,\n",
       " 'value': 0.000510313,\n",
       " 'currency': 'USD',\n",
       " 'ad_country_code': 'US',\n",
       " 'network_name': 'Google AdMob',\n",
       " 'ad_unit_id': '64c6b1114ea8c1cc',\n",
       " 'ad_network_placement': 'ca-app-pub-7511632782617496/8825263691',\n",
       " 'creativeId': 'CJ3XirfD5vUCFYPnKAUdG3MOYQ'}"
      ]
     },
     "execution_count": 42,
     "metadata": {},
     "output_type": "execute_result"
    }
   ],
   "source": [
    "json.loads(df.event_json[0])"
   ]
  },
  {
   "cell_type": "code",
   "execution_count": 43,
   "id": "f836cc1c",
   "metadata": {},
   "outputs": [
    {
     "name": "stdout",
     "output_type": "stream",
     "text": [
      "1) ad_type\n",
      "2) placement\n",
      "3) view_index\n",
      "4) session_view_index\n",
      "5) cur_ticks\n",
      "6) session_length\n",
      "7) revenue\n",
      "8) ads_ltv\n",
      "9) ecpm_sma\n",
      "10) normalized_ecpm_sma\n",
      "11) value\n",
      "12) currency\n",
      "13) ad_country_code\n",
      "14) network_name\n",
      "15) ad_unit_id\n",
      "16) ad_network_placement\n",
      "17) creativeId\n"
     ]
    }
   ],
   "source": [
    "k=0\n",
    "for i in json.loads(df.event_json[0]):\n",
    "    k+=1\n",
    "    print(f'{k}) {i}')"
   ]
  },
  {
   "cell_type": "markdown",
   "id": "c3ff3fdf",
   "metadata": {},
   "source": [
    "ключ 1 - ad_type\n",
    "- формат рекламы (int, banner или rv)"
   ]
  },
  {
   "cell_type": "markdown",
   "id": "f96958ee",
   "metadata": {},
   "source": [
    "ключ 2 - placement\n",
    "- когда/где был показ рекламы в игре\n",
    "\n",
    "А какие значения вообще может принимать этот ключ?"
   ]
  },
  {
   "cell_type": "code",
   "execution_count": 44,
   "id": "1b81977e",
   "metadata": {},
   "outputs": [],
   "source": [
    "s = []\n",
    "for i in df.event_json:\n",
    "    j = json.loads(i)\n",
    "    s.append(j['placement'])"
   ]
  },
  {
   "cell_type": "code",
   "execution_count": 45,
   "id": "3485487e",
   "metadata": {},
   "outputs": [],
   "source": [
    "s = pd.Series(s)"
   ]
  },
  {
   "cell_type": "code",
   "execution_count": 46,
   "id": "3d5b109b",
   "metadata": {
    "scrolled": true
   },
   "outputs": [
    {
     "name": "stdout",
     "output_type": "stream",
     "text": [
      "['' 'next_level' 'replay' 'lose_offer_attempt' 'game_repeating_reward'\n",
      " 'double_coins' 'game_repeating_reward_int' 'lose_offer_attempt_int'\n",
      " 'double_coins_int']\n",
      "9\n"
     ]
    }
   ],
   "source": [
    "print(s.unique())\n",
    "print(s.nunique())"
   ]
  },
  {
   "cell_type": "markdown",
   "id": "64d86799",
   "metadata": {},
   "source": [
    "ключ 3 - view_index\n",
    "- номер показа конкретного формата рекламы для юзера (не поддерживается для баннеров)"
   ]
  },
  {
   "cell_type": "markdown",
   "id": "30f8a299",
   "metadata": {},
   "source": [
    "ключ 4 - session_view_index\n",
    "- я полагаю, это то же самое, что и ключ 3, но \"на сессию\" (да)\n",
    "\n",
    "Если я полагаю верно, то по всему dataset'у среднее значение session_view_index должно быть меньше среднего по колонке view_index, т.к. количество показов (номер по счету) одного и того же формата рекламы за одну сессию д.б. меньше этого же значения за все время нахождения пользователя в нашем продукте.\n",
    "\n",
    "Проверим:"
   ]
  },
  {
   "cell_type": "code",
   "execution_count": 47,
   "id": "002c1501",
   "metadata": {},
   "outputs": [
    {
     "data": {
      "text/plain": [
       "0.2417359335595916"
      ]
     },
     "execution_count": 47,
     "metadata": {},
     "output_type": "execute_result"
    }
   ],
   "source": [
    "s = []\n",
    "for i in df.event_json:\n",
    "    j = json.loads(i)\n",
    "    s.append(j['session_view_index'])\n",
    "np.mean(s)"
   ]
  },
  {
   "cell_type": "code",
   "execution_count": 48,
   "id": "77e28b89",
   "metadata": {},
   "outputs": [
    {
     "data": {
      "text/plain": [
       "2.0492198972419975"
      ]
     },
     "execution_count": 48,
     "metadata": {},
     "output_type": "execute_result"
    }
   ],
   "source": [
    "s = []\n",
    "for i in df.event_json:\n",
    "    j = json.loads(i)\n",
    "    s.append(j['view_index'])\n",
    "np.mean(s)"
   ]
  },
  {
   "cell_type": "code",
   "execution_count": 49,
   "id": "ff0ebf36",
   "metadata": {},
   "outputs": [],
   "source": [
    "# 0.24 < 2.05"
   ]
  },
  {
   "cell_type": "markdown",
   "id": "9a158b25",
   "metadata": {},
   "source": [
    "Необходимое условие выполнено, но оно все еще не является достаточным. Однако, всвязи со все теми же ограничивающими факторами выполнения данной работы, я буду считать, что мое предположение, что session_view_index - это то же самое, что и ключ 3, но \"на сессию\", - является верным."
   ]
  },
  {
   "cell_type": "markdown",
   "id": "2c87230b",
   "metadata": {},
   "source": [
    "ключ 5 - cur_ticks\n",
    "- ???\n",
    "\n",
    "Посмотрим на данные:"
   ]
  },
  {
   "cell_type": "code",
   "execution_count": 50,
   "id": "98bf2ad4",
   "metadata": {},
   "outputs": [],
   "source": [
    "s = []\n",
    "for i in df.event_json:\n",
    "    j = json.loads(i)\n",
    "    s.append(j['cur_ticks'])"
   ]
  },
  {
   "cell_type": "code",
   "execution_count": 51,
   "id": "24565e00",
   "metadata": {},
   "outputs": [],
   "source": [
    "s = pd.Series(s)"
   ]
  },
  {
   "cell_type": "code",
   "execution_count": 52,
   "id": "5dd1a55e",
   "metadata": {
    "scrolled": false
   },
   "outputs": [
    {
     "name": "stdout",
     "output_type": "stream",
     "text": [
      "637789966605885450\n",
      "637800525602753930\n",
      "10558996868480\n"
     ]
    }
   ],
   "source": [
    "# как и обозначил выше ¯\\_(ツ)_/¯\n",
    "print(s.min())\n",
    "print(s.max())\n",
    "print(s.max()-s.min())\n",
    "\n",
    "# мог бы сделать это в одно движение - дроппнул бы :)"
   ]
  },
  {
   "cell_type": "markdown",
   "id": "06cc4121",
   "metadata": {},
   "source": [
    "ключ 6 - session_length\n",
    "- ??? длительность сессии (одной игровой?)\n",
    "\n",
    "Посмотрим на данные:"
   ]
  },
  {
   "cell_type": "code",
   "execution_count": 53,
   "id": "93be8997",
   "metadata": {},
   "outputs": [],
   "source": [
    "s = []\n",
    "for i in df.event_json:\n",
    "    j = json.loads(i)\n",
    "    s.append(j['session_length'])\n",
    "s = pd.Series(s)"
   ]
  },
  {
   "cell_type": "code",
   "execution_count": 54,
   "id": "8efc4839",
   "metadata": {},
   "outputs": [
    {
     "name": "stdout",
     "output_type": "stream",
     "text": [
      "2.208125\n",
      "394117.6\n"
     ]
    }
   ],
   "source": [
    "print(s.min())\n",
    "print(s.max())"
   ]
  },
  {
   "cell_type": "markdown",
   "id": "4cd1a7e2",
   "metadata": {},
   "source": [
    "Так как значения принимают вещественные значения (прошу прощения за тавтологию), то это точно не время в секундах.\n",
    "Если мы говорим об одной сессии (игрок зашел в игру - вышел из нее), то она явно не должна быть длительностью в месяцы и годы. С учетом этого, может быть, что это время в минутах?"
   ]
  },
  {
   "cell_type": "code",
   "execution_count": 55,
   "id": "6e3ea47a",
   "metadata": {},
   "outputs": [
    {
     "data": {
      "text/plain": [
       "9.0"
      ]
     },
     "execution_count": 55,
     "metadata": {},
     "output_type": "execute_result"
    }
   ],
   "source": [
    "# тогда\n",
    "np.round(s.max()/60/24/30)"
   ]
  },
  {
   "cell_type": "markdown",
   "id": "42640d1d",
   "metadata": {},
   "source": [
    "Не очень похоже на правду, что какой-то игрок мог играть подряд одну сессию 9 мес. подряд. Поэтому оставим этот ключ непознанным."
   ]
  },
  {
   "cell_type": "markdown",
   "id": "a3032c62",
   "metadata": {},
   "source": [
    "ключ 7 - revenue\n",
    "- доход от конкретного показа рекламы (eCPM = revenue * 1000)"
   ]
  },
  {
   "cell_type": "markdown",
   "id": "1508d3b9",
   "metadata": {},
   "source": [
    "ключ 8 - ads_ltv\n",
    "- накапливающийся доход от рекламы, равен сумме всех revenue юзера\n",
    "\n",
    "Т.о., если я правильно понял, что это просто накопительная сумма всех доходов с одного юзера, то последняя по дате запись в dataset'е для каждого пользователя должна быть наибольшей из всех.\n",
    "\n",
    "Проверим:"
   ]
  },
  {
   "cell_type": "code",
   "execution_count": 56,
   "id": "0c60a01d",
   "metadata": {},
   "outputs": [
    {
     "data": {
      "text/plain": [
       "'JL5pmKYe8g7'"
      ]
     },
     "execution_count": 56,
     "metadata": {},
     "output_type": "execute_result"
    }
   ],
   "source": [
    "# возьмем самого топового с т.з. количества event'ов пользователя\n",
    "df[['profile_id', 'event_json']].groupby('profile_id').agg('count').sort_values('event_json').iloc[-1].name"
   ]
  },
  {
   "cell_type": "code",
   "execution_count": 57,
   "id": "e442e9d0",
   "metadata": {},
   "outputs": [],
   "source": [
    "df1 = df.query('profile_id == \"JL5pmKYe8g7\"')[['event_timestamp', 'event_json']]"
   ]
  },
  {
   "cell_type": "code",
   "execution_count": 58,
   "id": "38404686",
   "metadata": {},
   "outputs": [],
   "source": [
    "df1['event_timestamp'] = df1['event_timestamp'].apply(lambda x: pd.Timestamp(x, unit='s'))"
   ]
  },
  {
   "cell_type": "code",
   "execution_count": 59,
   "id": "7703563c",
   "metadata": {},
   "outputs": [],
   "source": [
    "# и сравним то, что значения ads_ltv отсортированные по колонке event_timestamp и по самой ads_ltv эквивалентны\n",
    "df1 = df1.sort_values('event_timestamp', ascending=False)"
   ]
  },
  {
   "cell_type": "code",
   "execution_count": 60,
   "id": "4826e378",
   "metadata": {},
   "outputs": [],
   "source": [
    "s = []\n",
    "for i in df1.event_json:\n",
    "    j = json.loads(i)\n",
    "    s.append(j['ads_ltv'])\n",
    "s = pd.Series(s)"
   ]
  },
  {
   "cell_type": "code",
   "execution_count": 61,
   "id": "b148ef84",
   "metadata": {},
   "outputs": [],
   "source": [
    "s1 = s.sort_values(ascending=False)"
   ]
  },
  {
   "cell_type": "code",
   "execution_count": 62,
   "id": "fd01e780",
   "metadata": {},
   "outputs": [
    {
     "name": "stdout",
     "output_type": "stream",
     "text": [
      "[ True]\n"
     ]
    }
   ],
   "source": [
    "print(s.eq(s1).unique())"
   ]
  },
  {
   "cell_type": "markdown",
   "id": "454fcc33",
   "metadata": {},
   "source": [
    "Отлично, необходимое условие выполнено."
   ]
  },
  {
   "cell_type": "markdown",
   "id": "df09c6dc",
   "metadata": {},
   "source": [
    "ключ 9 - ecpm_sma\n",
    "- это eCPM (revenue/1000), т.к. более никокого eCPM в данных не наблюдается\n",
    "\n",
    "(Но что за приписка sma?)"
   ]
  },
  {
   "cell_type": "markdown",
   "id": "2505c9ed",
   "metadata": {},
   "source": [
    "ключ 10 - normalized_ecpm_sma\n",
    "- это eCPM, каким-то образом нормированная\n",
    "\n",
    "Но каким? - на этот вопрос можно попробовать найти ответ, если рассмотреть 2е колонки с eCPM (нормализованную и нет) и применить к ненормализованной стандартные способы нормализации (log, деление на время сессии, например), но всвязи с тем, что в задании этого требования нет, и что время ограничено, я этого здесь делать не буду"
   ]
  },
  {
   "cell_type": "markdown",
   "id": "579f1194",
   "metadata": {},
   "source": [
    "ключ 11 - value\n",
    "- ???\n",
    "\n",
    "Посмотрим:"
   ]
  },
  {
   "cell_type": "code",
   "execution_count": 63,
   "id": "c2502845",
   "metadata": {
    "scrolled": true
   },
   "outputs": [],
   "source": [
    "s = []\n",
    "for i in df.event_json:\n",
    "    j = json.loads(i)\n",
    "    s.append(j['value'])\n",
    "s = pd.Series(s)"
   ]
  },
  {
   "cell_type": "code",
   "execution_count": 64,
   "id": "a757f1cd",
   "metadata": {},
   "outputs": [
    {
     "data": {
      "text/plain": [
       "0    0.000510\n",
       "1    0.000510\n",
       "2    0.002386\n",
       "3    0.013894\n",
       "4    0.006828\n",
       "dtype: float64"
      ]
     },
     "execution_count": 64,
     "metadata": {},
     "output_type": "execute_result"
    }
   ],
   "source": [
    "s.head()"
   ]
  },
  {
   "cell_type": "code",
   "execution_count": 65,
   "id": "179bd2ae",
   "metadata": {},
   "outputs": [
    {
     "data": {
      "text/plain": [
       "count    860079.000000\n",
       "mean          0.002780\n",
       "std           0.015129\n",
       "min           0.000000\n",
       "25%           0.000046\n",
       "50%           0.000494\n",
       "75%           0.000533\n",
       "max           0.937196\n",
       "dtype: float64"
      ]
     },
     "execution_count": 65,
     "metadata": {},
     "output_type": "execute_result"
    }
   ],
   "source": [
    "s.describe()"
   ]
  },
  {
   "cell_type": "markdown",
   "id": "8f4a4c8d",
   "metadata": {},
   "source": [
    "Могу предположить, что это связано с колонкой currency, но тогда что это за значение, если есть revenue?\n",
    "В общем, решение такое же: в задании не нужно, время ограничено, не рассматриваю."
   ]
  },
  {
   "cell_type": "markdown",
   "id": "cb613a03",
   "metadata": {},
   "source": [
    "ключ 12 - currency\n",
    "- валюта"
   ]
  },
  {
   "cell_type": "code",
   "execution_count": 66,
   "id": "e46cfb73",
   "metadata": {},
   "outputs": [],
   "source": [
    "s = []\n",
    "for i in df.event_json:\n",
    "    j = json.loads(i)\n",
    "    s.append(j['currency'])\n",
    "s = pd.Series(s)"
   ]
  },
  {
   "cell_type": "code",
   "execution_count": 67,
   "id": "212ebb6f",
   "metadata": {
    "scrolled": true
   },
   "outputs": [
    {
     "data": {
      "text/plain": [
       "array(['USD'], dtype=object)"
      ]
     },
     "execution_count": 67,
     "metadata": {},
     "output_type": "execute_result"
    }
   ],
   "source": [
    "s.unique()"
   ]
  },
  {
   "cell_type": "markdown",
   "id": "8d2b4ba9",
   "metadata": {},
   "source": [
    "ключ 13 - ad_country_code\n",
    "- полагаю, это код страны, предоставивший рекламу (т.е. язык рекламы)"
   ]
  },
  {
   "cell_type": "code",
   "execution_count": 68,
   "id": "638802bc",
   "metadata": {},
   "outputs": [],
   "source": [
    "s = []\n",
    "for i in df.event_json:\n",
    "    j = json.loads(i)\n",
    "    s.append(j['ad_country_code'])\n",
    "s = pd.Series(s)"
   ]
  },
  {
   "cell_type": "code",
   "execution_count": 69,
   "id": "1cdc05a0",
   "metadata": {
    "scrolled": true
   },
   "outputs": [
    {
     "name": "stdout",
     "output_type": "stream",
     "text": [
      "['US' 'GB' 'FR' 'DE' 'EG' 'KR' 'ID' 'CA' 'MX']\n",
      "9\n"
     ]
    }
   ],
   "source": [
    "print(s.unique())\n",
    "print(s.nunique())"
   ]
  },
  {
   "cell_type": "markdown",
   "id": "28b1390b",
   "metadata": {},
   "source": [
    "ключ 14 - network_name\n",
    "- имя рекламной сетки (скорее всего) - да, \"рекламная сеть, от которой был показ\""
   ]
  },
  {
   "cell_type": "code",
   "execution_count": 70,
   "id": "07ad46d3",
   "metadata": {},
   "outputs": [],
   "source": [
    "s = []\n",
    "for i in df.event_json:\n",
    "    j = json.loads(i)\n",
    "    s.append(j['network_name'])\n",
    "s = pd.Series(s)"
   ]
  },
  {
   "cell_type": "code",
   "execution_count": 71,
   "id": "5df92475",
   "metadata": {
    "scrolled": false
   },
   "outputs": [
    {
     "name": "stdout",
     "output_type": "stream",
     "text": [
      "['Google AdMob' 'APPLOVIN_EXCHANGE' 'AppLovin' 'Facebook']\n",
      "4\n"
     ]
    }
   ],
   "source": [
    "print(s.unique())\n",
    "print(s.nunique())"
   ]
  },
  {
   "cell_type": "markdown",
   "id": "2bd6f4bb",
   "metadata": {},
   "source": [
    "ключ 15 - ad_unit_id\n",
    "- имя рекламной публикации? - может быть"
   ]
  },
  {
   "cell_type": "code",
   "execution_count": 72,
   "id": "e8693947",
   "metadata": {},
   "outputs": [],
   "source": [
    "s = []\n",
    "for i in df.event_json:\n",
    "    j = json.loads(i)\n",
    "    s.append(j['ad_unit_id'])\n",
    "s = pd.Series(s)"
   ]
  },
  {
   "cell_type": "code",
   "execution_count": 73,
   "id": "7cb8b21f",
   "metadata": {
    "scrolled": true
   },
   "outputs": [
    {
     "name": "stdout",
     "output_type": "stream",
     "text": [
      "['64c6b1114ea8c1cc' '3ab7705b07ebb75f' '731adac31d29c507']\n",
      "3\n"
     ]
    }
   ],
   "source": [
    "print(s.unique())\n",
    "print(s.nunique())"
   ]
  },
  {
   "cell_type": "markdown",
   "id": "01cf56d9",
   "metadata": {},
   "source": [
    "ключ 16 - ad_network_placement\n",
    "- ??? (и как связано с network_name?)"
   ]
  },
  {
   "cell_type": "code",
   "execution_count": 74,
   "id": "9a969d37",
   "metadata": {},
   "outputs": [],
   "source": [
    "s = []\n",
    "for i in df.event_json:\n",
    "    j = json.loads(i)\n",
    "    s.append(j['ad_network_placement'])\n",
    "s = pd.Series(s)"
   ]
  },
  {
   "cell_type": "code",
   "execution_count": 75,
   "id": "b9d7ed64",
   "metadata": {
    "scrolled": true
   },
   "outputs": [
    {
     "name": "stdout",
     "output_type": "stream",
     "text": [
      "27\n"
     ]
    }
   ],
   "source": [
    "print(s.nunique())"
   ]
  },
  {
   "cell_type": "code",
   "execution_count": 76,
   "id": "79e9345b",
   "metadata": {
    "scrolled": true
   },
   "outputs": [
    {
     "name": "stdout",
     "output_type": "stream",
     "text": [
      "['ca-app-pub-7511632782617496/8825263691' 'banner_regular' 'inter_regular'\n",
      " 'ca-app-pub-7511632782617496/6197324251'\n",
      " 'ca-app-pub-7511632782617496/4884242584'\n",
      " '524377382067272_528134061691604'\n",
      " 'ca-app-pub-7511632782617496/9814911735'\n",
      " 'ca-app-pub-7511632782617496/6833525175'\n",
      " 'ca-app-pub-7511632782617496/3824218458'\n",
      " 'ca-app-pub-7511632782617496/7849758211'\n",
      " 'ca-app-pub-7511632782617496/1189815249'\n",
      " 'ca-app-pub-7511632782617496/2311325220' 'inter_videoa'\n",
      " '524377382067272_528132981691712'\n",
      " 'ca-app-pub-7511632782617496/8484360640'\n",
      " 'ca-app-pub-7511632782617496/9765475119'\n",
      " '524377382067272_528133115025032'\n",
      " 'ca-app-pub-7511632782617496/4462189301'\n",
      " 'ca-app-pub-7511632782617496/5197009874'\n",
      " 'ca-app-pub-7511632782617496/8342047967'\n",
      " 'ca-app-pub-7511632782617496/1329917050'\n",
      " 'ca-app-pub-7511632782617496/6288931395'\n",
      " 'ca-app-pub-7511632782617496/7233636966'\n",
      " 'ca-app-pub-7511632782617496/9595419886'\n",
      " 'ca-app-pub-7511632782617496/4151521517'\n",
      " 'ca-app-pub-7511632782617496/6401956938'\n",
      " 'ca-app-pub-7511632782617496/3413154913']\n"
     ]
    }
   ],
   "source": [
    "print(s.unique())"
   ]
  },
  {
   "cell_type": "markdown",
   "id": "470df876",
   "metadata": {},
   "source": [
    "ключ 17 - creativeId\n",
    "- ???"
   ]
  },
  {
   "cell_type": "code",
   "execution_count": 77,
   "id": "1354ffde",
   "metadata": {},
   "outputs": [],
   "source": [
    "s = []\n",
    "for i in df.event_json:\n",
    "    j = json.loads(i)\n",
    "    s.append(j['creativeId'])\n",
    "s = pd.Series(s)"
   ]
  },
  {
   "cell_type": "code",
   "execution_count": 78,
   "id": "5ed451b4",
   "metadata": {
    "scrolled": true
   },
   "outputs": [
    {
     "name": "stdout",
     "output_type": "stream",
     "text": [
      "509066\n"
     ]
    }
   ],
   "source": [
    "print(s.nunique())"
   ]
  },
  {
   "cell_type": "markdown",
   "id": "45f93b2a",
   "metadata": {},
   "source": [
    "**Структура данных такова:**"
   ]
  },
  {
   "cell_type": "markdown",
   "id": "9e2b7b86",
   "metadata": {},
   "source": [
    "COLUMNS\n",
    "- 1) profile_id          – id пользователя\n",
    "- 2) os_version          – верся ОС Android\n",
    "- 3) device_manufacturer – производитель устройства\n",
    "- 4) device_model        – модель устройства\n",
    "- 5) device_type         – тип устройства (телефон, планшет)\n",
    "- 6) device_locale       – страна и язык девайса во время event'а\n",
    "- 7) event_name          – имя события (1 значение) **DROP**\n",
    "- 8) event_json – содержит данные:\n",
    "        - ad_type              – формат рекламы (int [полноэкранная], banner или rv [по желанию])\n",
    "        - placement            – когда/где был показ рекламы в игре\n",
    "        - view_index           – номер показа конкретного формата рекламы для юзера (не поддерживается для баннеров)\n",
    "        - session_view_index   – номер показа конкретного формата рекламы для юзера, но \"на сессию\" (не поддерживается для баннеров)\n",
    "        - cur_ticks            – ???\n",
    "        - session_length       – ??? длительность одной игровой сессии?\n",
    "        - revenue              – доход от конкретного показа рекламы (eCPM = revenue * 1000)\n",
    "        - ads_ltv              – накапливающийся доход от рекламы, равен сумме всех revenue юзера\n",
    "        - ecpm_sma             – eCPM (но что такое sma?)\n",
    "        - normalized_ecpm_sma  – ??? eCPM (? как-то нормализованная)\n",
    "        - value                – ???\n",
    "        - currency             – ??? валюта (чего, Revenue?)\n",
    "        - ad_country_code      – код страны, предоставивший рекламу (т.е. язык рекламы)\n",
    "        - network_name         – рекламная сеть, от которой был показ\n",
    "        - ad_unit_id           – ??? имя рекламной публикации?\n",
    "        - ad_network_placement – ???\n",
    "        - creativeId           – ???\n",
    "- 9) event_datetime      – ??? **DROP**\n",
    "- 10) event_timestamp    – время совершения event'а\n",
    "- 11) event_receive_datetime  – ??? **DROP**\n",
    "- 12) event_receive_timestamp – ??? **DROP**\n",
    "- 13) connection_type    – тип соединения (wi-fi, cel, nAn)\n",
    "- 14) operator_name      – ???\n",
    "- 15) country_iso_code   – (1 значение) **DROP**\n",
    "- 16) city               – город девайса во время event'а"
   ]
  },
  {
   "cell_type": "markdown",
   "id": "fe5abf03",
   "metadata": {},
   "source": [
    "## Обработка данных. Манипуляции"
   ]
  },
  {
   "cell_type": "code",
   "execution_count": 79,
   "id": "58c86ca7",
   "metadata": {},
   "outputs": [],
   "source": [
    "df_init = df.copy()\n",
    "df = df.drop(columns=['event_name', 'event_datetime', 'event_receive_datetime', 'event_receive_timestamp', 'country_iso_code'])"
   ]
  },
  {
   "cell_type": "code",
   "execution_count": 80,
   "id": "1d6c32e8",
   "metadata": {},
   "outputs": [],
   "source": [
    "df.event_timestamp = df.event_timestamp.apply(lambda x: pd.Timestamp(x, unit='s'))"
   ]
  },
  {
   "cell_type": "code",
   "execution_count": 81,
   "id": "8c6eb690",
   "metadata": {},
   "outputs": [
    {
     "data": {
      "text/html": [
       "<div>\n",
       "<style scoped>\n",
       "    .dataframe tbody tr th:only-of-type {\n",
       "        vertical-align: middle;\n",
       "    }\n",
       "\n",
       "    .dataframe tbody tr th {\n",
       "        vertical-align: top;\n",
       "    }\n",
       "\n",
       "    .dataframe thead th {\n",
       "        text-align: right;\n",
       "    }\n",
       "</style>\n",
       "<table border=\"1\" class=\"dataframe\">\n",
       "  <thead>\n",
       "    <tr style=\"text-align: right;\">\n",
       "      <th></th>\n",
       "      <th>profile_id</th>\n",
       "      <th>os_version</th>\n",
       "      <th>device_manufacturer</th>\n",
       "      <th>device_model</th>\n",
       "      <th>device_type</th>\n",
       "      <th>device_locale</th>\n",
       "      <th>event_json</th>\n",
       "      <th>event_timestamp</th>\n",
       "      <th>connection_type</th>\n",
       "      <th>operator_name</th>\n",
       "      <th>city</th>\n",
       "    </tr>\n",
       "  </thead>\n",
       "  <tbody>\n",
       "    <tr>\n",
       "      <th>0</th>\n",
       "      <td>JLjpGzDHBQm</td>\n",
       "      <td>11</td>\n",
       "      <td>Samsung</td>\n",
       "      <td>Galaxy Tab S6</td>\n",
       "      <td>tablet</td>\n",
       "      <td>en_US</td>\n",
       "      <td>{\"ad_type\":\"banner\",\"placement\":\"\",\"view_index...</td>\n",
       "      <td>2022-02-04 17:02:28</td>\n",
       "      <td>wifi</td>\n",
       "      <td>NaN</td>\n",
       "      <td>Norwalk</td>\n",
       "    </tr>\n",
       "    <tr>\n",
       "      <th>1</th>\n",
       "      <td>JLjpGzDHBQm</td>\n",
       "      <td>11</td>\n",
       "      <td>Samsung</td>\n",
       "      <td>Galaxy Tab S6</td>\n",
       "      <td>tablet</td>\n",
       "      <td>en_US</td>\n",
       "      <td>{\"ad_type\":\"banner\",\"placement\":\"\",\"view_index...</td>\n",
       "      <td>2022-02-04 17:02:45</td>\n",
       "      <td>wifi</td>\n",
       "      <td>NaN</td>\n",
       "      <td>Norwalk</td>\n",
       "    </tr>\n",
       "    <tr>\n",
       "      <th>2</th>\n",
       "      <td>JLkVacrzHY6</td>\n",
       "      <td>11</td>\n",
       "      <td>Google</td>\n",
       "      <td>Pixel 2</td>\n",
       "      <td>phone</td>\n",
       "      <td>en_US</td>\n",
       "      <td>{\"ad_type\":\"banner\",\"placement\":\"\",\"view_index...</td>\n",
       "      <td>2022-02-05 14:53:05</td>\n",
       "      <td>wifi</td>\n",
       "      <td>Verizon</td>\n",
       "      <td>Charlotte</td>\n",
       "    </tr>\n",
       "    <tr>\n",
       "      <th>3</th>\n",
       "      <td>JMC6wG3cX0f</td>\n",
       "      <td>10</td>\n",
       "      <td>Samsung</td>\n",
       "      <td>Galaxy S9</td>\n",
       "      <td>phone</td>\n",
       "      <td>en_US</td>\n",
       "      <td>{\"ad_type\":\"int\",\"placement\":\"next_level\",\"vie...</td>\n",
       "      <td>2022-02-06 14:09:01</td>\n",
       "      <td>wifi</td>\n",
       "      <td>T-Mobile</td>\n",
       "      <td>Cocoa</td>\n",
       "    </tr>\n",
       "    <tr>\n",
       "      <th>4</th>\n",
       "      <td>JLzWWTJfi1b</td>\n",
       "      <td>10</td>\n",
       "      <td>Samsung</td>\n",
       "      <td>Galaxy S9</td>\n",
       "      <td>phone</td>\n",
       "      <td>en_US</td>\n",
       "      <td>{\"ad_type\":\"banner\",\"placement\":\"\",\"view_index...</td>\n",
       "      <td>2022-02-06 14:15:38</td>\n",
       "      <td>cell</td>\n",
       "      <td>Verizon</td>\n",
       "      <td>NaN</td>\n",
       "    </tr>\n",
       "  </tbody>\n",
       "</table>\n",
       "</div>"
      ],
      "text/plain": [
       "    profile_id os_version device_manufacturer   device_model device_type  \\\n",
       "0  JLjpGzDHBQm         11             Samsung  Galaxy Tab S6      tablet   \n",
       "1  JLjpGzDHBQm         11             Samsung  Galaxy Tab S6      tablet   \n",
       "2  JLkVacrzHY6         11              Google        Pixel 2       phone   \n",
       "3  JMC6wG3cX0f         10             Samsung      Galaxy S9       phone   \n",
       "4  JLzWWTJfi1b         10             Samsung      Galaxy S9       phone   \n",
       "\n",
       "  device_locale                                         event_json  \\\n",
       "0         en_US  {\"ad_type\":\"banner\",\"placement\":\"\",\"view_index...   \n",
       "1         en_US  {\"ad_type\":\"banner\",\"placement\":\"\",\"view_index...   \n",
       "2         en_US  {\"ad_type\":\"banner\",\"placement\":\"\",\"view_index...   \n",
       "3         en_US  {\"ad_type\":\"int\",\"placement\":\"next_level\",\"vie...   \n",
       "4         en_US  {\"ad_type\":\"banner\",\"placement\":\"\",\"view_index...   \n",
       "\n",
       "      event_timestamp connection_type operator_name       city  \n",
       "0 2022-02-04 17:02:28            wifi           NaN    Norwalk  \n",
       "1 2022-02-04 17:02:45            wifi           NaN    Norwalk  \n",
       "2 2022-02-05 14:53:05            wifi       Verizon  Charlotte  \n",
       "3 2022-02-06 14:09:01            wifi      T-Mobile      Cocoa  \n",
       "4 2022-02-06 14:15:38            cell      Verizon         NaN  "
      ]
     },
     "execution_count": 81,
     "metadata": {},
     "output_type": "execute_result"
    }
   ],
   "source": [
    "df.head()"
   ]
  },
  {
   "cell_type": "code",
   "execution_count": 82,
   "id": "83676452",
   "metadata": {},
   "outputs": [
    {
     "data": {
      "text/plain": [
       "profile_id                     object\n",
       "os_version                     object\n",
       "device_manufacturer            object\n",
       "device_model                   object\n",
       "device_type                    object\n",
       "device_locale                  object\n",
       "event_json                     object\n",
       "event_timestamp        datetime64[ns]\n",
       "connection_type                object\n",
       "operator_name                  object\n",
       "city                           object\n",
       "dtype: object"
      ]
     },
     "execution_count": 82,
     "metadata": {},
     "output_type": "execute_result"
    }
   ],
   "source": [
    "df.dtypes"
   ]
  },
  {
   "cell_type": "markdown",
   "id": "f1e0d34a",
   "metadata": {},
   "source": [
    "**Теперь у нас есть предобработанные данные, которые мы знаем и понимаем**\n",
    "\n",
    "Можно приступать к заданиям"
   ]
  },
  {
   "cell_type": "markdown",
   "id": "85a28328",
   "metadata": {},
   "source": [
    "# Задача 1"
   ]
  },
  {
   "cell_type": "markdown",
   "id": "7bfd91bb",
   "metadata": {},
   "source": [
    "Для каждого формата рекламы:\n",
    "- a. построить распределение средних eCPM-ов юзеров\n",
    "- b. построить распределение eCPM-ов по городам, версиям ОС\n",
    "- c. построить распределение доходов по городам, версиям ОС"
   ]
  },
  {
   "cell_type": "markdown",
   "id": "eb68c3cf",
   "metadata": {},
   "source": [
    "## Подзадача А"
   ]
  },
  {
   "cell_type": "markdown",
   "id": "15e83742",
   "metadata": {},
   "source": [
    "Для того, чтобы построить распределение средних eCPM-ов пользователей, нужно:\n",
    "1. Взять из df данные по profile_id и event_json\n",
    "2. Распарсить из колонки event_json данные ключей ecpm_sma и ad_type по каждому пользователю; результат: dataframe'ы с 2-мя колонками (profile_id, ecpm_sma) по каждому типу рекламы\n",
    "3. Сгруппировать dataframe'ы по profile_id с аггрегаций по среднему\n",
    "4. Построить распределения для profile_id+ecpm_sma по каждому типу рекламы"
   ]
  },
  {
   "cell_type": "code",
   "execution_count": 83,
   "id": "dbb3be87",
   "metadata": {},
   "outputs": [],
   "source": [
    "# 1 - берем нужные данный\n",
    "df1 = df[['profile_id','event_json']]"
   ]
  },
  {
   "cell_type": "code",
   "execution_count": 84,
   "id": "2afdeaeb",
   "metadata": {},
   "outputs": [],
   "source": [
    "# 2 - парсим\n",
    "s = []\n",
    "for i in df1.event_json:\n",
    "    j = json.loads(i)\n",
    "    s.append(j['ecpm_sma'])\n",
    "s = pd.Series(s, name='ecpm_sma')\n",
    "df1 = pd.concat([df1, s], axis=1)\n",
    "\n",
    "s = []\n",
    "for i in df1.event_json:\n",
    "    j = json.loads(i)\n",
    "    s.append(j['ad_type'])\n",
    "s = pd.Series(s, name='ad_type')\n",
    "df1 = pd.concat([df1, s], axis=1)"
   ]
  },
  {
   "cell_type": "code",
   "execution_count": 85,
   "id": "55b4335e",
   "metadata": {},
   "outputs": [],
   "source": [
    "df1 = df1.drop(columns=['event_json'])"
   ]
  },
  {
   "cell_type": "code",
   "execution_count": 86,
   "id": "bc37564a",
   "metadata": {},
   "outputs": [
    {
     "data": {
      "text/html": [
       "<div>\n",
       "<style scoped>\n",
       "    .dataframe tbody tr th:only-of-type {\n",
       "        vertical-align: middle;\n",
       "    }\n",
       "\n",
       "    .dataframe tbody tr th {\n",
       "        vertical-align: top;\n",
       "    }\n",
       "\n",
       "    .dataframe thead th {\n",
       "        text-align: right;\n",
       "    }\n",
       "</style>\n",
       "<table border=\"1\" class=\"dataframe\">\n",
       "  <thead>\n",
       "    <tr style=\"text-align: right;\">\n",
       "      <th></th>\n",
       "      <th></th>\n",
       "      <th>ecpm_sma</th>\n",
       "    </tr>\n",
       "    <tr>\n",
       "      <th>ad_type</th>\n",
       "      <th>profile_id</th>\n",
       "      <th></th>\n",
       "    </tr>\n",
       "  </thead>\n",
       "  <tbody>\n",
       "    <tr>\n",
       "      <th rowspan=\"5\" valign=\"top\">banner</th>\n",
       "      <th>JL00qCZH1HV</th>\n",
       "      <td>5.379373</td>\n",
       "    </tr>\n",
       "    <tr>\n",
       "      <th>JL015rw9vmN</th>\n",
       "      <td>1.208829</td>\n",
       "    </tr>\n",
       "    <tr>\n",
       "      <th>JL01aCdFTJy</th>\n",
       "      <td>0.644109</td>\n",
       "    </tr>\n",
       "    <tr>\n",
       "      <th>JL04ODuw9UP</th>\n",
       "      <td>0.210804</td>\n",
       "    </tr>\n",
       "    <tr>\n",
       "      <th>JL06OWhBYxn</th>\n",
       "      <td>0.332892</td>\n",
       "    </tr>\n",
       "    <tr>\n",
       "      <th>...</th>\n",
       "      <th>...</th>\n",
       "      <td>...</td>\n",
       "    </tr>\n",
       "    <tr>\n",
       "      <th rowspan=\"5\" valign=\"top\">rv</th>\n",
       "      <th>JMJNoJcoBUf</th>\n",
       "      <td>87.358421</td>\n",
       "    </tr>\n",
       "    <tr>\n",
       "      <th>JMJxPB37e2u</th>\n",
       "      <td>210.006393</td>\n",
       "    </tr>\n",
       "    <tr>\n",
       "      <th>JMKCFREXspE</th>\n",
       "      <td>7.120764</td>\n",
       "    </tr>\n",
       "    <tr>\n",
       "      <th>JMKEonE8xpy</th>\n",
       "      <td>28.014080</td>\n",
       "    </tr>\n",
       "    <tr>\n",
       "      <th>JMKMw5oZ9T4</th>\n",
       "      <td>28.710951</td>\n",
       "    </tr>\n",
       "  </tbody>\n",
       "</table>\n",
       "<p>8794 rows × 1 columns</p>\n",
       "</div>"
      ],
      "text/plain": [
       "                       ecpm_sma\n",
       "ad_type profile_id             \n",
       "banner  JL00qCZH1HV    5.379373\n",
       "        JL015rw9vmN    1.208829\n",
       "        JL01aCdFTJy    0.644109\n",
       "        JL04ODuw9UP    0.210804\n",
       "        JL06OWhBYxn    0.332892\n",
       "...                         ...\n",
       "rv      JMJNoJcoBUf   87.358421\n",
       "        JMJxPB37e2u  210.006393\n",
       "        JMKCFREXspE    7.120764\n",
       "        JMKEonE8xpy   28.014080\n",
       "        JMKMw5oZ9T4   28.710951\n",
       "\n",
       "[8794 rows x 1 columns]"
      ]
     },
     "execution_count": 86,
     "metadata": {},
     "output_type": "execute_result"
    }
   ],
   "source": [
    "# 3 - группируем\n",
    "df1 = df1.groupby(['ad_type', 'profile_id']).agg('mean')\n",
    "df1"
   ]
  },
  {
   "cell_type": "code",
   "execution_count": 87,
   "id": "992f46ab",
   "metadata": {},
   "outputs": [
    {
     "data": {
      "text/plain": [
       "<seaborn.axisgrid.FacetGrid at 0x26f2dfd3520>"
      ]
     },
     "execution_count": 87,
     "metadata": {},
     "output_type": "execute_result"
    },
    {
     "data": {
      "image/png": "[encoded data removed]",
      "text/plain": [
       "<Figure size 1031.38x432 with 1 Axes>"
      ]
     },
     "metadata": {
      "needs_background": "light"
     },
     "output_type": "display_data"
    }
   ],
   "source": [
    "# 4 - строим распределения\n",
    "sns.displot(df1, x=\"ecpm_sma\", hue=\"ad_type\", kind='hist', height=6, aspect=20/9)"
   ]
  },
  {
   "cell_type": "markdown",
   "id": "49a085af",
   "metadata": {},
   "source": [
    "Посмотрим на основные данные подробнее (eCPM >= 2 и <= 300), а также построим отдельные графики распределения."
   ]
  },
  {
   "cell_type": "code",
   "execution_count": 88,
   "id": "29ae8ddc",
   "metadata": {
    "scrolled": false
   },
   "outputs": [
    {
     "data": {
      "text/plain": [
       "<seaborn.axisgrid.FacetGrid at 0x26f2dfd3df0>"
      ]
     },
     "execution_count": 88,
     "metadata": {},
     "output_type": "execute_result"
    },
    {
     "data": {
      "image/png": "[encoded data removed]",
      "text/plain": [
       "<Figure size 1432.58x600 with 1 Axes>"
      ]
     },
     "metadata": {},
     "output_type": "display_data"
    }
   ],
   "source": [
    "'''\n",
    "!!! С этим графиком нужно быть внимательным:\n",
    "    1! Он искуственно ограничен, чтобы было удобнее посмотреть \"основную часть\"\n",
    "    2! Помнить, что распределение у баннеров (синий цвет) имеет более высокие значения от 0 до 1, которые не вошли сюда\n",
    "    3! У некоторых типов, а может и у всех, могут быть длинные хвосты справа (eCPM > 300)\n",
    "'''\n",
    "sns.displot(df1.query('ecpm_sma>=2 and ecpm_sma<=300'), \n",
    "            x=\"ecpm_sma\", hue=\"ad_type\", kind='hist', height=6, aspect=20/9).set(title='Ads Distributions by type')"
   ]
  },
  {
   "cell_type": "markdown",
   "id": "42303a81",
   "metadata": {},
   "source": [
    "Какие выводы нам дают сделать этот график и такой масштаб?\n",
    "\n",
    "1. Распределения реклам типа Banner и Int имеют похожий вид: основное кол-во их значений находится в диапазоне eCPM от 0 до 50\n",
    "2. Вид рекламы типа Rv значильно отличается от Banner и Int\n",
    "3. Banner - имеет сильный скос в левую сторону, т.е. основное кол-во реклам этого типа имеет eCPM, близко расположенный к 0; скос более выражен, чем у рекламы типа Int"
   ]
  },
  {
   "cell_type": "markdown",
   "id": "4acab49b",
   "metadata": {},
   "source": [
    "Как и говорил выше, построим отдельные графики распределения."
   ]
  },
  {
   "cell_type": "code",
   "execution_count": 89,
   "id": "6bb6caa2",
   "metadata": {},
   "outputs": [],
   "source": [
    "df_b = df1.query('ad_type == \"banner\"')\n",
    "df_i = df1.query('ad_type == \"int\"')\n",
    "df_r = df1.query('ad_type == \"rv\"')"
   ]
  },
  {
   "cell_type": "markdown",
   "id": "0b0c2c3d",
   "metadata": {},
   "source": [
    "**БАННЕРЫ**"
   ]
  },
  {
   "cell_type": "code",
   "execution_count": 90,
   "id": "37c86088",
   "metadata": {
    "scrolled": false
   },
   "outputs": [
    {
     "data": {
      "text/plain": [
       "<seaborn.axisgrid.FacetGrid at 0x26f59444640>"
      ]
     },
     "execution_count": 90,
     "metadata": {},
     "output_type": "execute_result"
    },
    {
     "data": {
      "image/png": "[encoded data removed]",
      "text/plain": [
       "<Figure size 1333.33x600 with 1 Axes>"
      ]
     },
     "metadata": {},
     "output_type": "display_data"
    }
   ],
   "source": [
    "sns.displot(df_b, x='ecpm_sma', kind='hist', height=6, aspect=20/9).set(title='Banner Distribution')"
   ]
  },
  {
   "cell_type": "code",
   "execution_count": 91,
   "id": "5df5b25d",
   "metadata": {},
   "outputs": [
    {
     "data": {
      "text/html": [
       "<div>\n",
       "<style scoped>\n",
       "    .dataframe tbody tr th:only-of-type {\n",
       "        vertical-align: middle;\n",
       "    }\n",
       "\n",
       "    .dataframe tbody tr th {\n",
       "        vertical-align: top;\n",
       "    }\n",
       "\n",
       "    .dataframe thead th {\n",
       "        text-align: right;\n",
       "    }\n",
       "</style>\n",
       "<table border=\"1\" class=\"dataframe\">\n",
       "  <thead>\n",
       "    <tr style=\"text-align: right;\">\n",
       "      <th></th>\n",
       "      <th>ecpm_sma</th>\n",
       "    </tr>\n",
       "  </thead>\n",
       "  <tbody>\n",
       "    <tr>\n",
       "      <th>count</th>\n",
       "      <td>3508.000000</td>\n",
       "    </tr>\n",
       "    <tr>\n",
       "      <th>mean</th>\n",
       "      <td>1.270523</td>\n",
       "    </tr>\n",
       "    <tr>\n",
       "      <th>std</th>\n",
       "      <td>2.025464</td>\n",
       "    </tr>\n",
       "    <tr>\n",
       "      <th>min</th>\n",
       "      <td>0.025461</td>\n",
       "    </tr>\n",
       "    <tr>\n",
       "      <th>25%</th>\n",
       "      <td>0.355001</td>\n",
       "    </tr>\n",
       "    <tr>\n",
       "      <th>50%</th>\n",
       "      <td>0.627496</td>\n",
       "    </tr>\n",
       "    <tr>\n",
       "      <th>75%</th>\n",
       "      <td>1.502000</td>\n",
       "    </tr>\n",
       "    <tr>\n",
       "      <th>max</th>\n",
       "      <td>43.021389</td>\n",
       "    </tr>\n",
       "  </tbody>\n",
       "</table>\n",
       "</div>"
      ],
      "text/plain": [
       "          ecpm_sma\n",
       "count  3508.000000\n",
       "mean      1.270523\n",
       "std       2.025464\n",
       "min       0.025461\n",
       "25%       0.355001\n",
       "50%       0.627496\n",
       "75%       1.502000\n",
       "max      43.021389"
      ]
     },
     "execution_count": 91,
     "metadata": {},
     "output_type": "execute_result"
    }
   ],
   "source": [
    "df_b.describe()"
   ]
  },
  {
   "cell_type": "markdown",
   "id": "1dc6822e",
   "metadata": {},
   "source": [
    "Выводы по баннерам:\n",
    "- Мода eCPM - в диапазоне от 0.5 до 3\n",
    "- Максимальное значение eCPM не превышает 50"
   ]
  },
  {
   "cell_type": "markdown",
   "id": "14fdc004",
   "metadata": {},
   "source": [
    "**ПОЛНОЭКРАННАЯ РЕКЛАМА**"
   ]
  },
  {
   "cell_type": "code",
   "execution_count": 92,
   "id": "a1a01b23",
   "metadata": {
    "scrolled": false
   },
   "outputs": [
    {
     "data": {
      "text/plain": [
       "<seaborn.axisgrid.FacetGrid at 0x26f31590640>"
      ]
     },
     "execution_count": 92,
     "metadata": {},
     "output_type": "execute_result"
    },
    {
     "data": {
      "image/png": "[encoded data removed]",
      "text/plain": [
       "<Figure size 1333.33x600 with 1 Axes>"
      ]
     },
     "metadata": {},
     "output_type": "display_data"
    }
   ],
   "source": [
    "sns.displot(df_i, x='ecpm_sma', kind='hist', color='orange', height=6, aspect=20/9).set(title='Int Distribution')"
   ]
  },
  {
   "cell_type": "code",
   "execution_count": 93,
   "id": "e0275190",
   "metadata": {
    "scrolled": true
   },
   "outputs": [
    {
     "data": {
      "text/html": [
       "<div>\n",
       "<style scoped>\n",
       "    .dataframe tbody tr th:only-of-type {\n",
       "        vertical-align: middle;\n",
       "    }\n",
       "\n",
       "    .dataframe tbody tr th {\n",
       "        vertical-align: top;\n",
       "    }\n",
       "\n",
       "    .dataframe thead th {\n",
       "        text-align: right;\n",
       "    }\n",
       "</style>\n",
       "<table border=\"1\" class=\"dataframe\">\n",
       "  <thead>\n",
       "    <tr style=\"text-align: right;\">\n",
       "      <th></th>\n",
       "      <th>ecpm_sma</th>\n",
       "    </tr>\n",
       "  </thead>\n",
       "  <tbody>\n",
       "    <tr>\n",
       "      <th>count</th>\n",
       "      <td>3962.000000</td>\n",
       "    </tr>\n",
       "    <tr>\n",
       "      <th>mean</th>\n",
       "      <td>50.545120</td>\n",
       "    </tr>\n",
       "    <tr>\n",
       "      <th>std</th>\n",
       "      <td>50.480220</td>\n",
       "    </tr>\n",
       "    <tr>\n",
       "      <th>min</th>\n",
       "      <td>0.378536</td>\n",
       "    </tr>\n",
       "    <tr>\n",
       "      <th>25%</th>\n",
       "      <td>19.583670</td>\n",
       "    </tr>\n",
       "    <tr>\n",
       "      <th>50%</th>\n",
       "      <td>30.844325</td>\n",
       "    </tr>\n",
       "    <tr>\n",
       "      <th>75%</th>\n",
       "      <td>61.095806</td>\n",
       "    </tr>\n",
       "    <tr>\n",
       "      <th>max</th>\n",
       "      <td>660.126031</td>\n",
       "    </tr>\n",
       "  </tbody>\n",
       "</table>\n",
       "</div>"
      ],
      "text/plain": [
       "          ecpm_sma\n",
       "count  3962.000000\n",
       "mean     50.545120\n",
       "std      50.480220\n",
       "min       0.378536\n",
       "25%      19.583670\n",
       "50%      30.844325\n",
       "75%      61.095806\n",
       "max     660.126031"
      ]
     },
     "execution_count": 93,
     "metadata": {},
     "output_type": "execute_result"
    }
   ],
   "source": [
    "df_i.describe()"
   ]
  },
  {
   "cell_type": "markdown",
   "id": "58a44923",
   "metadata": {},
   "source": [
    "Выводы по полноэкранной рекламе:\n",
    "- Мода eCPM - в диапазоне от 15 до 30\n",
    "- Максимальное значение eCPM более 600"
   ]
  },
  {
   "cell_type": "markdown",
   "id": "3e971766",
   "metadata": {},
   "source": [
    "**РЕКЛАМА ПО ВЫБОРУ**"
   ]
  },
  {
   "cell_type": "code",
   "execution_count": 94,
   "id": "c372dac2",
   "metadata": {
    "scrolled": false
   },
   "outputs": [
    {
     "data": {
      "text/plain": [
       "<seaborn.axisgrid.FacetGrid at 0x26f31591ab0>"
      ]
     },
     "execution_count": 94,
     "metadata": {},
     "output_type": "execute_result"
    },
    {
     "data": {
      "image/png": "[encoded data removed]",
      "text/plain": [
       "<Figure size 1333.33x600 with 1 Axes>"
      ]
     },
     "metadata": {},
     "output_type": "display_data"
    }
   ],
   "source": [
    "sns.displot(df_r, x='ecpm_sma', kind='hist', color='green', height=6, aspect=20/9).set(title='Rv Distribution')"
   ]
  },
  {
   "cell_type": "code",
   "execution_count": 95,
   "id": "baec78b4",
   "metadata": {
    "scrolled": false
   },
   "outputs": [
    {
     "data": {
      "text/html": [
       "<div>\n",
       "<style scoped>\n",
       "    .dataframe tbody tr th:only-of-type {\n",
       "        vertical-align: middle;\n",
       "    }\n",
       "\n",
       "    .dataframe tbody tr th {\n",
       "        vertical-align: top;\n",
       "    }\n",
       "\n",
       "    .dataframe thead th {\n",
       "        text-align: right;\n",
       "    }\n",
       "</style>\n",
       "<table border=\"1\" class=\"dataframe\">\n",
       "  <thead>\n",
       "    <tr style=\"text-align: right;\">\n",
       "      <th></th>\n",
       "      <th>ecpm_sma</th>\n",
       "    </tr>\n",
       "  </thead>\n",
       "  <tbody>\n",
       "    <tr>\n",
       "      <th>count</th>\n",
       "      <td>1324.000000</td>\n",
       "    </tr>\n",
       "    <tr>\n",
       "      <th>mean</th>\n",
       "      <td>84.114563</td>\n",
       "    </tr>\n",
       "    <tr>\n",
       "      <th>std</th>\n",
       "      <td>84.583781</td>\n",
       "    </tr>\n",
       "    <tr>\n",
       "      <th>min</th>\n",
       "      <td>0.615602</td>\n",
       "    </tr>\n",
       "    <tr>\n",
       "      <th>25%</th>\n",
       "      <td>28.014080</td>\n",
       "    </tr>\n",
       "    <tr>\n",
       "      <th>50%</th>\n",
       "      <td>48.956046</td>\n",
       "    </tr>\n",
       "    <tr>\n",
       "      <th>75%</th>\n",
       "      <td>95.183429</td>\n",
       "    </tr>\n",
       "    <tr>\n",
       "      <th>max</th>\n",
       "      <td>892.413269</td>\n",
       "    </tr>\n",
       "  </tbody>\n",
       "</table>\n",
       "</div>"
      ],
      "text/plain": [
       "          ecpm_sma\n",
       "count  1324.000000\n",
       "mean     84.114563\n",
       "std      84.583781\n",
       "min       0.615602\n",
       "25%      28.014080\n",
       "50%      48.956046\n",
       "75%      95.183429\n",
       "max     892.413269"
      ]
     },
     "execution_count": 95,
     "metadata": {},
     "output_type": "execute_result"
    }
   ],
   "source": [
    "df_r.describe()"
   ]
  },
  {
   "cell_type": "markdown",
   "id": "453de3e0",
   "metadata": {},
   "source": [
    "Выводы по рекламам по выбору:\n",
    "- Основная часть значений eCPM лежит в диапазоне от 0 до 250 \n",
    "- Максимальное значение eCPM более 800!"
   ]
  },
  {
   "cell_type": "code",
   "execution_count": null,
   "id": "46d44d77",
   "metadata": {},
   "outputs": [],
   "source": []
  },
  {
   "cell_type": "markdown",
   "id": "3777b383",
   "metadata": {},
   "source": [
    "Для более наглядного представления того, насколько сильно отличаются значения средних eCPM'ов в основной массе наблюдений, построим графики **boxplot** "
   ]
  },
  {
   "cell_type": "code",
   "execution_count": 96,
   "id": "486877d1",
   "metadata": {
    "scrolled": false
   },
   "outputs": [
    {
     "data": {
      "text/plain": [
       "<AxesSubplot:xlabel='ad_type', ylabel='ecpm_sma'>"
      ]
     },
     "execution_count": 96,
     "metadata": {},
     "output_type": "execute_result"
    },
    {
     "data": {
      "image/png": "[encoded data removed]",
      "text/plain": [
       "<Figure size 640x480 with 1 Axes>"
      ]
     },
     "metadata": {},
     "output_type": "display_data"
    }
   ],
   "source": [
    "sns.boxplot(x=\"ad_type\", y=\"ecpm_sma\", data=df1.reset_index())"
   ]
  },
  {
   "cell_type": "markdown",
   "id": "f8880ffc",
   "metadata": {},
   "source": [
    "Данный график нам дает более наглядное понимание о наличии выбросов в разных форматах рекламы, а также о соотношении средних от среднего eCPM в каждой из подвыборок. Какие-либо более важные выводы, кроме описанных выше, данный график мне не дает."
   ]
  },
  {
   "cell_type": "markdown",
   "id": "9c7b0f6b",
   "metadata": {},
   "source": [
    "## Подзадача B"
   ]
  },
  {
   "cell_type": "markdown",
   "id": "d9621b6b",
   "metadata": {},
   "source": [
    "Чтобы построить распределение eCPM-ов по городам и версиям ОС нужно:\n",
    "- Взять из df данные по profile_id, os_version, city и event_json\n",
    "- Распарсить из колонки event_json данные ключей ecpm_sma и ad_type по каждому пользователю\n",
    "- Разделить dataframe по форматам рекламы на 3 отдельных DF'а\n",
    "- Сгруппировать dataframe'ы по os_version+profile_id с аггрегаций по среднему и исследовать зависимости от версий ОС\n",
    "- Сгруппировать dataframe'ы по city+profile_id с аггрегаций по среднему и исследовать зависимости от городов"
   ]
  },
  {
   "cell_type": "code",
   "execution_count": 97,
   "id": "9a9f8287",
   "metadata": {},
   "outputs": [],
   "source": [
    "# 1 - берем нужные данные\n",
    "df1 = df[['profile_id', 'os_version', 'city', 'event_json']]\n",
    "\n",
    "# 2 - парсим\n",
    "s = []\n",
    "for i in df1.event_json:\n",
    "    j = json.loads(i)\n",
    "    s.append(j['ecpm_sma'])\n",
    "s = pd.Series(s, name='ecpm_sma')\n",
    "df1 = pd.concat([df1, s], axis=1)\n",
    "\n",
    "s = []\n",
    "for i in df1.event_json:\n",
    "    j = json.loads(i)\n",
    "    s.append(j['ad_type'])\n",
    "s = pd.Series(s, name='ad_type')\n",
    "df1 = pd.concat([df1, s], axis=1)\n",
    "\n",
    "df1 = df1.drop(columns=['event_json'])\n",
    "\n",
    "# 3 - делим по форматам рекламы\n",
    "df_b = df1.query('ad_type == \"banner\"')\n",
    "df_i = df1.query('ad_type == \"int\"')\n",
    "df_r = df1.query('ad_type == \"rv\"')"
   ]
  },
  {
   "cell_type": "markdown",
   "id": "2eb0bc32",
   "metadata": {},
   "source": [
    "Далее будем исследовать каждый DF (разделенный по форматам рекламы) отдельно."
   ]
  },
  {
   "cell_type": "markdown",
   "id": "945341f8",
   "metadata": {},
   "source": [
    "**Баннеры**"
   ]
  },
  {
   "cell_type": "code",
   "execution_count": 98,
   "id": "a8f8ce7c",
   "metadata": {},
   "outputs": [
    {
     "data": {
      "text/html": [
       "<div>\n",
       "<style scoped>\n",
       "    .dataframe tbody tr th:only-of-type {\n",
       "        vertical-align: middle;\n",
       "    }\n",
       "\n",
       "    .dataframe tbody tr th {\n",
       "        vertical-align: top;\n",
       "    }\n",
       "\n",
       "    .dataframe thead th {\n",
       "        text-align: right;\n",
       "    }\n",
       "</style>\n",
       "<table border=\"1\" class=\"dataframe\">\n",
       "  <thead>\n",
       "    <tr style=\"text-align: right;\">\n",
       "      <th></th>\n",
       "      <th></th>\n",
       "      <th>mean_ecpm</th>\n",
       "    </tr>\n",
       "    <tr>\n",
       "      <th>os_version</th>\n",
       "      <th>profile_id</th>\n",
       "      <th></th>\n",
       "    </tr>\n",
       "  </thead>\n",
       "  <tbody>\n",
       "    <tr>\n",
       "      <th rowspan=\"5\" valign=\"top\">10</th>\n",
       "      <th>JL06OWhBYxn</th>\n",
       "      <td>0.332892</td>\n",
       "    </tr>\n",
       "    <tr>\n",
       "      <th>JL0eRcJ7HUF</th>\n",
       "      <td>2.578720</td>\n",
       "    </tr>\n",
       "    <tr>\n",
       "      <th>JL0u6mnAMTV</th>\n",
       "      <td>1.578300</td>\n",
       "    </tr>\n",
       "    <tr>\n",
       "      <th>JL2s010u5r5</th>\n",
       "      <td>0.299757</td>\n",
       "    </tr>\n",
       "    <tr>\n",
       "      <th>JL3hghqjRD2</th>\n",
       "      <td>1.156718</td>\n",
       "    </tr>\n",
       "    <tr>\n",
       "      <th>...</th>\n",
       "      <th>...</th>\n",
       "      <td>...</td>\n",
       "    </tr>\n",
       "    <tr>\n",
       "      <th rowspan=\"5\" valign=\"top\">9</th>\n",
       "      <th>JMHFqNWebVf</th>\n",
       "      <td>0.786840</td>\n",
       "    </tr>\n",
       "    <tr>\n",
       "      <th>JMHME556xNs</th>\n",
       "      <td>0.102531</td>\n",
       "    </tr>\n",
       "    <tr>\n",
       "      <th>JMHjstfO7QG</th>\n",
       "      <td>0.717077</td>\n",
       "    </tr>\n",
       "    <tr>\n",
       "      <th>JMJcF8eWLf5</th>\n",
       "      <td>0.413694</td>\n",
       "    </tr>\n",
       "    <tr>\n",
       "      <th>JMKCFREXspE</th>\n",
       "      <td>0.089956</td>\n",
       "    </tr>\n",
       "  </tbody>\n",
       "</table>\n",
       "<p>3526 rows × 1 columns</p>\n",
       "</div>"
      ],
      "text/plain": [
       "                        mean_ecpm\n",
       "os_version profile_id            \n",
       "10         JL06OWhBYxn   0.332892\n",
       "           JL0eRcJ7HUF   2.578720\n",
       "           JL0u6mnAMTV   1.578300\n",
       "           JL2s010u5r5   0.299757\n",
       "           JL3hghqjRD2   1.156718\n",
       "...                           ...\n",
       "9          JMHFqNWebVf   0.786840\n",
       "           JMHME556xNs   0.102531\n",
       "           JMHjstfO7QG   0.717077\n",
       "           JMJcF8eWLf5   0.413694\n",
       "           JMKCFREXspE   0.089956\n",
       "\n",
       "[3526 rows x 1 columns]"
      ]
     },
     "execution_count": 98,
     "metadata": {},
     "output_type": "execute_result"
    }
   ],
   "source": [
    "# делаем предобработку с группировкой\n",
    "df_b_os = df_b.drop(columns=['ad_type', 'city']) \\\n",
    "                .groupby(['os_version', 'profile_id']).mean().rename(columns={'ecpm_sma': 'mean_ecpm'})\n",
    "df_b_os"
   ]
  },
  {
   "cell_type": "code",
   "execution_count": 99,
   "id": "1a5e7c3f",
   "metadata": {},
   "outputs": [
    {
     "data": {
      "text/plain": [
       "[Text(0.5, 1.0, 'Banner eCPM Distriution by OS ver.')]"
      ]
     },
     "execution_count": 99,
     "metadata": {},
     "output_type": "execute_result"
    },
    {
     "data": {
      "image/png": "[encoded data removed]",
      "text/plain": [
       "<Figure size 640x480 with 1 Axes>"
      ]
     },
     "metadata": {},
     "output_type": "display_data"
    }
   ],
   "source": [
    "# посмотрим сразу на график boxplot\n",
    "order = ['5.0.2', '6.0.1', '7.0', '7.1.1', '7.1.2', '8.0.0', '8.1.0', '9', '10', '11', '12']\n",
    "sns.boxplot(x=\"os_version\", y=\"mean_ecpm\", data=df_b_os.reset_index(),\n",
    "           order=order).set(title='Banner eCPM Distriution by OS ver.')"
   ]
  },
  {
   "cell_type": "code",
   "execution_count": 100,
   "id": "34951393",
   "metadata": {},
   "outputs": [
    {
     "data": {
      "text/plain": [
       "[Text(0.5, 1.0, 'Banner eCPM Distribution by OS ver.')]"
      ]
     },
     "execution_count": 100,
     "metadata": {},
     "output_type": "execute_result"
    },
    {
     "data": {
      "image/png": "[encoded data removed]",
      "text/plain": [
       "<Figure size 640x480 with 1 Axes>"
      ]
     },
     "metadata": {},
     "output_type": "display_data"
    }
   ],
   "source": [
    "# также имеем большое количество выбросов\n",
    "# у выбросов есть тенденция к увеличению их разброса с каждой новой версией ОС (если смотреть на 0-ые версии)\n",
    "# посмотрим на боксплоты ближе\n",
    "limit=4\n",
    "sns.boxplot(x=\"os_version\", y=\"mean_ecpm\", data=df_b_os.reset_index().query(f'mean_ecpm < {limit}'),\n",
    "           order=order).set(title='Banner eCPM Distribution by OS ver.')"
   ]
  },
  {
   "cell_type": "code",
   "execution_count": 101,
   "id": "a58dd2ae",
   "metadata": {},
   "outputs": [
    {
     "data": {
      "text/plain": [
       "0.00014878664069421592"
      ]
     },
     "execution_count": 101,
     "metadata": {},
     "output_type": "execute_result"
    }
   ],
   "source": [
    "# проведем однофакторыный дисперсионный анализ (ANOVA), чтобы понять, есть ли среди данных статистически различающиеся группы.\n",
    "# ANOVA требует выполнение условия гомогенности выборок, для проверки чего мы воспользуемся тестов Левена\n",
    "os_5 = df_b_os.reset_index().query('os_version == \"5.0.2\"').mean_ecpm\n",
    "os_6 = df_b_os.reset_index().query('os_version == \"6.0.1\"').mean_ecpm\n",
    "os_70 = df_b_os.reset_index().query('os_version == \"7.0\"').mean_ecpm\n",
    "os_711 = df_b_os.reset_index().query('os_version == \"7.1.1\"').mean_ecpm\n",
    "os_712 = df_b_os.reset_index().query('os_version == \"7.1.2\"').mean_ecpm\n",
    "os_800 = df_b_os.reset_index().query('os_version == \"8.0.0\"').mean_ecpm\n",
    "os_810 = df_b_os.reset_index().query('os_version == \"8.1.0\"').mean_ecpm\n",
    "os_9 = df_b_os.reset_index().query('os_version == \"9\"').mean_ecpm\n",
    "os_10 = df_b_os.reset_index().query('os_version == \"10\"').mean_ecpm\n",
    "os_11 = df_b_os.reset_index().query('os_version == \"11\"').mean_ecpm\n",
    "os_12 = df_b_os.reset_index().query('os_version == \"12\"').mean_ecpm\n",
    "\n",
    "stat, p = levene(os_5 , os_6, os_70, os_711, os_712, os_800, os_810, os_9, os_10, os_11, os_12, center='median')\n",
    "p"
   ]
  },
  {
   "cell_type": "code",
   "execution_count": 102,
   "id": "b7231cfc",
   "metadata": {},
   "outputs": [],
   "source": [
    "# p-value данного теста менее 0.05 отчего можно сделать вывод, \n",
    "# что как минимум одна из выборок не удовлетворяет условию гомогенности\n",
    "\n",
    "# предлагаю разбить данные на две группы: до версии 9 и после (включая)\n",
    "# и посмотреть на гомогенность полученных групп\n",
    "# и более того: можно рассмотреть только последнюю группу,\n",
    "# т.к. она составляет 97% (см.ниже) от всех этих данных"
   ]
  },
  {
   "cell_type": "code",
   "execution_count": 103,
   "id": "df655bea",
   "metadata": {
    "scrolled": true
   },
   "outputs": [
    {
     "name": "stdout",
     "output_type": "stream",
     "text": [
      "97%\n"
     ]
    }
   ],
   "source": [
    "n = os_5.shape[0]+os_6.shape[0]+os_70.shape[0]+os_711.shape[0]+os_712.shape[0]+os_800.shape[0]+os_810.shape[0]\n",
    "print(f'{100-round((n)/df_b_os.shape[0]*100)}%')"
   ]
  },
  {
   "cell_type": "code",
   "execution_count": 104,
   "id": "8623f49e",
   "metadata": {},
   "outputs": [
    {
     "data": {
      "text/plain": [
       "7.995868544669548e-06"
      ]
     },
     "execution_count": 104,
     "metadata": {},
     "output_type": "execute_result"
    }
   ],
   "source": [
    "# проведем тест гомогенности\n",
    "stat, p = levene(os_9, os_10, os_11, os_12, center='median')\n",
    "p"
   ]
  },
  {
   "cell_type": "code",
   "execution_count": 105,
   "id": "1f7ee18f",
   "metadata": {},
   "outputs": [],
   "source": [
    "# данный тест тоже подтвердил отсутствие гомогенности\n",
    "# тогда, воспользуемся советом из этого источника:\n",
    "# https://www.graphpad.com/support/faq/what-to-do-when-data-fail-tests-for-homogeneity-of-variance/"
   ]
  },
  {
   "cell_type": "markdown",
   "id": "f310ee3e",
   "metadata": {},
   "source": [
    "> It is not really clear what to do next. Here are some thoughts:\n",
    "\n",
    ">This gives you strong evidence that the groups are not selected from identical populations. You haven't yet tested whether the means are distinct, but you already know that the variances are different. This may be a good stopping point. You have **strong evidence** that the **populations** the data are sampled from **are not identical**."
   ]
  },
  {
   "cell_type": "markdown",
   "id": "e56899cb",
   "metadata": {},
   "source": [
    "Согласно ему, я бы сделал вывод, что версия ОС действительно вызывает различия в eCPM:\n",
    "- Среднее значение от срдених eCPM выше всего у наиболее новых версий ОС (9-12), а учитывая, что общее число пользователей именно с этими версиями является абсолютным большинством, то отладку и тест нововведений лучше ограничить этими версиями"
   ]
  },
  {
   "cell_type": "markdown",
   "id": "1369c7c6",
   "metadata": {},
   "source": [
    "Теперь смотрим на города"
   ]
  },
  {
   "cell_type": "code",
   "execution_count": 106,
   "id": "c30d42d9",
   "metadata": {},
   "outputs": [
    {
     "data": {
      "text/html": [
       "<div>\n",
       "<style scoped>\n",
       "    .dataframe tbody tr th:only-of-type {\n",
       "        vertical-align: middle;\n",
       "    }\n",
       "\n",
       "    .dataframe tbody tr th {\n",
       "        vertical-align: top;\n",
       "    }\n",
       "\n",
       "    .dataframe thead th {\n",
       "        text-align: right;\n",
       "    }\n",
       "</style>\n",
       "<table border=\"1\" class=\"dataframe\">\n",
       "  <thead>\n",
       "    <tr style=\"text-align: right;\">\n",
       "      <th></th>\n",
       "      <th></th>\n",
       "      <th>mean_ecpm</th>\n",
       "    </tr>\n",
       "    <tr>\n",
       "      <th>city</th>\n",
       "      <th>profile_id</th>\n",
       "      <th></th>\n",
       "    </tr>\n",
       "  </thead>\n",
       "  <tbody>\n",
       "    <tr>\n",
       "      <th>Aberdeen</th>\n",
       "      <th>JL0GsLmgQqj</th>\n",
       "      <td>0.337810</td>\n",
       "    </tr>\n",
       "    <tr>\n",
       "      <th>Abilene</th>\n",
       "      <th>JLzhypEFyJW</th>\n",
       "      <td>1.153814</td>\n",
       "    </tr>\n",
       "    <tr>\n",
       "      <th>Addison</th>\n",
       "      <th>JLxvUGWsVRL</th>\n",
       "      <td>0.489450</td>\n",
       "    </tr>\n",
       "    <tr>\n",
       "      <th>Afton</th>\n",
       "      <th>JLkZp8k83mi</th>\n",
       "      <td>0.361523</td>\n",
       "    </tr>\n",
       "    <tr>\n",
       "      <th>Akron</th>\n",
       "      <th>JLs3HLc0iMD</th>\n",
       "      <td>0.225077</td>\n",
       "    </tr>\n",
       "    <tr>\n",
       "      <th>...</th>\n",
       "      <th>...</th>\n",
       "      <td>...</td>\n",
       "    </tr>\n",
       "    <tr>\n",
       "      <th>Yukon</th>\n",
       "      <th>JMC4y17ukU2</th>\n",
       "      <td>0.094575</td>\n",
       "    </tr>\n",
       "    <tr>\n",
       "      <th>Yuma</th>\n",
       "      <th>JLxW1T3bKjT</th>\n",
       "      <td>0.163977</td>\n",
       "    </tr>\n",
       "    <tr>\n",
       "      <th rowspan=\"3\" valign=\"top\">Zanesville</th>\n",
       "      <th>JLk6DA4qnFe</th>\n",
       "      <td>0.203445</td>\n",
       "    </tr>\n",
       "    <tr>\n",
       "      <th>JLtKjn6xUJb</th>\n",
       "      <td>0.138852</td>\n",
       "    </tr>\n",
       "    <tr>\n",
       "      <th>JMFzObeOOQf</th>\n",
       "      <td>0.375181</td>\n",
       "    </tr>\n",
       "  </tbody>\n",
       "</table>\n",
       "<p>2956 rows × 1 columns</p>\n",
       "</div>"
      ],
      "text/plain": [
       "                        mean_ecpm\n",
       "city       profile_id            \n",
       "Aberdeen   JL0GsLmgQqj   0.337810\n",
       "Abilene    JLzhypEFyJW   1.153814\n",
       "Addison    JLxvUGWsVRL   0.489450\n",
       "Afton      JLkZp8k83mi   0.361523\n",
       "Akron      JLs3HLc0iMD   0.225077\n",
       "...                           ...\n",
       "Yukon      JMC4y17ukU2   0.094575\n",
       "Yuma       JLxW1T3bKjT   0.163977\n",
       "Zanesville JLk6DA4qnFe   0.203445\n",
       "           JLtKjn6xUJb   0.138852\n",
       "           JMFzObeOOQf   0.375181\n",
       "\n",
       "[2956 rows x 1 columns]"
      ]
     },
     "execution_count": 106,
     "metadata": {},
     "output_type": "execute_result"
    }
   ],
   "source": [
    "# делаем предобработку с группировкой\n",
    "df_b_city = df_b.drop(columns=['ad_type', 'os_version']) \\\n",
    "                .groupby(['city', 'profile_id']).mean().rename(columns={'ecpm_sma': 'mean_ecpm'})\n",
    "df_b_city"
   ]
  },
  {
   "cell_type": "code",
   "execution_count": 107,
   "id": "005be991",
   "metadata": {},
   "outputs": [
    {
     "data": {
      "text/plain": [
       "856"
      ]
     },
     "execution_count": 107,
     "metadata": {},
     "output_type": "execute_result"
    }
   ],
   "source": [
    "# сколько таких городов у нас в датасете?\n",
    "df_b_city.reset_index().city.nunique()"
   ]
  },
  {
   "cell_type": "code",
   "execution_count": 108,
   "id": "8ae34d14",
   "metadata": {},
   "outputs": [],
   "source": [
    "# очевидно, что все их рассматривать не нужно\n",
    "# найдем те города, что составляют наибольшее число пользователей (95+ %)"
   ]
  },
  {
   "cell_type": "code",
   "execution_count": 109,
   "id": "e1d73312",
   "metadata": {},
   "outputs": [],
   "source": [
    "city1 = df_b.drop(columns=['ad_type', 'os_version']) \\\n",
    "            .groupby(['city'], as_index=False).agg({'profile_id': 'count',\n",
    "                                    'ecpm_sma': 'mean'}) \\\n",
    "            .rename(columns={'profile_id': 'users',\n",
    "                             'ecpm_sma': 'mean_ecpm'}) \\\n",
    "            .query('users >= 165')  # 0.5 квантиль"
   ]
  },
  {
   "cell_type": "code",
   "execution_count": 110,
   "id": "1f00d8ca",
   "metadata": {},
   "outputs": [],
   "source": [
    "# сделаем своего рода метрику для ранжирования городов по наибольшему бизнес интересу\n",
    "city1['rate'] = city1.users*city1.mean_ecpm\n",
    "city1 = city1.sort_values('rate', ascending=False)"
   ]
  },
  {
   "cell_type": "code",
   "execution_count": 111,
   "id": "7e766d14",
   "metadata": {},
   "outputs": [
    {
     "data": {
      "text/plain": [
       "[[]]"
      ]
     },
     "execution_count": 111,
     "metadata": {},
     "output_type": "execute_result"
    },
    {
     "data": {
      "image/png": "[encoded data removed]",
      "text/plain": [
       "<Figure size 640x480 with 1 Axes>"
      ]
     },
     "metadata": {},
     "output_type": "display_data"
    }
   ],
   "source": [
    "sns.lineplot(data=city1, x='city', y='rate').set(xticks=[])"
   ]
  },
  {
   "cell_type": "code",
   "execution_count": 112,
   "id": "eaa5c692",
   "metadata": {},
   "outputs": [
    {
     "data": {
      "text/plain": [
       "3444.4845514661156"
      ]
     },
     "execution_count": 112,
     "metadata": {},
     "output_type": "execute_result"
    }
   ],
   "source": [
    "city1['rate'].quantile(q=0.95)  # NB: тогда отсекается не 0.95, а (0.5+0.5*0.95) значений (0.975 квантиль)"
   ]
  },
  {
   "cell_type": "code",
   "execution_count": 113,
   "id": "dbb2db77",
   "metadata": {},
   "outputs": [
    {
     "name": "stdout",
     "output_type": "stream",
     "text": [
      "['New York', 'Indianapolis', 'Spokane', 'Houston', 'Minneapolis', 'Cleveland', 'Charlotte', 'Gardena', 'Dallas', 'Kansas City', 'Columbus', 'Springfield', 'Tampa', 'Chicago', 'Denver', \"Lee's Summit\", 'Los Angeles', 'Miami', 'Omaha', 'Las Vegas', 'Charlottesville', 'Grand Junction']\n",
      "22\n"
     ]
    }
   ],
   "source": [
    "# Найдем 5% наиболее интересных (по rate) городов\n",
    "print(list(city1.query('rate > 3444').city))\n",
    "print(city1.query('rate > 3444').city.nunique())"
   ]
  },
  {
   "cell_type": "code",
   "execution_count": 114,
   "id": "5652834c",
   "metadata": {},
   "outputs": [],
   "source": [
    "# 22 города - это уже обозримое кол-во"
   ]
  },
  {
   "cell_type": "code",
   "execution_count": 115,
   "id": "858d3864",
   "metadata": {},
   "outputs": [],
   "source": [
    "city1 = city1.query('rate > 3444').drop(columns=['rate']).sort_values('mean_ecpm', ascending=False)"
   ]
  },
  {
   "cell_type": "code",
   "execution_count": 116,
   "id": "c56be9f1",
   "metadata": {},
   "outputs": [
    {
     "data": {
      "text/plain": [
       "[Text(0.5, 1.0, 'Banner eCPM Distribution by City')]"
      ]
     },
     "execution_count": 116,
     "metadata": {},
     "output_type": "execute_result"
    },
    {
     "data": {
      "image/png": "[encoded data removed]",
      "text/plain": [
       "<Figure size 640x480 with 1 Axes>"
      ]
     },
     "metadata": {},
     "output_type": "display_data"
    }
   ],
   "source": [
    "# посмотрим на график boxplot\n",
    "# order = ['5.0.2', '6.0.1', '7.0', '7.1.1', '7.1.2', '8.0.0', '8.1.0', '9', '10', '11', '12']\n",
    "sns.boxplot(x=\"mean_ecpm\", y=\"city\", data=city1) \\\n",
    "    .set(title='Banner eCPM Distribution by City')"
   ]
  },
  {
   "cell_type": "markdown",
   "id": "4d07a266",
   "metadata": {},
   "source": [
    "По этому графику мы сразу можем наблюдать, что наиболее интересные для бизнеса города имеют сильные различия по среднему значению средних eCPM'ов, что говорит нам о том, что география для баннеров играет большую роль.\n",
    "- Бизнесу бы я посоветовал уделить больше внимание на таргетинг рекламы на баннерах именно для этих 22х городов."
   ]
  },
  {
   "cell_type": "code",
   "execution_count": null,
   "id": "0f3e1763",
   "metadata": {},
   "outputs": [],
   "source": []
  },
  {
   "cell_type": "markdown",
   "id": "64564251",
   "metadata": {},
   "source": [
    "**Полноразмерная реклама**"
   ]
  },
  {
   "cell_type": "code",
   "execution_count": 117,
   "id": "36936b71",
   "metadata": {},
   "outputs": [
    {
     "data": {
      "text/plain": [
       "[Text(0.5, 1.0, 'Int eCPM Distriution by OS ver.')]"
      ]
     },
     "execution_count": 117,
     "metadata": {},
     "output_type": "execute_result"
    },
    {
     "data": {
      "image/png": "[encoded data removed]",
      "text/plain": [
       "<Figure size 640x480 with 1 Axes>"
      ]
     },
     "metadata": {},
     "output_type": "display_data"
    }
   ],
   "source": [
    "# делаем предобработку с группировкой\n",
    "df_i_os = df_i.drop(columns=['ad_type', 'city']) \\\n",
    "                .groupby(['os_version', 'profile_id']).mean().rename(columns={'ecpm_sma': 'mean_ecpm'})\n",
    "\n",
    "# посмотрим сразу на график boxplot\n",
    "order = ['5.0.2', '6.0.1', '7.0', '7.1.1', '7.1.2', '8.0.0', '8.1.0', '9', '10', '11', '12']\n",
    "sns.boxplot(x=\"os_version\", y=\"mean_ecpm\", data=df_i_os.reset_index(),\n",
    "           order=order).set(title='Int eCPM Distriution by OS ver.')"
   ]
  },
  {
   "cell_type": "code",
   "execution_count": 118,
   "id": "e89f5f61",
   "metadata": {},
   "outputs": [
    {
     "data": {
      "text/plain": [
       "[Text(0.5, 1.0, 'Int eCPM Distriution by OS ver.')]"
      ]
     },
     "execution_count": 118,
     "metadata": {},
     "output_type": "execute_result"
    },
    {
     "data": {
      "image/png": "[encoded data removed]",
      "text/plain": [
       "<Figure size 640x480 with 1 Axes>"
      ]
     },
     "metadata": {},
     "output_type": "display_data"
    }
   ],
   "source": [
    "# картина очень похожа на то, что было с баннерами, но eCPM гораздо больше!\n",
    "\n",
    "# также имеем большое количество выбросов\n",
    "# у выбросов есть тенденция к увеличению их разброса с каждой новой версией ОС (если смотреть на 0-ые версии)\n",
    "# посмотрим на боксплоты ближе\n",
    "limit = 120\n",
    "sns.boxplot(x=\"os_version\", y=\"mean_ecpm\", data=df_i_os.reset_index().query(f'mean_ecpm < {limit}'),\n",
    "           order=order).set(title='Int eCPM Distriution by OS ver.')"
   ]
  },
  {
   "cell_type": "code",
   "execution_count": 119,
   "id": "d9798c6a",
   "metadata": {},
   "outputs": [
    {
     "name": "stdout",
     "output_type": "stream",
     "text": [
      "97%\n"
     ]
    }
   ],
   "source": [
    "# у полноэкраннх реклам распределение от версии к версии уже не такое \"ровное\", как у баннеров\n",
    "# предлагаю сразу отсеять те версии, которые не являются интересными бизнесу с т.з. кол-ва пользователей\n",
    "os_5 = df_i_os.reset_index().query('os_version == \"5.0.2\"').mean_ecpm\n",
    "os_6 = df_i_os.reset_index().query('os_version == \"6.0.1\"').mean_ecpm\n",
    "os_70 = df_i_os.reset_index().query('os_version == \"7.0\"').mean_ecpm\n",
    "os_711 = df_i_os.reset_index().query('os_version == \"7.1.1\"').mean_ecpm\n",
    "os_712 = df_i_os.reset_index().query('os_version == \"7.1.2\"').mean_ecpm\n",
    "os_800 = df_i_os.reset_index().query('os_version == \"8.0.0\"').mean_ecpm\n",
    "os_810 = df_i_os.reset_index().query('os_version == \"8.1.0\"').mean_ecpm\n",
    "os_9 = df_i_os.reset_index().query('os_version == \"9\"').mean_ecpm\n",
    "os_10 = df_i_os.reset_index().query('os_version == \"10\"').mean_ecpm\n",
    "os_11 = df_i_os.reset_index().query('os_version == \"11\"').mean_ecpm\n",
    "os_12 = df_i_os.reset_index().query('os_version == \"12\"').mean_ecpm\n",
    "\n",
    "n = os_5.shape[0]+os_6.shape[0]+os_70.shape[0]+os_711.shape[0]+os_712.shape[0]+os_800.shape[0]+os_810.shape[0]\n",
    "print(f'{100-round((n)/df_b_os.shape[0]*100)}%')  # checked"
   ]
  },
  {
   "cell_type": "code",
   "execution_count": 120,
   "id": "4daa577a",
   "metadata": {},
   "outputs": [
    {
     "data": {
      "text/plain": [
       "[Text(0.5, 1.0, 'Int eCPM Distriution by OS ver.')]"
      ]
     },
     "execution_count": 120,
     "metadata": {},
     "output_type": "execute_result"
    },
    {
     "data": {
      "image/png": "[encoded data removed]",
      "text/plain": [
       "<Figure size 640x480 with 1 Axes>"
      ]
     },
     "metadata": {},
     "output_type": "display_data"
    }
   ],
   "source": [
    "# т.о., тот боксплот, на который мы будем ориентироваться при исследовании\n",
    "# полноразмерной рекламы (по версиям ОС)\n",
    "# выглядит так\n",
    "limit = 120\n",
    "order = ['9', '10', '11', '12']\n",
    "sns.boxplot(x=\"os_version\", y=\"mean_ecpm\", data=df_i_os.reset_index().query(f'mean_ecpm < {limit}'),\n",
    "           order=order).set(title='Int eCPM Distriution by OS ver.')"
   ]
  },
  {
   "cell_type": "code",
   "execution_count": 121,
   "id": "8d2f3d99",
   "metadata": {},
   "outputs": [
    {
     "data": {
      "text/plain": [
       "0.0015834200284288165"
      ]
     },
     "execution_count": 121,
     "metadata": {},
     "output_type": "execute_result"
    }
   ],
   "source": [
    "# проведем тест гомогенности\n",
    "stat, p = levene(os_9, os_10, os_11, os_12, center='median')\n",
    "p"
   ]
  },
  {
   "cell_type": "markdown",
   "id": "3a7a80b8",
   "metadata": {},
   "source": [
    "Согласно теста, я бы снова сделал тот же вывод (что и для баннеров), что версия ОС действительно вызывает различия в eCPM для полноразмерной рекламы:\n",
    "- Общий потенциальный доход (eCPM с учетом кол-ва пользователей) выше всего у наиболее новых версий ОС (9-12), тогда снова отладку и тест нововведений (касающихся полноразмерной рекламы) лучше ограничить этими версиями."
   ]
  },
  {
   "cell_type": "markdown",
   "id": "2122c94c",
   "metadata": {},
   "source": [
    "Теперь смотрим города (Int)"
   ]
  },
  {
   "cell_type": "code",
   "execution_count": 122,
   "id": "68a5362d",
   "metadata": {},
   "outputs": [
    {
     "data": {
      "text/plain": [
       "869"
      ]
     },
     "execution_count": 122,
     "metadata": {},
     "output_type": "execute_result"
    }
   ],
   "source": [
    "# делаем предобработку с группировкой\n",
    "df_i_city = df_i.drop(columns=['ad_type', 'os_version']) \\\n",
    "                .groupby(['city', 'profile_id']).mean().rename(columns={'ecpm_sma': 'mean_ecpm'})\n",
    "\n",
    "# сколько таких городов у нас в датасете?\n",
    "df_i_city.reset_index().city.nunique()"
   ]
  },
  {
   "cell_type": "code",
   "execution_count": 123,
   "id": "b49fd228",
   "metadata": {},
   "outputs": [
    {
     "data": {
      "text/plain": [
       "[[]]"
      ]
     },
     "execution_count": 123,
     "metadata": {},
     "output_type": "execute_result"
    },
    {
     "data": {
      "image/png": "[encoded data removed]",
      "text/plain": [
       "<Figure size 640x480 with 1 Axes>"
      ]
     },
     "metadata": {},
     "output_type": "display_data"
    }
   ],
   "source": [
    "# очевидно, что все их рассматривать не нужно\n",
    "# найдем те города, что составляют наибольшее число пользователей (95+ %)\n",
    "\n",
    "city1 = df_i.drop(columns=['ad_type', 'os_version']) \\\n",
    "            .groupby(['city'], as_index=False).agg({'profile_id': 'count',\n",
    "                                                    'ecpm_sma': 'mean'}) \\\n",
    "            .rename(columns={'profile_id': 'users',\n",
    "                             'ecpm_sma': 'mean_ecpm'}) \\\n",
    "            .query('users >= 26')  # 0.75 квантиль\n",
    "\n",
    "# сделаем своего рода метрику для ранжирования городов по наибольшему бизнес интересу\n",
    "city1['rate'] = city1.users*city1.mean_ecpm\n",
    "city1 = city1.sort_values('rate', ascending=False)\n",
    "\n",
    "sns.lineplot(data=city1, x='city', y='rate').set(xticks=[])"
   ]
  },
  {
   "cell_type": "code",
   "execution_count": 124,
   "id": "cc625e73",
   "metadata": {},
   "outputs": [
    {
     "data": {
      "text/plain": [
       "11961.204752278329"
      ]
     },
     "execution_count": 124,
     "metadata": {},
     "output_type": "execute_result"
    }
   ],
   "source": [
    "city1['rate'].quantile(q=0.95)  # NB: тогда отсекается не 0.95, а (0.5+0.5*0.95) значений (0.975 квантиль)"
   ]
  },
  {
   "cell_type": "code",
   "execution_count": 125,
   "id": "4e5ecef7",
   "metadata": {
    "scrolled": true
   },
   "outputs": [
    {
     "name": "stdout",
     "output_type": "stream",
     "text": [
      "['New York', 'Indianapolis', 'Cleveland', 'Minneapolis', 'Houston', 'Charlotte', 'Columbus', 'Los Angeles', 'Dallas', 'Denver', 'Las Vegas']\n",
      "11\n"
     ]
    }
   ],
   "source": [
    "# Найдем наиболее интересные (по rate) города\n",
    "print(list(city1.query('rate > 11961').city))\n",
    "print(city1.query('rate > 11961').city.nunique())"
   ]
  },
  {
   "cell_type": "code",
   "execution_count": 126,
   "id": "0ded143a",
   "metadata": {
    "scrolled": false
   },
   "outputs": [
    {
     "data": {
      "text/plain": [
       "[Text(0.5, 1.0, 'Int eCPM Distribution by City')]"
      ]
     },
     "execution_count": 126,
     "metadata": {},
     "output_type": "execute_result"
    },
    {
     "data": {
      "image/png": "[encoded data removed]",
      "text/plain": [
       "<Figure size 640x480 with 1 Axes>"
      ]
     },
     "metadata": {},
     "output_type": "display_data"
    }
   ],
   "source": [
    "city1 = city1.query('rate > 11961').drop(columns=['rate']).sort_values('mean_ecpm', ascending=False)\n",
    "\n",
    "# посмотрим на график boxplot\n",
    "sns.boxplot(x=\"mean_ecpm\", y=\"city\", data=city1) \\\n",
    "    .set(title='Int eCPM Distribution by City')"
   ]
  },
  {
   "cell_type": "markdown",
   "id": "b77eb141",
   "metadata": {},
   "source": [
    "По этому графику можно сделать тот же вывод, что и для баннеров.\n",
    "- Нужно уделить больше внимания на таргетинг полноразмерных реклам именно для этих 11-и городов."
   ]
  },
  {
   "cell_type": "code",
   "execution_count": null,
   "id": "5dd126e6",
   "metadata": {},
   "outputs": [],
   "source": []
  },
  {
   "cell_type": "markdown",
   "id": "aa5ba7dd",
   "metadata": {},
   "source": [
    "**Реклама по выбору (Rv)**"
   ]
  },
  {
   "cell_type": "code",
   "execution_count": 127,
   "id": "8c971713",
   "metadata": {},
   "outputs": [
    {
     "data": {
      "text/plain": [
       "[Text(0.5, 1.0, 'Rv eCPM Distriution by OS ver.')]"
      ]
     },
     "execution_count": 127,
     "metadata": {},
     "output_type": "execute_result"
    },
    {
     "data": {
      "image/png": "[encoded data removed]",
      "text/plain": [
       "<Figure size 640x480 with 1 Axes>"
      ]
     },
     "metadata": {},
     "output_type": "display_data"
    }
   ],
   "source": [
    "# делаем предобработку с группировкой\n",
    "df_r_os = df_r.drop(columns=['ad_type', 'city']) \\\n",
    "                .groupby(['os_version', 'profile_id']).mean().rename(columns={'ecpm_sma': 'mean_ecpm'})\n",
    "\n",
    "# посмотрим сразу на график boxplot\n",
    "order = ['5.0.2', '6.0.1', '7.0', '7.1.1', '8.0.0', '8.1.0', '9', '10', '11', '12' ]\n",
    "sns.boxplot(x=\"os_version\", y=\"mean_ecpm\", data=df_r_os.reset_index(),\n",
    "           order=order).set(title='Rv eCPM Distriution by OS ver.')"
   ]
  },
  {
   "cell_type": "code",
   "execution_count": 128,
   "id": "a9bfacf1",
   "metadata": {
    "scrolled": false
   },
   "outputs": [
    {
     "data": {
      "text/plain": [
       "[Text(0.5, 1.0, 'Rv eCPM Distriution by OS ver.')]"
      ]
     },
     "execution_count": 128,
     "metadata": {},
     "output_type": "execute_result"
    },
    {
     "data": {
      "image/png": "[encoded data removed]",
      "text/plain": [
       "<Figure size 640x480 with 1 Axes>"
      ]
     },
     "metadata": {},
     "output_type": "display_data"
    }
   ],
   "source": [
    "# картина очень похожа на то, что было с баннерами и полноэкранной рекламой, но eCPM еще больше!\n",
    "\n",
    "# также имеем большое количество выбросов\n",
    "# у выбросов есть тенденция к увеличению их разброса с каждой новой версией ОС (если смотреть на 0-ые версии)\n",
    "# посмотрим на боксплоты ближе\n",
    "limit = 400\n",
    "sns.boxplot(x=\"os_version\", y=\"mean_ecpm\", data=df_r_os.reset_index().query(f'mean_ecpm < {limit}'),\n",
    "           order=order).set(title='Rv eCPM Distriution by OS ver.')"
   ]
  },
  {
   "cell_type": "code",
   "execution_count": 129,
   "id": "b2d0a1e1",
   "metadata": {},
   "outputs": [
    {
     "name": "stdout",
     "output_type": "stream",
     "text": [
      "98%\n"
     ]
    }
   ],
   "source": [
    "# у реклам по выбору распределение от версии к версии также! не такое \"ровное\", как у баннеров\n",
    "# как и с полноэкранными рекламами отсеим те версии, которые не являются интересными бизнесу с т.з. кол-ва пользователей\n",
    "os_5 = df_r_os.reset_index().query('os_version == \"5.0.2\"').mean_ecpm\n",
    "os_6 = df_r_os.reset_index().query('os_version == \"6.0.1\"').mean_ecpm\n",
    "os_70 = df_r_os.reset_index().query('os_version == \"7.0\"').mean_ecpm\n",
    "os_711 = df_r_os.reset_index().query('os_version == \"7.1.1\"').mean_ecpm\n",
    "os_800 = df_r_os.reset_index().query('os_version == \"8.0.0\"').mean_ecpm\n",
    "os_810 = df_r_os.reset_index().query('os_version == \"8.1.0\"').mean_ecpm\n",
    "os_9 = df_r_os.reset_index().query('os_version == \"9\"').mean_ecpm\n",
    "os_10 = df_r_os.reset_index().query('os_version == \"10\"').mean_ecpm\n",
    "os_11 = df_r_os.reset_index().query('os_version == \"11\"').mean_ecpm\n",
    "os_12 = df_r_os.reset_index().query('os_version == \"12\"').mean_ecpm\n",
    "\n",
    "n = os_5.shape[0]+os_6.shape[0]+os_70.shape[0]+os_711.shape[0]+os_800.shape[0]+os_810.shape[0]\n",
    "print(f'{100-round((n)/df_r_os.shape[0]*100)}%')  # checked"
   ]
  },
  {
   "cell_type": "code",
   "execution_count": 130,
   "id": "9864bb7e",
   "metadata": {},
   "outputs": [
    {
     "data": {
      "text/plain": [
       "[Text(0.5, 1.0, 'Rv eCPM Distribution by OS ver.')]"
      ]
     },
     "execution_count": 130,
     "metadata": {},
     "output_type": "execute_result"
    },
    {
     "data": {
      "image/png": "[encoded data removed]",
      "text/plain": [
       "<Figure size 640x480 with 1 Axes>"
      ]
     },
     "metadata": {},
     "output_type": "display_data"
    }
   ],
   "source": [
    "# т.о., тот боксплот, на который мы будем ориентироваться при исследовании\n",
    "# рекламы по выбору (по версиям ОС)\n",
    "# выглядит так\n",
    "limit = 400\n",
    "order = ['9', '10', '11', '12']\n",
    "sns.boxplot(x=\"os_version\", y=\"mean_ecpm\", data=df_r_os.reset_index().query(f'mean_ecpm < {limit}'),\n",
    "           order=order).set(title='Rv eCPM Distribution by OS ver.')"
   ]
  },
  {
   "cell_type": "code",
   "execution_count": 131,
   "id": "e7e23593",
   "metadata": {},
   "outputs": [
    {
     "name": "stdout",
     "output_type": "stream",
     "text": [
      "0.0008418346978499677\n",
      "0.13893317643446418\n",
      "0.04104691295921957\n"
     ]
    }
   ],
   "source": [
    "# проведем тесты гомогенности\n",
    "\n",
    "stat, p = levene(os_9, os_10, os_11, os_12, center='median')\n",
    "print(p)\n",
    "\n",
    "stat, p = levene(os_9, os_10, os_11, center='median')\n",
    "print(p)\n",
    "\n",
    "stat, p = levene(os_11, os_12, center='median')\n",
    "print(p)"
   ]
  },
  {
   "cell_type": "code",
   "execution_count": 132,
   "id": "6157aa86",
   "metadata": {},
   "outputs": [],
   "source": [
    "# тест на гомогенность прошли 3 предыдущие версии (если считать, что 12 - нынешняя)\n",
    "# согласно источнику, что уже был описан выше, мы можем с определенной долей вероятности утверждать,\n",
    "# что новейшая версия статстически значимо отличается от предыдущих 3-х версий,\n",
    "# посмотрим какой процент рынка от версий 9-12 они (вер. 9-11) занимают"
   ]
  },
  {
   "cell_type": "code",
   "execution_count": 133,
   "id": "7527d6a3",
   "metadata": {},
   "outputs": [
    {
     "data": {
      "text/plain": [
       "'52%'"
      ]
     },
     "execution_count": 133,
     "metadata": {},
     "output_type": "execute_result"
    }
   ],
   "source": [
    "f'{round((os_9.shape[0]+os_10.shape[0]+os_11.shape[0]) / (os_9.shape[0]+os_10.shape[0]+os_11.shape[0]+os_12.shape[0])*100)}%'"
   ]
  },
  {
   "cell_type": "code",
   "execution_count": 134,
   "id": "28230768",
   "metadata": {},
   "outputs": [
    {
     "data": {
      "text/plain": [
       "F_onewayResult(statistic=2.6759206141733825, pvalue=0.0695759068731758)"
      ]
     },
     "execution_count": 134,
     "metadata": {},
     "output_type": "execute_result"
    }
   ],
   "source": [
    "# существенный процент\n",
    "# значит просто так не рассматривать их при изучении формата рекламы по выбору мы не можем\n",
    "# но посмотрим, есть ли статистически значимые различия в этих версиях (9-11)\n",
    "# проведем ANOVA\n",
    "f_oneway(os_9, os_10, os_11)"
   ]
  },
  {
   "cell_type": "code",
   "execution_count": 135,
   "id": "42684aa5",
   "metadata": {},
   "outputs": [],
   "source": [
    "# pvalue однофакторного дисперсионного анализа средниз значений средних eCPM'ов с распределением по версиям ОС (вер. 9-11)\n",
    "# показал, что отклонить нулевую гипотезу о равенстве этих групп мы не можем,\n",
    "# поэтому делаем вывод"
   ]
  },
  {
   "cell_type": "markdown",
   "id": "bcd11661",
   "metadata": {},
   "source": [
    "Согласно теста, есть различия между следующими группами версий ОС: (9, 10, 11) и (12). Поскольку группа (9, 10, 11) составляет существенную долю этого рынка, то мы обязаны учитывать эту группу.\n",
    "- Касаемо рекламы по выбору, я бы мог порекомендовать так же, как и в исследовании других форматов рекламы, ориентироваться на версии 9-12 при тестах и отладке изменений.\n",
    "- А также учитывать, что среднее значение eCPM в версии 12 значительно (+25%) выше, чем у 2х предыдущих версий ОС (10-11)"
   ]
  },
  {
   "cell_type": "code",
   "execution_count": null,
   "id": "5da1d6c7",
   "metadata": {},
   "outputs": [],
   "source": []
  },
  {
   "cell_type": "code",
   "execution_count": 136,
   "id": "96719df1",
   "metadata": {},
   "outputs": [],
   "source": [
    "# (os_12.mean()-os_11.mean())/os_11.mean()"
   ]
  },
  {
   "cell_type": "markdown",
   "id": "976778d2",
   "metadata": {},
   "source": [
    "Теперь смотрим на распределения по городам"
   ]
  },
  {
   "cell_type": "code",
   "execution_count": 137,
   "id": "9fae82e9",
   "metadata": {},
   "outputs": [
    {
     "data": {
      "text/plain": [
       "454"
      ]
     },
     "execution_count": 137,
     "metadata": {},
     "output_type": "execute_result"
    }
   ],
   "source": [
    "# делаем предобработку с группировкой\n",
    "df_r_city = df_r.drop(columns=['ad_type', 'os_version']) \\\n",
    "                .groupby(['city', 'profile_id']).mean().rename(columns={'ecpm_sma': 'mean_ecpm'})\n",
    "\n",
    "# сколько таких городов у нас в датасете?\n",
    "df_r_city.reset_index().city.nunique()"
   ]
  },
  {
   "cell_type": "code",
   "execution_count": 138,
   "id": "1b3d743a",
   "metadata": {},
   "outputs": [
    {
     "data": {
      "text/plain": [
       "[[]]"
      ]
     },
     "execution_count": 138,
     "metadata": {},
     "output_type": "execute_result"
    },
    {
     "data": {
      "image/png": "[encoded data removed]",
      "text/plain": [
       "<Figure size 640x480 with 1 Axes>"
      ]
     },
     "metadata": {},
     "output_type": "display_data"
    }
   ],
   "source": [
    "# найдем те города, что составляют наибольшее число пользователей (95+ %)\n",
    "\n",
    "city1 = df_r.drop(columns=['ad_type', 'os_version']) \\\n",
    "            .groupby(['city'], as_index=False).agg({'profile_id': 'count',\n",
    "                                                    'ecpm_sma': 'mean'}) \\\n",
    "            .rename(columns={'profile_id': 'users',\n",
    "                             'ecpm_sma': 'mean_ecpm'}) \\\n",
    "            .query('users >= 3')  # 0.5 квантиль\n",
    "\n",
    "# сделаем своего рода метрику для ранжирования городов по наибольшему бизнес интересу\n",
    "city1['rate'] = city1.users*city1.mean_ecpm\n",
    "city1 = city1.sort_values('rate', ascending=False)\n",
    "\n",
    "sns.lineplot(data=city1, x='city', y='rate').set(xticks=[])"
   ]
  },
  {
   "cell_type": "code",
   "execution_count": 139,
   "id": "4eddfde5",
   "metadata": {},
   "outputs": [
    {
     "data": {
      "text/plain": [
       "4144.008115386963"
      ]
     },
     "execution_count": 139,
     "metadata": {},
     "output_type": "execute_result"
    }
   ],
   "source": [
    "city1['rate'].quantile(q=0.95)  # NB: тогда отсекается не 0.95, а (0.5+0.5*0.95) значений (0.975 квантиль)"
   ]
  },
  {
   "cell_type": "code",
   "execution_count": 140,
   "id": "3325b79f",
   "metadata": {},
   "outputs": [
    {
     "name": "stdout",
     "output_type": "stream",
     "text": [
      "['Houston', 'New York', 'Minneapolis', 'Oklahoma City', 'Rocky Mount', 'Cleveland', 'Cincinnati', 'Rockford', \"Lee's Summit\", 'Columbus', 'Indianapolis', 'Denver', 'Charlotte']\n",
      "13\n"
     ]
    }
   ],
   "source": [
    "# Найдем наиболее интересные (по rate) города\n",
    "print(list(city1.query('rate > 4144').city))\n",
    "print(city1.query('rate > 4144').city.nunique())"
   ]
  },
  {
   "cell_type": "code",
   "execution_count": 141,
   "id": "8e71be2a",
   "metadata": {
    "scrolled": false
   },
   "outputs": [
    {
     "data": {
      "text/plain": [
       "[Text(0.5, 1.0, 'Rv eCPM Distribution by City')]"
      ]
     },
     "execution_count": 141,
     "metadata": {},
     "output_type": "execute_result"
    },
    {
     "data": {
      "image/png": "[encoded data removed]",
      "text/plain": [
       "<Figure size 640x480 with 1 Axes>"
      ]
     },
     "metadata": {},
     "output_type": "display_data"
    }
   ],
   "source": [
    "city1 = city1.query('rate > 4144').drop(columns=['rate']).sort_values('mean_ecpm', ascending=False)\n",
    "\n",
    "# посмотрим на график boxplot\n",
    "sns.boxplot(x=\"mean_ecpm\", y=\"city\", data=city1) \\\n",
    "    .set(title='Rv eCPM Distribution by City')"
   ]
  },
  {
   "cell_type": "markdown",
   "id": "49c8b76d",
   "metadata": {},
   "source": [
    "По этому графику можно сделать тот же вывод, что и для 2-х других форматов рекламы.\n",
    "- Нужно уделить больше внимания на таргетинг рекламы по выбору именно для этих 13-и городов."
   ]
  },
  {
   "cell_type": "code",
   "execution_count": null,
   "id": "6b6c46a9",
   "metadata": {},
   "outputs": [],
   "source": []
  },
  {
   "cell_type": "markdown",
   "id": "282d4d83",
   "metadata": {},
   "source": [
    "## Промежуточный вывод"
   ]
  },
  {
   "cell_type": "markdown",
   "id": "e5597552",
   "metadata": {},
   "source": [
    "Баннеры\n",
    "- При разработке маркетинговой стратегии учитывать, что баннеры имеют самое низкое усредненное значение eCPM (0.78)\n",
    "- Отладку и тест нововведений лучше ограничить версиями OS Android 9-12\n",
    "- Уделить больше внимания на таргетинг рекламы для этих 22-х городов:\n",
    ">'Charlotte', 'Charlottesville', 'Chicago', 'Cleveland', 'Columbus', 'Dallas', 'Denver', 'Gardena', 'Grand Junction', 'Houston', 'Indianapolis', 'Kansas City', 'Las Vegas', \"Lee's Summit\", 'Los Angeles', 'Miami', 'Minneapolis', 'New York', 'Omaha', 'Spokane', 'Springfield', 'Tampa'\n",
    "\n",
    "Полноразмерная реклама\n",
    "- При разработке маркетинговой стратегии учитывать, что полноразмерная реклама имеет гораздо более высокое усредненное значение eCPM, чем баннеры (42.64)\n",
    "- Отладку и тест нововведений лучше ограничить версиями OS Android 9-12\n",
    "- Уделить больше внимания на таргетинг рекламы для этих 11-и городов:\n",
    ">'New York', 'Indianapolis', 'Cleveland', 'Minneapolis', 'Houston', 'Charlotte', 'Columbus', 'Los Angeles', 'Dallas', 'Denver', 'Las Vegas'\n",
    "\n",
    "Реклама по выбору\n",
    "- При разработке маркетинговой стратегии учитывать, что реклама по выбору имеет самое высокое усредненное значение eCPM (71.90)\n",
    "- Ориентироваться на версии 9-12 при тестах и отладке изменений.\n",
    "- Учитывать, что среднее значение eCPM в версии 12 значительно (+25%) выше, чем у 2х предыдущих версий ОС (10-11)\n",
    "- Нужно уделить больше внимания на таргетинг рекламы по выбору именно для этих 13-и городов:\n",
    ">'Houston', 'New York', 'Minneapolis', 'Oklahoma City', 'Rocky Mount', 'Cleveland', 'Cincinnati', 'Rockford', \"Lee's Summit\", 'Columbus', 'Indianapolis', 'Denver', 'Charlotte'"
   ]
  },
  {
   "cell_type": "code",
   "execution_count": 142,
   "id": "b9e62488",
   "metadata": {},
   "outputs": [],
   "source": [
    "# print(df_b.ecpm_sma.mean())\n",
    "# print(df_i.ecpm_sma.mean())\n",
    "# print(df_r.ecpm_sma.mean())"
   ]
  },
  {
   "cell_type": "code",
   "execution_count": null,
   "id": "82626bd6",
   "metadata": {},
   "outputs": [],
   "source": []
  },
  {
   "cell_type": "markdown",
   "id": "356a7d37",
   "metadata": {},
   "source": [
    "## Подзадача С"
   ]
  },
  {
   "cell_type": "markdown",
   "id": "0bad2dc1",
   "metadata": {},
   "source": [
    "Для того, чтобы построить распределение доходов по городам, версиям ОС, и сделать по ним выводы, и предоставить рекомендации бизнему, нужно сделать все то же самое, что и в Подзадаче B, но парсим теперь не ключ ecpm_sma, а ключ revenue.\n",
    "\n",
    "На этом выполнение тестового задания я завершаю (см. выводы ниже), исходя из предположения, что полностью эту работу (от и до) проверять вряд ли будете, и даже если такая работа по проверке будет сделана, то этим я сэкономлю время вам и себе. Расчитываю, что по написанному выше уже можно сделать выводы о моих навыках в Аналитике. "
   ]
  },
  {
   "cell_type": "code",
   "execution_count": null,
   "id": "c9aa7fa0",
   "metadata": {},
   "outputs": [],
   "source": []
  },
  {
   "cell_type": "markdown",
   "id": "10aac5e8",
   "metadata": {},
   "source": [
    "## Выводы"
   ]
  },
  {
   "cell_type": "markdown",
   "id": "46f4a96e",
   "metadata": {},
   "source": [
    "(полностью повторяют промежуточные)\n",
    "\n",
    "Баннеры\n",
    "- При разработке маркетинговой стратегии учитывать, что баннеры имеют самое низкое усредненное значение eCPM (0.78)\n",
    "- Отладку и тест нововведений лучше ограничить версиями OS Android 9-12\n",
    "- Уделить больше внимания на таргетинг рекламы для этих 22-х городов:\n",
    ">'Charlotte', 'Charlottesville', 'Chicago', 'Cleveland', 'Columbus', 'Dallas', 'Denver', 'Gardena', 'Grand Junction', 'Houston', 'Indianapolis', 'Kansas City', 'Las Vegas', \"Lee's Summit\", 'Los Angeles', 'Miami', 'Minneapolis', 'New York', 'Omaha', 'Spokane', 'Springfield', 'Tampa'\n",
    "\n",
    "Полноразмерная реклама\n",
    "- При разработке маркетинговой стратегии учитывать, что полноразмерная реклама имеет гораздо более высокое усредненное значение eCPM, чем баннеры (42.64)\n",
    "- Отладку и тест нововведений лучше ограничить версиями OS Android 9-12\n",
    "- Уделить больше внимания на таргетинг рекламы для этих 11-и городов:\n",
    ">'New York', 'Indianapolis', 'Cleveland', 'Minneapolis', 'Houston', 'Charlotte', 'Columbus', 'Los Angeles', 'Dallas', 'Denver', 'Las Vegas'\n",
    "\n",
    "Реклама по выбору\n",
    "- При разработке маркетинговой стратегии учитывать, что реклама по выбору имеет самое высокое усредненное значение eCPM (71.90)\n",
    "- Ориентироваться на версии 9-12 при тестах и отладке изменений.\n",
    "- Учитывать, что среднее значение eCPM в версии 12 значительно (+25%) выше, чем у 2х предыдущих версий ОС (10-11)\n",
    "- Нужно уделить больше внимания на таргетинг рекламы по выбору именно для этих 13-и городов:\n",
    ">'Houston', 'New York', 'Minneapolis', 'Oklahoma City', 'Rocky Mount', 'Cleveland', 'Cincinnati', 'Rockford', \"Lee's Summit\", 'Columbus', 'Indianapolis', 'Denver', 'Charlotte'"
   ]
  },
  {
   "cell_type": "code",
   "execution_count": null,
   "id": "74a57e7f",
   "metadata": {},
   "outputs": [],
   "source": []
  },
  {
   "cell_type": "code",
   "execution_count": null,
   "id": "8f4a41bf",
   "metadata": {},
   "outputs": [],
   "source": []
  },
  {
   "cell_type": "code",
   "execution_count": null,
   "id": "bba75ffb",
   "metadata": {},
   "outputs": [],
   "source": []
  }
 ],
 "metadata": {
  "kernelspec": {
   "display_name": "Python 3 (ipykernel)",
   "language": "python",
   "name": "python3"
  },
  "language_info": {
   "codemirror_mode": {
    "name": "ipython",
    "version": 3
   },
   "file_extension": ".py",
   "mimetype": "text/x-python",
   "name": "python",
   "nbconvert_exporter": "python",
   "pygments_lexer": "ipython3",
   "version": "3.10.5"
  }
 },
 "nbformat": 4,
 "nbformat_minor": 5
}

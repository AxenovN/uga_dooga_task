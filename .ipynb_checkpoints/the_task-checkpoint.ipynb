{
 "cells": [
  {
   "cell_type": "markdown",
   "id": "7fbe1182",
   "metadata": {},
   "source": [
    "# СОДЕРЖАНИЕ\n",
    "\n",
    "- Из общей информации\n",
    "- Бизнес задача\n",
    "- Детализация задач\n",
    "- Информация о данных\n",
    "- Требования к работе\n",
    "- Получениие данных\n",
    "- Предобработка данных\n",
    "    - Начальная. Понятие физ. сущностей\n",
    "    - Предобработка данных. Манипуляции\n",
    "- ..."
   ]
  },
  {
   "cell_type": "markdown",
   "id": "137431ed",
   "metadata": {},
   "source": [
    "# Из Общей Информации"
   ]
  },
  {
   "cell_type": "markdown",
   "id": "c69cdb23",
   "metadata": {},
   "source": [
    "Форматы рекламы в мобильных играх:\n",
    "- int – полноэкранная реклама; \n",
    "- banner – горизонтальный баннер, висит внизу экрана пока юзер играет;\n",
    "- rv – видео, которое юзер смотрит по желанию и за просмотр получает монетки или др. ресурсы.\n",
    "\n",
    "eCPM – доход за 1000 показов рекламы."
   ]
  },
  {
   "cell_type": "markdown",
   "id": "d0751360",
   "metadata": {},
   "source": [
    "# Бизнес Задача"
   ]
  },
  {
   "cell_type": "markdown",
   "id": "df54e71d",
   "metadata": {},
   "source": [
    "Провести исследование показов рекламы с целью понять на сколько отличается eCPM в зависимости от географии (города) юзера, версии ОС и других параметров.\n",
    "\n",
    "Этот csv файл (544,4 Mb) содержит информацию о показах рекламы для юзеров США:\n",
    "https://drive.google.com/drive/folders/1bjWlzyXV8ALcoxZYrdNQH6_MOm3nS3Pl?usp=sharing"
   ]
  },
  {
   "cell_type": "markdown",
   "id": "1b740527",
   "metadata": {},
   "source": [
    "# Детализация Задач"
   ]
  },
  {
   "cell_type": "markdown",
   "id": "5aa93529",
   "metadata": {},
   "source": [
    "- 1. Для каждого формата рекламы:\n",
    "    - a. построить распределение средних eCPM-ов юзеров\n",
    "    - b. построить распределение eCPM-ов по городам, версиям ОС\n",
    "    - c. построить распределение доходов по городам, версиям ОС\n",
    "- 2. Учесть статистическую значимость (отобразить, отфильтровать незначимое или хотя бы прокомментировать). Объяснить решение.\n",
    "- 3. Описать наблюдения и вывод по исследованию.\n",
    "\n",
    "**Доп.:**\n",
    "\n",
    "Исследовать:\n",
    "- 4. Какой процент доходов содержит информацию о городе юзера\n",
    "- 5. Зависит ли eCPM от времени дня"
   ]
  },
  {
   "cell_type": "markdown",
   "id": "31c66f0c",
   "metadata": {},
   "source": [
    "# Информация о Данных"
   ]
  },
  {
   "cell_type": "markdown",
   "id": "7376ad63",
   "metadata": {},
   "source": [
    "- Столбец profile_id – id юзера\n",
    "- Столбец event_json содержит данные о событии показа рекламы:\n",
    "    - ad_type – формат рекламы (int, banner или rv)\n",
    "    - placement – когда/где был показ рекламы в игре\n",
    "    - view_index – номер показа конкретного формата рекламы для юзера (не поддерживается для баннеров)\n",
    "\n",
    "    - revenue – доход от конкретного показа рекламы (eCPM = revenue * 1000)\n",
    "    - ads_ltv – накапливающийся доход от рекламы, равен сумме всех revenue юзера\n",
    "    - network_name – рекламная сеть, от которой был показ"
   ]
  },
  {
   "cell_type": "markdown",
   "id": "cbfa9d3c",
   "metadata": {},
   "source": [
    "# Требования к Работе"
   ]
  },
  {
   "cell_type": "markdown",
   "id": "55af488e",
   "metadata": {},
   "source": [
    "- Понятная визуализация данных, грамотный выбор средств для презентации данных (типы диаграмм, таблиц или др.)\n",
    "- Чистотый и понятный код\n",
    "- Описание наблюдений в процессе иследования и выводы"
   ]
  },
  {
   "cell_type": "markdown",
   "id": "82cbd0d9",
   "metadata": {},
   "source": [
    "# Получение данных"
   ]
  },
  {
   "cell_type": "code",
   "execution_count": 111,
   "id": "3878ddf2",
   "metadata": {},
   "outputs": [],
   "source": [
    "import pandas as pd\n",
    "import json\n",
    "import numpy as np\n",
    "import matplotlib.pyplot as plt"
   ]
  },
  {
   "cell_type": "code",
   "execution_count": 2,
   "id": "acc82882",
   "metadata": {},
   "outputs": [
    {
     "data": {
      "text/plain": [
       "\"\\n# неудачная попытка загрузки данных, т.к. файл очень большой вместо стандартного начала загрузки\\n# гугл отправляет на страницу, где просит подтвердить скачивание (см. скрин окна подтверждения ниже)\\nurl='https://drive.google.com/file/d/1h2eXP4EyL8hYT2kZ0wmShAtp8Qz8HpNq/view?usp=sharing'\\nurl='https://drive.google.com/uc?id=' + url.split('/')[-2]\\ndf = pd.read_csv(url)\\n\""
      ]
     },
     "execution_count": 2,
     "metadata": {},
     "output_type": "execute_result"
    }
   ],
   "source": [
    "'''\n",
    "# неудачная попытка загрузки данных, т.к. файл очень большой вместо стандартного начала загрузки\n",
    "# гугл отправляет на страницу, где просит подтвердить скачивание (см. скрин окна подтверждения ниже)\n",
    "url='https://drive.google.com/file/d/1h2eXP4EyL8hYT2kZ0wmShAtp8Qz8HpNq/view?usp=sharing'\n",
    "url='https://drive.google.com/uc?id=' + url.split('/')[-2]\n",
    "df = pd.read_csv(url)\n",
    "'''"
   ]
  },
  {
   "attachments": {
    "image.png": {
     "image/png": "[encoded data removed]"
    }
   },
   "cell_type": "markdown",
   "id": "de52fc69",
   "metadata": {},
   "source": [
    "![image.png](attachment:image.png)"
   ]
  },
  {
   "cell_type": "markdown",
   "id": "13433378",
   "metadata": {},
   "source": [
    "Я скачал файл на свой ПК; в репозиторий клонировать его не буду; открою локально для анализа, дальнейшей работы."
   ]
  },
  {
   "cell_type": "code",
   "execution_count": 124,
   "id": "af424415",
   "metadata": {},
   "outputs": [],
   "source": [
    "path = '../../../6_database/us events ad_revenue filtered 03.02-07.02.csv'\n",
    "df = pd.read_csv(path)"
   ]
  },
  {
   "cell_type": "code",
   "execution_count": 125,
   "id": "f2489af8",
   "metadata": {
    "scrolled": false
   },
   "outputs": [
    {
     "data": {
      "text/html": [
       "<div>\n",
       "<style scoped>\n",
       "    .dataframe tbody tr th:only-of-type {\n",
       "        vertical-align: middle;\n",
       "    }\n",
       "\n",
       "    .dataframe tbody tr th {\n",
       "        vertical-align: top;\n",
       "    }\n",
       "\n",
       "    .dataframe thead th {\n",
       "        text-align: right;\n",
       "    }\n",
       "</style>\n",
       "<table border=\"1\" class=\"dataframe\">\n",
       "  <thead>\n",
       "    <tr style=\"text-align: right;\">\n",
       "      <th></th>\n",
       "      <th>profile_id</th>\n",
       "      <th>os_version</th>\n",
       "      <th>device_manufacturer</th>\n",
       "      <th>device_model</th>\n",
       "      <th>device_type</th>\n",
       "      <th>device_locale</th>\n",
       "      <th>event_name</th>\n",
       "      <th>event_json</th>\n",
       "      <th>event_datetime</th>\n",
       "      <th>event_timestamp</th>\n",
       "      <th>event_receive_datetime</th>\n",
       "      <th>event_receive_timestamp</th>\n",
       "      <th>connection_type</th>\n",
       "      <th>operator_name</th>\n",
       "      <th>country_iso_code</th>\n",
       "      <th>city</th>\n",
       "    </tr>\n",
       "  </thead>\n",
       "  <tbody>\n",
       "    <tr>\n",
       "      <th>0</th>\n",
       "      <td>JLjpGzDHBQm</td>\n",
       "      <td>11</td>\n",
       "      <td>Samsung</td>\n",
       "      <td>Galaxy Tab S6</td>\n",
       "      <td>tablet</td>\n",
       "      <td>en_US</td>\n",
       "      <td>c_ad_revenue</td>\n",
       "      <td>{\"ad_type\":\"banner\",\"placement\":\"\",\"view_index...</td>\n",
       "      <td>2022-02-04 20:02:28</td>\n",
       "      <td>1643994148</td>\n",
       "      <td>2022-02-06 17:58:19</td>\n",
       "      <td>1644159499</td>\n",
       "      <td>wifi</td>\n",
       "      <td>NaN</td>\n",
       "      <td>US</td>\n",
       "      <td>Norwalk</td>\n",
       "    </tr>\n",
       "    <tr>\n",
       "      <th>1</th>\n",
       "      <td>JLjpGzDHBQm</td>\n",
       "      <td>11</td>\n",
       "      <td>Samsung</td>\n",
       "      <td>Galaxy Tab S6</td>\n",
       "      <td>tablet</td>\n",
       "      <td>en_US</td>\n",
       "      <td>c_ad_revenue</td>\n",
       "      <td>{\"ad_type\":\"banner\",\"placement\":\"\",\"view_index...</td>\n",
       "      <td>2022-02-04 20:02:45</td>\n",
       "      <td>1643994165</td>\n",
       "      <td>2022-02-06 17:58:19</td>\n",
       "      <td>1644159499</td>\n",
       "      <td>wifi</td>\n",
       "      <td>NaN</td>\n",
       "      <td>US</td>\n",
       "      <td>Norwalk</td>\n",
       "    </tr>\n",
       "    <tr>\n",
       "      <th>2</th>\n",
       "      <td>JLkVacrzHY6</td>\n",
       "      <td>11</td>\n",
       "      <td>Google</td>\n",
       "      <td>Pixel 2</td>\n",
       "      <td>phone</td>\n",
       "      <td>en_US</td>\n",
       "      <td>c_ad_revenue</td>\n",
       "      <td>{\"ad_type\":\"banner\",\"placement\":\"\",\"view_index...</td>\n",
       "      <td>2022-02-05 17:53:05</td>\n",
       "      <td>1644072785</td>\n",
       "      <td>2022-02-06 16:59:29</td>\n",
       "      <td>1644155969</td>\n",
       "      <td>wifi</td>\n",
       "      <td>Verizon</td>\n",
       "      <td>US</td>\n",
       "      <td>Charlotte</td>\n",
       "    </tr>\n",
       "    <tr>\n",
       "      <th>3</th>\n",
       "      <td>JMC6wG3cX0f</td>\n",
       "      <td>10</td>\n",
       "      <td>Samsung</td>\n",
       "      <td>Galaxy S9</td>\n",
       "      <td>phone</td>\n",
       "      <td>en_US</td>\n",
       "      <td>c_ad_revenue</td>\n",
       "      <td>{\"ad_type\":\"int\",\"placement\":\"next_level\",\"vie...</td>\n",
       "      <td>2022-02-06 17:09:01</td>\n",
       "      <td>1644156541</td>\n",
       "      <td>2022-02-06 17:09:24</td>\n",
       "      <td>1644156564</td>\n",
       "      <td>wifi</td>\n",
       "      <td>T-Mobile</td>\n",
       "      <td>US</td>\n",
       "      <td>Cocoa</td>\n",
       "    </tr>\n",
       "    <tr>\n",
       "      <th>4</th>\n",
       "      <td>JLzWWTJfi1b</td>\n",
       "      <td>10</td>\n",
       "      <td>Samsung</td>\n",
       "      <td>Galaxy S9</td>\n",
       "      <td>phone</td>\n",
       "      <td>en_US</td>\n",
       "      <td>c_ad_revenue</td>\n",
       "      <td>{\"ad_type\":\"banner\",\"placement\":\"\",\"view_index...</td>\n",
       "      <td>2022-02-06 17:15:38</td>\n",
       "      <td>1644156938</td>\n",
       "      <td>2022-02-06 17:16:16</td>\n",
       "      <td>1644156976</td>\n",
       "      <td>cell</td>\n",
       "      <td>Verizon</td>\n",
       "      <td>US</td>\n",
       "      <td>NaN</td>\n",
       "    </tr>\n",
       "  </tbody>\n",
       "</table>\n",
       "</div>"
      ],
      "text/plain": [
       "    profile_id os_version device_manufacturer   device_model device_type  \\\n",
       "0  JLjpGzDHBQm         11             Samsung  Galaxy Tab S6      tablet   \n",
       "1  JLjpGzDHBQm         11             Samsung  Galaxy Tab S6      tablet   \n",
       "2  JLkVacrzHY6         11              Google        Pixel 2       phone   \n",
       "3  JMC6wG3cX0f         10             Samsung      Galaxy S9       phone   \n",
       "4  JLzWWTJfi1b         10             Samsung      Galaxy S9       phone   \n",
       "\n",
       "  device_locale    event_name  \\\n",
       "0         en_US  c_ad_revenue   \n",
       "1         en_US  c_ad_revenue   \n",
       "2         en_US  c_ad_revenue   \n",
       "3         en_US  c_ad_revenue   \n",
       "4         en_US  c_ad_revenue   \n",
       "\n",
       "                                          event_json       event_datetime  \\\n",
       "0  {\"ad_type\":\"banner\",\"placement\":\"\",\"view_index...  2022-02-04 20:02:28   \n",
       "1  {\"ad_type\":\"banner\",\"placement\":\"\",\"view_index...  2022-02-04 20:02:45   \n",
       "2  {\"ad_type\":\"banner\",\"placement\":\"\",\"view_index...  2022-02-05 17:53:05   \n",
       "3  {\"ad_type\":\"int\",\"placement\":\"next_level\",\"vie...  2022-02-06 17:09:01   \n",
       "4  {\"ad_type\":\"banner\",\"placement\":\"\",\"view_index...  2022-02-06 17:15:38   \n",
       "\n",
       "   event_timestamp event_receive_datetime  event_receive_timestamp  \\\n",
       "0       1643994148    2022-02-06 17:58:19               1644159499   \n",
       "1       1643994165    2022-02-06 17:58:19               1644159499   \n",
       "2       1644072785    2022-02-06 16:59:29               1644155969   \n",
       "3       1644156541    2022-02-06 17:09:24               1644156564   \n",
       "4       1644156938    2022-02-06 17:16:16               1644156976   \n",
       "\n",
       "  connection_type operator_name country_iso_code       city  \n",
       "0            wifi           NaN               US    Norwalk  \n",
       "1            wifi           NaN               US    Norwalk  \n",
       "2            wifi       Verizon               US  Charlotte  \n",
       "3            wifi      T-Mobile               US      Cocoa  \n",
       "4            cell      Verizon                US        NaN  "
      ]
     },
     "execution_count": 125,
     "metadata": {},
     "output_type": "execute_result"
    }
   ],
   "source": [
    "df.head()"
   ]
  },
  {
   "cell_type": "markdown",
   "id": "03da89c2",
   "metadata": {},
   "source": [
    "Данные открыты. Посмотрим на изначальные вид и структуру"
   ]
  },
  {
   "cell_type": "markdown",
   "id": "6af4a68d",
   "metadata": {},
   "source": [
    "# Предобработка данных"
   ]
  },
  {
   "cell_type": "markdown",
   "id": "d1a9a5fa",
   "metadata": {},
   "source": [
    "## Начальная. Понятие физ. сущностей"
   ]
  },
  {
   "cell_type": "code",
   "execution_count": 5,
   "id": "8453cdec",
   "metadata": {},
   "outputs": [
    {
     "data": {
      "text/plain": [
       "(860079, 16)"
      ]
     },
     "execution_count": 5,
     "metadata": {},
     "output_type": "execute_result"
    }
   ],
   "source": [
    "df.shape"
   ]
  },
  {
   "cell_type": "code",
   "execution_count": 6,
   "id": "48f670f7",
   "metadata": {},
   "outputs": [
    {
     "data": {
      "text/plain": [
       "profile_id                 object\n",
       "os_version                 object\n",
       "device_manufacturer        object\n",
       "device_model               object\n",
       "device_type                object\n",
       "device_locale              object\n",
       "event_name                 object\n",
       "event_json                 object\n",
       "event_datetime             object\n",
       "event_timestamp             int64\n",
       "event_receive_datetime     object\n",
       "event_receive_timestamp     int64\n",
       "connection_type            object\n",
       "operator_name              object\n",
       "country_iso_code           object\n",
       "city                       object\n",
       "dtype: object"
      ]
     },
     "execution_count": 6,
     "metadata": {},
     "output_type": "execute_result"
    }
   ],
   "source": [
    "df.dtypes"
   ]
  },
  {
   "cell_type": "code",
   "execution_count": 7,
   "id": "515c145e",
   "metadata": {
    "scrolled": true
   },
   "outputs": [
    {
     "name": "stdout",
     "output_type": "stream",
     "text": [
      "COLUMNS\n",
      "1) profile_id - id пользователя\n",
      "2) os_version\n",
      "3) device_manufacturer\n",
      "4) device_model\n",
      "5) device_type\n",
      "6) device_locale\n",
      "7) event_name\n",
      "8) event_json - содержит данные:\n",
      "    - ad_type      – формат рекламы (int [полноэкранная], banner или rv [по желанию])\n",
      "    - placement    – когда/где был показ рекламы в игре\n",
      "    - view_index   – номер показа конкретного формата рекламы для юзера (не поддерживается для баннеров)\n",
      "    - revenue      – доход от конкретного показа рекламы (eCPM = revenue * 1000)\n",
      "    - ads_ltv      – накапливающийся доход от рекламы, равен сумме всех revenue юзера\n",
      "    - network_name – рекламная сеть, от которой был показ\n",
      "9) event_datetime\n",
      "10) event_timestamp\n",
      "11) event_receive_datetime\n",
      "12) event_receive_timestamp\n",
      "13) connection_type\n",
      "14) operator_name\n",
      "15) country_iso_code\n",
      "16) city\n"
     ]
    }
   ],
   "source": [
    "k=0\n",
    "print('COLUMNS')\n",
    "for i in df.columns:\n",
    "    if i == 'profile_id': \n",
    "        k+=1\n",
    "        print(f'{str(k)}) {i} - id пользователя')\n",
    "    elif i == 'event_json':\n",
    "        k+=1\n",
    "        print(f'{str(k)}) {i} - содержит данные:')\n",
    "        print('''    - ad_type      – формат рекламы (int [полноэкранная], banner или rv [по желанию])\n",
    "    - placement    – когда/где был показ рекламы в игре\n",
    "    - view_index   – номер показа конкретного формата рекламы для юзера (не поддерживается для баннеров)\n",
    "    - revenue      – доход от конкретного показа рекламы (eCPM = revenue * 1000)\n",
    "    - ads_ltv      – накапливающийся доход от рекламы, равен сумме всех revenue юзера\n",
    "    - network_name – рекламная сеть, от которой был показ''')\n",
    "    else:\n",
    "        k+=1\n",
    "        print(f'{str(k)}) {i}')\n",
    "        "
   ]
  },
  {
   "cell_type": "markdown",
   "id": "728fad70",
   "metadata": {},
   "source": [
    "Посмотрим на данные в колонке event_json"
   ]
  },
  {
   "cell_type": "code",
   "execution_count": 8,
   "id": "4f4926e6",
   "metadata": {
    "scrolled": true
   },
   "outputs": [
    {
     "data": {
      "text/plain": [
       "{'ad_type': 'banner',\n",
       " 'placement': '',\n",
       " 'view_index': 1,\n",
       " 'session_view_index': 0,\n",
       " 'cur_ticks': 637795729492245130,\n",
       " 'session_length': 705.8807,\n",
       " 'revenue': 0.000510313,\n",
       " 'ads_ltv': 0.487876676518837,\n",
       " 'ecpm_sma': 0.511508107185364,\n",
       " 'normalized_ecpm_sma': 0.511508107185364,\n",
       " 'value': 0.000510313,\n",
       " 'currency': 'USD',\n",
       " 'ad_country_code': 'US',\n",
       " 'network_name': 'Google AdMob',\n",
       " 'ad_unit_id': '64c6b1114ea8c1cc',\n",
       " 'ad_network_placement': 'ca-app-pub-7511632782617496/8825263691',\n",
       " 'creativeId': 'CJ3XirfD5vUCFYPnKAUdG3MOYQ'}"
      ]
     },
     "execution_count": 8,
     "metadata": {},
     "output_type": "execute_result"
    }
   ],
   "source": [
    "json.loads(df.event_json[0])"
   ]
  },
  {
   "cell_type": "markdown",
   "id": "f1426ff2",
   "metadata": {},
   "source": [
    "Исследуем данные по каждой колонке, чтобы убедиться, что у нас все выгрузилось правильно, и чтобы \"познакомиться\" с данными"
   ]
  },
  {
   "cell_type": "code",
   "execution_count": 9,
   "id": "111f360a",
   "metadata": {},
   "outputs": [
    {
     "data": {
      "text/plain": [
       "4226"
      ]
     },
     "execution_count": 9,
     "metadata": {},
     "output_type": "execute_result"
    }
   ],
   "source": [
    "# 1 - колонка 1\n",
    "df.profile_id.nunique()  # vs. 860.079 rows in dataset"
   ]
  },
  {
   "cell_type": "code",
   "execution_count": 10,
   "id": "6357f3e8",
   "metadata": {},
   "outputs": [
    {
     "data": {
      "text/plain": [
       "'JLjpGzDHBQm'"
      ]
     },
     "execution_count": 10,
     "metadata": {},
     "output_type": "execute_result"
    }
   ],
   "source": [
    "df.profile_id[0]"
   ]
  },
  {
   "cell_type": "code",
   "execution_count": 11,
   "id": "523b7ce2",
   "metadata": {},
   "outputs": [
    {
     "data": {
      "text/plain": [
       "dtype('O')"
      ]
     },
     "execution_count": 11,
     "metadata": {},
     "output_type": "execute_result"
    }
   ],
   "source": [
    "df.profile_id.dtype"
   ]
  },
  {
   "cell_type": "code",
   "execution_count": 12,
   "id": "d8965fbb",
   "metadata": {},
   "outputs": [
    {
     "name": "stdout",
     "output_type": "stream",
     "text": [
      "['Samsung' 'Google' 'TCL' 'LG' 'OnePlus' 'Motorola' 'Teracube' 'Lenovo'\n",
      " 'T-Mobile' 'Verizon Wireless' 'Xiaomi' 'Alcatel' 'Cricket' 'Blu'\n",
      " 'Kyocera' 'Maxwest' 'Nokia' 'FIH' 'Dish' 'Schok' 'deejoy' 'AT&T' 'Zte'\n",
      " 'Redmi' 'Yulong' 'Wiko' 'Huawei' 'Onn (Walmart)' 'AEEZO' 'Asus' 'JOYAR'\n",
      " 'POCO' 'Ulefone' 'Razer']\n",
      "34\n"
     ]
    }
   ],
   "source": [
    "# 2 - колонка 3\n",
    "print(df.device_manufacturer.unique())  # all are android-devices?\n",
    "print(df.device_manufacturer.nunique())"
   ]
  },
  {
   "cell_type": "code",
   "execution_count": 13,
   "id": "2396bed8",
   "metadata": {},
   "outputs": [
    {
     "name": "stdout",
     "output_type": "stream",
     "text": [
      "['11' '10' '12' '9' '8.0.0' '6.0.1' '8.1.0' '7.0' '7.1.2' '7.1.1' '5.0.2']\n",
      "11\n"
     ]
    }
   ],
   "source": [
    "# 3 - колонка 2\n",
    "print(df.os_version.unique())\n",
    "print(df.os_version.nunique())  # 11"
   ]
  },
  {
   "cell_type": "code",
   "execution_count": 14,
   "id": "4e3e453f",
   "metadata": {},
   "outputs": [],
   "source": [
    "# 4 - колонка 4 (опускаем рассмотрение)"
   ]
  },
  {
   "cell_type": "code",
   "execution_count": 15,
   "id": "a1334f7b",
   "metadata": {},
   "outputs": [
    {
     "name": "stdout",
     "output_type": "stream",
     "text": [
      "['tablet' 'phone']\n"
     ]
    }
   ],
   "source": [
    "# 5 - колонка 5\n",
    "print(df.device_type.unique())"
   ]
  },
  {
   "cell_type": "code",
   "execution_count": 16,
   "id": "202f6cec",
   "metadata": {},
   "outputs": [
    {
     "name": "stdout",
     "output_type": "stream",
     "text": [
      "['en_US' 'en_GB' 'en_NL' 'ko_KR' 'en_CA' 'fr_FR' 'en_IN' 'en_AU'\n",
      " 'zh-Hant_TW']\n",
      "9\n"
     ]
    }
   ],
   "source": [
    "# 6 - колонка 6\n",
    "print(df.device_locale.unique())\n",
    "print(df.device_locale.nunique())  # 9 стран (6 en, 1 ko, 1 fr, 1 ch)"
   ]
  },
  {
   "cell_type": "code",
   "execution_count": 17,
   "id": "d5af139c",
   "metadata": {
    "scrolled": true
   },
   "outputs": [
    {
     "name": "stdout",
     "output_type": "stream",
     "text": [
      "['c_ad_revenue']\n"
     ]
    }
   ],
   "source": [
    "# 7 - колонка 7\n",
    "print(df.event_name.unique())  # лишняя колонка в этом dataset'е, т.к. не дает почти никакой информации"
   ]
  },
  {
   "cell_type": "markdown",
   "id": "70852936",
   "metadata": {},
   "source": [
    "- Задача: убрать колонку event_name из dataset'а"
   ]
  },
  {
   "cell_type": "code",
   "execution_count": 18,
   "id": "54104371",
   "metadata": {},
   "outputs": [],
   "source": [
    "# 8 - колонка 8 (пока пропустим, т.к. в ней лучше разобрать ее \"подколонки\"/ключи)"
   ]
  },
  {
   "cell_type": "code",
   "execution_count": 19,
   "id": "52607cc8",
   "metadata": {},
   "outputs": [],
   "source": [
    "# 9 - колонка 9"
   ]
  },
  {
   "cell_type": "code",
   "execution_count": 20,
   "id": "6df0e136",
   "metadata": {},
   "outputs": [
    {
     "data": {
      "text/plain": [
       "0    2022-02-04 20:02:28\n",
       "1    2022-02-04 20:02:45\n",
       "2    2022-02-05 17:53:05\n",
       "3    2022-02-06 17:09:01\n",
       "4    2022-02-06 17:15:38\n",
       "Name: event_datetime, dtype: object"
      ]
     },
     "execution_count": 20,
     "metadata": {},
     "output_type": "execute_result"
    }
   ],
   "source": [
    "df.event_datetime.head()  # дата открылась как объект"
   ]
  },
  {
   "cell_type": "markdown",
   "id": "b7b2aa1c",
   "metadata": {},
   "source": [
    "- ~~Задача: распарсить колонку event_datetime в тип datetime~~ (см. ниже)"
   ]
  },
  {
   "cell_type": "code",
   "execution_count": 21,
   "id": "cfda8a00",
   "metadata": {},
   "outputs": [
    {
     "data": {
      "text/plain": [
       "Timestamp('2022-02-04 20:02:28')"
      ]
     },
     "execution_count": 21,
     "metadata": {},
     "output_type": "execute_result"
    }
   ],
   "source": [
    "pd.to_datetime(df.event_datetime[0])"
   ]
  },
  {
   "cell_type": "code",
   "execution_count": 22,
   "id": "c8724e3c",
   "metadata": {},
   "outputs": [
    {
     "data": {
      "text/plain": [
       "0    1643994148\n",
       "1    1643994165\n",
       "2    1644072785\n",
       "3    1644156541\n",
       "4    1644156938\n",
       "Name: event_timestamp, dtype: int64"
      ]
     },
     "execution_count": 22,
     "metadata": {},
     "output_type": "execute_result"
    }
   ],
   "source": [
    "# 10 - колонка 10\n",
    "df.event_timestamp.head()"
   ]
  },
  {
   "cell_type": "code",
   "execution_count": 23,
   "id": "c96646eb",
   "metadata": {},
   "outputs": [
    {
     "data": {
      "text/plain": [
       "Timestamp('2022-02-04 17:02:28')"
      ]
     },
     "execution_count": 23,
     "metadata": {},
     "output_type": "execute_result"
    }
   ],
   "source": [
    "pd.Timestamp(df.event_timestamp[0], unit='s')"
   ]
  },
  {
   "cell_type": "markdown",
   "id": "1e1c2b5e",
   "metadata": {},
   "source": [
    "Мы имеем в колонках 9 и 10 одни и те же данные, но выраженные разным способом:\n",
    "- Данные: время наступления события (показ рекламы)\n",
    "- Колонка 10 / event_timestamp: время наступления события в секундах от полуночи 1 января 1970 года по UTC\n",
    "- Колонка 9 / event_datetime: тогда должно быть временем наступления события (local time)\n",
    "\n",
    "Проверим:"
   ]
  },
  {
   "cell_type": "code",
   "execution_count": 24,
   "id": "5155c90c",
   "metadata": {},
   "outputs": [
    {
     "data": {
      "text/plain": [
       "profile_id                                                       JLjpGzDHBQm\n",
       "os_version                                                                11\n",
       "device_manufacturer                                                  Samsung\n",
       "device_model                                                   Galaxy Tab S6\n",
       "device_type                                                           tablet\n",
       "device_locale                                                          en_US\n",
       "event_name                                                      c_ad_revenue\n",
       "event_json                 {\"ad_type\":\"banner\",\"placement\":\"\",\"view_index...\n",
       "event_datetime                                           2022-02-04 20:02:28\n",
       "event_timestamp                                                   1643994148\n",
       "event_receive_datetime                                   2022-02-06 17:58:19\n",
       "event_receive_timestamp                                           1644159499\n",
       "connection_type                                                         wifi\n",
       "operator_name                                                            NaN\n",
       "country_iso_code                                                          US\n",
       "city                                                                 Norwalk\n",
       "Name: 0, dtype: object"
      ]
     },
     "execution_count": 24,
     "metadata": {},
     "output_type": "execute_result"
    }
   ],
   "source": [
    "df.loc[0]"
   ]
  },
  {
   "cell_type": "code",
   "execution_count": 25,
   "id": "d0213903",
   "metadata": {},
   "outputs": [
    {
     "data": {
      "text/plain": [
       "Timestamp('2022-02-04 20:02:28')"
      ]
     },
     "execution_count": 25,
     "metadata": {},
     "output_type": "execute_result"
    }
   ],
   "source": [
    "should_be_local = pd.to_datetime(df.loc[0].event_datetime)\n",
    "should_be_local"
   ]
  },
  {
   "cell_type": "code",
   "execution_count": 26,
   "id": "b89a748f",
   "metadata": {},
   "outputs": [
    {
     "data": {
      "text/plain": [
       "Timestamp('2022-02-04 17:02:28')"
      ]
     },
     "execution_count": 26,
     "metadata": {},
     "output_type": "execute_result"
    }
   ],
   "source": [
    "should_be_united = pd.Timestamp(df.loc[0].event_timestamp, unit='s')\n",
    "should_be_united"
   ]
  },
  {
   "cell_type": "code",
   "execution_count": 27,
   "id": "e9d555ba",
   "metadata": {},
   "outputs": [
    {
     "data": {
      "text/plain": [
       "Timedelta('0 days 03:00:00')"
      ]
     },
     "execution_count": 27,
     "metadata": {},
     "output_type": "execute_result"
    }
   ],
   "source": [
    "# should_be_tzdiff\n",
    "# # UTC +- tz_diff = loc\n",
    "should_be_local - should_be_united  # получилось, что tz Норуолка UTC+3, а по данным Wiki -5 (зима) или -4 (лето)"
   ]
  },
  {
   "cell_type": "markdown",
   "id": "3b3ea9c2",
   "metadata": {},
   "source": [
    "Таким образом, есть ошибка и в знаке, и по модулю, что говорит о том, что скорее всего я неправильно понял физ. сущности этих колонок. Так как уточнять сейчас нет времени, то буду действовать так:\n",
    "- буду смотреть на время UTC, на то оно и united, что по нему удобно смотреть разницу\n",
    "- если будет необходимость определить местное время суток для суточной аналитики, то ... (хотел было сказать, что буду использовать event_datetime, но это ненадежно, т.к. ошибка была еще и по знаку)"
   ]
  },
  {
   "cell_type": "markdown",
   "id": "8888824b",
   "metadata": {},
   "source": [
    "Тогда:\n",
    "- Задача: распарсить колонку event_timestamp в тип Timestamp\n",
    "- Задача: дроппнуть колонку event_datetime, т.к. я не смогу ее использовать, не поняв физ. сущность"
   ]
  },
  {
   "cell_type": "code",
   "execution_count": 28,
   "id": "1a12595d",
   "metadata": {},
   "outputs": [],
   "source": [
    "# 11, 12 - колонки 11 и 12"
   ]
  },
  {
   "cell_type": "markdown",
   "id": "89166fbd",
   "metadata": {},
   "source": [
    "Я полагаю, что дела с колонками 11 и 12 у меня будут похожи на то, что было с 9 и 10 поэтому сразу задачи:\n",
    "- Задача: распарсить колонку event_receive_timestamp в тип Timestamp\n",
    "- Задача: дроппнуть колонку event_receive_datetime, т.к. я не смогу ее использовать, не поняв физ. сущность"
   ]
  },
  {
   "cell_type": "markdown",
   "id": "7b9fb886",
   "metadata": {},
   "source": [
    "Но мне нужно понять, как соотносятся между собой event_timestamp и event_receive_timestamp."
   ]
  },
  {
   "cell_type": "code",
   "execution_count": 29,
   "id": "a9a4ad09",
   "metadata": {},
   "outputs": [
    {
     "data": {
      "text/plain": [
       "Timestamp('2022-02-04 17:02:28')"
      ]
     },
     "execution_count": 29,
     "metadata": {},
     "output_type": "execute_result"
    }
   ],
   "source": [
    "pd.Timestamp(df.loc[0].event_timestamp, unit='s')"
   ]
  },
  {
   "cell_type": "code",
   "execution_count": 30,
   "id": "b1770d49",
   "metadata": {},
   "outputs": [
    {
     "data": {
      "text/plain": [
       "Timestamp('2022-02-06 14:58:19')"
      ]
     },
     "execution_count": 30,
     "metadata": {},
     "output_type": "execute_result"
    }
   ],
   "source": [
    "pd.Timestamp(df.loc[0].event_receive_timestamp, unit='s')"
   ]
  },
  {
   "cell_type": "markdown",
   "id": "0823803a",
   "metadata": {},
   "source": [
    "Есть мнение, что event_receive_timestamp означает время получения revenue с произошедшего события (показа рекламы). Если это действительно так, то должно быть выполненно (imho) следующее условие:\n",
    "- event_timestamp всегда должно быть меньше event_receive_timestamp, если мы говорим о сдельной оплате\n",
    "\n",
    "Проверим это:"
   ]
  },
  {
   "cell_type": "code",
   "execution_count": 31,
   "id": "093392d3",
   "metadata": {},
   "outputs": [],
   "source": [
    "df1 = df[['event_timestamp', 'event_receive_timestamp']]"
   ]
  },
  {
   "cell_type": "code",
   "execution_count": 32,
   "id": "1e96788f",
   "metadata": {
    "scrolled": false
   },
   "outputs": [
    {
     "name": "stderr",
     "output_type": "stream",
     "text": [
      "C:\\Users\\OldNick\\AppData\\Local\\Temp\\ipykernel_6000\\1789636172.py:1: SettingWithCopyWarning: \n",
      "A value is trying to be set on a copy of a slice from a DataFrame.\n",
      "Try using .loc[row_indexer,col_indexer] = value instead\n",
      "\n",
      "See the caveats in the documentation: https://pandas.pydata.org/pandas-docs/stable/user_guide/indexing.html#returning-a-view-versus-a-copy\n",
      "  df1['event_receive_timestamp'] = df1['event_receive_timestamp'].apply(lambda x: pd.Timestamp(x, unit='s'))\n",
      "C:\\Users\\OldNick\\AppData\\Local\\Temp\\ipykernel_6000\\1789636172.py:2: SettingWithCopyWarning: \n",
      "A value is trying to be set on a copy of a slice from a DataFrame.\n",
      "Try using .loc[row_indexer,col_indexer] = value instead\n",
      "\n",
      "See the caveats in the documentation: https://pandas.pydata.org/pandas-docs/stable/user_guide/indexing.html#returning-a-view-versus-a-copy\n",
      "  df1['event_timestamp'] = df1['event_timestamp'].apply(lambda x: pd.Timestamp(x, unit='s'))\n"
     ]
    }
   ],
   "source": [
    "df1['event_receive_timestamp'] = df1['event_receive_timestamp'].apply(lambda x: pd.Timestamp(x, unit='s'))\n",
    "df1['event_timestamp'] = df1['event_timestamp'].apply(lambda x: pd.Timestamp(x, unit='s'))"
   ]
  },
  {
   "cell_type": "code",
   "execution_count": 33,
   "id": "33c449f5",
   "metadata": {},
   "outputs": [
    {
     "data": {
      "text/html": [
       "<div>\n",
       "<style scoped>\n",
       "    .dataframe tbody tr th:only-of-type {\n",
       "        vertical-align: middle;\n",
       "    }\n",
       "\n",
       "    .dataframe tbody tr th {\n",
       "        vertical-align: top;\n",
       "    }\n",
       "\n",
       "    .dataframe thead th {\n",
       "        text-align: right;\n",
       "    }\n",
       "</style>\n",
       "<table border=\"1\" class=\"dataframe\">\n",
       "  <thead>\n",
       "    <tr style=\"text-align: right;\">\n",
       "      <th></th>\n",
       "      <th>event_timestamp</th>\n",
       "      <th>event_receive_timestamp</th>\n",
       "    </tr>\n",
       "  </thead>\n",
       "  <tbody>\n",
       "    <tr>\n",
       "      <th>0</th>\n",
       "      <td>2022-02-04 17:02:28</td>\n",
       "      <td>2022-02-06 14:58:19</td>\n",
       "    </tr>\n",
       "    <tr>\n",
       "      <th>1</th>\n",
       "      <td>2022-02-04 17:02:45</td>\n",
       "      <td>2022-02-06 14:58:19</td>\n",
       "    </tr>\n",
       "    <tr>\n",
       "      <th>2</th>\n",
       "      <td>2022-02-05 14:53:05</td>\n",
       "      <td>2022-02-06 13:59:29</td>\n",
       "    </tr>\n",
       "    <tr>\n",
       "      <th>3</th>\n",
       "      <td>2022-02-06 14:09:01</td>\n",
       "      <td>2022-02-06 14:09:24</td>\n",
       "    </tr>\n",
       "    <tr>\n",
       "      <th>4</th>\n",
       "      <td>2022-02-06 14:15:38</td>\n",
       "      <td>2022-02-06 14:16:16</td>\n",
       "    </tr>\n",
       "  </tbody>\n",
       "</table>\n",
       "</div>"
      ],
      "text/plain": [
       "      event_timestamp event_receive_timestamp\n",
       "0 2022-02-04 17:02:28     2022-02-06 14:58:19\n",
       "1 2022-02-04 17:02:45     2022-02-06 14:58:19\n",
       "2 2022-02-05 14:53:05     2022-02-06 13:59:29\n",
       "3 2022-02-06 14:09:01     2022-02-06 14:09:24\n",
       "4 2022-02-06 14:15:38     2022-02-06 14:16:16"
      ]
     },
     "execution_count": 33,
     "metadata": {},
     "output_type": "execute_result"
    }
   ],
   "source": [
    "df1.head()"
   ]
  },
  {
   "cell_type": "code",
   "execution_count": 34,
   "id": "63939833",
   "metadata": {
    "scrolled": true
   },
   "outputs": [
    {
     "data": {
      "text/plain": [
       "event_timestamp            datetime64[ns]\n",
       "event_receive_timestamp    datetime64[ns]\n",
       "dtype: object"
      ]
     },
     "execution_count": 34,
     "metadata": {},
     "output_type": "execute_result"
    }
   ],
   "source": [
    "df1.dtypes"
   ]
  },
  {
   "cell_type": "code",
   "execution_count": 35,
   "id": "dee0b674",
   "metadata": {},
   "outputs": [
    {
     "data": {
      "text/plain": [
       "True"
      ]
     },
     "execution_count": 35,
     "metadata": {},
     "output_type": "execute_result"
    }
   ],
   "source": [
    "# Если мое предположение выше верно, то все записи в df1 (а значит и в df тоже) должны удовлетворять: \n",
    "df1.event_receive_timestamp.loc[0] > df1.event_timestamp.loc[0]"
   ]
  },
  {
   "cell_type": "code",
   "execution_count": 36,
   "id": "0e46ce0b",
   "metadata": {},
   "outputs": [
    {
     "data": {
      "text/plain": [
       "11220"
      ]
     },
     "execution_count": 36,
     "metadata": {},
     "output_type": "execute_result"
    }
   ],
   "source": [
    "# Есть ли такие записи, в которых это утверждение неверно:\n",
    "df1.query('event_receive_timestamp < event_timestamp').shape[0]"
   ]
  },
  {
   "cell_type": "markdown",
   "id": "10027656",
   "metadata": {},
   "source": [
    "Есть и их достаточно...\n",
    "\n",
    "А какая разница во времени в таких записях?"
   ]
  },
  {
   "cell_type": "code",
   "execution_count": 37,
   "id": "c8fd12ba",
   "metadata": {},
   "outputs": [
    {
     "name": "stdout",
     "output_type": "stream",
     "text": [
      "0 days 00:01:15\n",
      "0 days 00:00:01\n"
     ]
    }
   ],
   "source": [
    "print(max(df1.query('event_receive_timestamp < event_timestamp').event_timestamp - \n",
    "    df1.query('event_receive_timestamp < event_timestamp').event_receive_timestamp))\n",
    "print(min(df1.query('event_receive_timestamp < event_timestamp').event_timestamp - \n",
    "    df1.query('event_receive_timestamp < event_timestamp').event_receive_timestamp))"
   ]
  },
  {
   "cell_type": "markdown",
   "id": "94047337",
   "metadata": {},
   "source": [
    "У меня не осталось пока идей о том, чем отличаются колонки event_receive_timestamp и event_timestamp. Поступим также как и с любой информаций, по которой не ясна ее физ. сущность и пока нет возможности/времени узнать: дроппнем. Таким образом, у нас останется только время самого event'а (показ рекламы)."
   ]
  },
  {
   "cell_type": "markdown",
   "id": "2f5bfac6",
   "metadata": {},
   "source": [
    "- Задача: дроппнуть колонку event_receive_timestamp (тоже), т.к. я не смогу ее использовать, не поняв физ. сущность"
   ]
  },
  {
   "cell_type": "code",
   "execution_count": 38,
   "id": "f65a24b8",
   "metadata": {},
   "outputs": [
    {
     "data": {
      "text/plain": [
       "array(['wifi', 'cell', 'unknown'], dtype=object)"
      ]
     },
     "execution_count": 38,
     "metadata": {},
     "output_type": "execute_result"
    }
   ],
   "source": [
    "# 13 - колонка 13\n",
    "df.connection_type.unique()"
   ]
  },
  {
   "cell_type": "code",
   "execution_count": 39,
   "id": "ae9ab4e4",
   "metadata": {},
   "outputs": [
    {
     "data": {
      "text/plain": [
       "92"
      ]
     },
     "execution_count": 39,
     "metadata": {},
     "output_type": "execute_result"
    }
   ],
   "source": [
    "# 14 - колонка 14\n",
    "df.operator_name.nunique()"
   ]
  },
  {
   "cell_type": "code",
   "execution_count": 40,
   "id": "cb8f67b2",
   "metadata": {
    "scrolled": true
   },
   "outputs": [
    {
     "name": "stdout",
     "output_type": "stream",
     "text": [
      "['US']\n"
     ]
    }
   ],
   "source": [
    "# 15 - колонка 15\n",
    "print(df.country_iso_code.unique())"
   ]
  },
  {
   "cell_type": "code",
   "execution_count": 41,
   "id": "11cb6116",
   "metadata": {},
   "outputs": [
    {
     "data": {
      "text/plain": [
       "920"
      ]
     },
     "execution_count": 41,
     "metadata": {},
     "output_type": "execute_result"
    }
   ],
   "source": [
    "# 16 - колонка 16\n",
    "df.city.nunique()"
   ]
  },
  {
   "cell_type": "markdown",
   "id": "5a550d67",
   "metadata": {},
   "source": [
    "Теперь вернемся к колонке 8: event_json, - и постараемся понять физ. сущность каждого ключа "
   ]
  },
  {
   "cell_type": "code",
   "execution_count": 42,
   "id": "3f703b74",
   "metadata": {},
   "outputs": [
    {
     "data": {
      "text/plain": [
       "{'ad_type': 'banner',\n",
       " 'placement': '',\n",
       " 'view_index': 1,\n",
       " 'session_view_index': 0,\n",
       " 'cur_ticks': 637795729492245130,\n",
       " 'session_length': 705.8807,\n",
       " 'revenue': 0.000510313,\n",
       " 'ads_ltv': 0.487876676518837,\n",
       " 'ecpm_sma': 0.511508107185364,\n",
       " 'normalized_ecpm_sma': 0.511508107185364,\n",
       " 'value': 0.000510313,\n",
       " 'currency': 'USD',\n",
       " 'ad_country_code': 'US',\n",
       " 'network_name': 'Google AdMob',\n",
       " 'ad_unit_id': '64c6b1114ea8c1cc',\n",
       " 'ad_network_placement': 'ca-app-pub-7511632782617496/8825263691',\n",
       " 'creativeId': 'CJ3XirfD5vUCFYPnKAUdG3MOYQ'}"
      ]
     },
     "execution_count": 42,
     "metadata": {},
     "output_type": "execute_result"
    }
   ],
   "source": [
    "json.loads(df.event_json[0])"
   ]
  },
  {
   "cell_type": "code",
   "execution_count": 43,
   "id": "f836cc1c",
   "metadata": {},
   "outputs": [
    {
     "name": "stdout",
     "output_type": "stream",
     "text": [
      "1) ad_type\n",
      "2) placement\n",
      "3) view_index\n",
      "4) session_view_index\n",
      "5) cur_ticks\n",
      "6) session_length\n",
      "7) revenue\n",
      "8) ads_ltv\n",
      "9) ecpm_sma\n",
      "10) normalized_ecpm_sma\n",
      "11) value\n",
      "12) currency\n",
      "13) ad_country_code\n",
      "14) network_name\n",
      "15) ad_unit_id\n",
      "16) ad_network_placement\n",
      "17) creativeId\n"
     ]
    }
   ],
   "source": [
    "k=0\n",
    "for i in json.loads(df.event_json[0]):\n",
    "    k+=1\n",
    "    print(f'{k}) {i}')"
   ]
  },
  {
   "cell_type": "markdown",
   "id": "c3ff3fdf",
   "metadata": {},
   "source": [
    "ключ 1 - ad_type\n",
    "- формат рекламы (int, banner или rv)"
   ]
  },
  {
   "cell_type": "markdown",
   "id": "f96958ee",
   "metadata": {},
   "source": [
    "ключ 2 - placement\n",
    "- когда/где был показ рекламы в игре\n",
    "\n",
    "А какие значения вообще может принимать этот ключ?"
   ]
  },
  {
   "cell_type": "code",
   "execution_count": 44,
   "id": "1b81977e",
   "metadata": {},
   "outputs": [],
   "source": [
    "s = []\n",
    "for i in df.event_json:\n",
    "    j = json.loads(i)\n",
    "    s.append(j['placement'])"
   ]
  },
  {
   "cell_type": "code",
   "execution_count": 45,
   "id": "3485487e",
   "metadata": {},
   "outputs": [],
   "source": [
    "s = pd.Series(s)"
   ]
  },
  {
   "cell_type": "code",
   "execution_count": 46,
   "id": "3d5b109b",
   "metadata": {
    "scrolled": true
   },
   "outputs": [
    {
     "name": "stdout",
     "output_type": "stream",
     "text": [
      "['' 'next_level' 'replay' 'lose_offer_attempt' 'game_repeating_reward'\n",
      " 'double_coins' 'game_repeating_reward_int' 'lose_offer_attempt_int'\n",
      " 'double_coins_int']\n",
      "9\n"
     ]
    }
   ],
   "source": [
    "print(s.unique())\n",
    "print(s.nunique())"
   ]
  },
  {
   "cell_type": "markdown",
   "id": "64d86799",
   "metadata": {},
   "source": [
    "ключ 3 - view_index\n",
    "- номер показа конкретного формата рекламы для юзера (не поддерживается для баннеров)"
   ]
  },
  {
   "cell_type": "markdown",
   "id": "30f8a299",
   "metadata": {},
   "source": [
    "ключ 4 - session_view_index\n",
    "- я полагаю, это то же самое, что и ключ 3, но \"на сессию\" (да)\n",
    "\n",
    "Если я полагаю верно, то по всему dataset'у среднее значение session_view_index должно быть меньше среднего по колонке view_index, т.к. количество показов (номер по счету) одного и того же формата рекламы за одну сессию д.б. меньше этого же значения за все время нахождения пользователя в нашем продукте.\n",
    "\n",
    "Проверим:"
   ]
  },
  {
   "cell_type": "code",
   "execution_count": 47,
   "id": "002c1501",
   "metadata": {},
   "outputs": [
    {
     "data": {
      "text/plain": [
       "0.2417359335595916"
      ]
     },
     "execution_count": 47,
     "metadata": {},
     "output_type": "execute_result"
    }
   ],
   "source": [
    "s = []\n",
    "for i in df.event_json:\n",
    "    j = json.loads(i)\n",
    "    s.append(j['session_view_index'])\n",
    "np.mean(s)"
   ]
  },
  {
   "cell_type": "code",
   "execution_count": 48,
   "id": "77e28b89",
   "metadata": {},
   "outputs": [
    {
     "data": {
      "text/plain": [
       "2.0492198972419975"
      ]
     },
     "execution_count": 48,
     "metadata": {},
     "output_type": "execute_result"
    }
   ],
   "source": [
    "s = []\n",
    "for i in df.event_json:\n",
    "    j = json.loads(i)\n",
    "    s.append(j['view_index'])\n",
    "np.mean(s)"
   ]
  },
  {
   "cell_type": "code",
   "execution_count": 49,
   "id": "ff0ebf36",
   "metadata": {},
   "outputs": [],
   "source": [
    "# 0.24 < 2.05"
   ]
  },
  {
   "cell_type": "markdown",
   "id": "9a158b25",
   "metadata": {},
   "source": [
    "Необходимое условие выполнено, но оно все еще не является достаточным. Однако, всвязи со все теми же ограничивающими факторами выполнения данной работы, я буду считать, что мое предположение, что session_view_index - это то же самое, что и ключ 3, но \"на сессию\", - является верным."
   ]
  },
  {
   "cell_type": "markdown",
   "id": "2c87230b",
   "metadata": {},
   "source": [
    "ключ 5 - cur_ticks\n",
    "- ???\n",
    "\n",
    "Посмотрим на данные:"
   ]
  },
  {
   "cell_type": "code",
   "execution_count": 50,
   "id": "98bf2ad4",
   "metadata": {},
   "outputs": [],
   "source": [
    "s = []\n",
    "for i in df.event_json:\n",
    "    j = json.loads(i)\n",
    "    s.append(j['cur_ticks'])"
   ]
  },
  {
   "cell_type": "code",
   "execution_count": 51,
   "id": "24565e00",
   "metadata": {},
   "outputs": [],
   "source": [
    "s = pd.Series(s)"
   ]
  },
  {
   "cell_type": "code",
   "execution_count": 52,
   "id": "5dd1a55e",
   "metadata": {
    "scrolled": false
   },
   "outputs": [
    {
     "name": "stdout",
     "output_type": "stream",
     "text": [
      "637789966605885450\n",
      "637800525602753930\n",
      "10558996868480\n"
     ]
    }
   ],
   "source": [
    "# как и обозначил выше ¯\\_(ツ)_/¯\n",
    "print(s.min())\n",
    "print(s.max())\n",
    "print(s.max()-s.min())\n",
    "\n",
    "# мог бы сделать это в одно движение - дроппнул бы :)"
   ]
  },
  {
   "cell_type": "markdown",
   "id": "06cc4121",
   "metadata": {},
   "source": [
    "ключ 6 - session_length\n",
    "- ??? длительность сессии (одной игровой?)\n",
    "\n",
    "Посмотрим на данные:"
   ]
  },
  {
   "cell_type": "code",
   "execution_count": 53,
   "id": "93be8997",
   "metadata": {},
   "outputs": [],
   "source": [
    "s = []\n",
    "for i in df.event_json:\n",
    "    j = json.loads(i)\n",
    "    s.append(j['session_length'])\n",
    "s = pd.Series(s)"
   ]
  },
  {
   "cell_type": "code",
   "execution_count": 54,
   "id": "8efc4839",
   "metadata": {},
   "outputs": [
    {
     "name": "stdout",
     "output_type": "stream",
     "text": [
      "2.208125\n",
      "394117.6\n"
     ]
    }
   ],
   "source": [
    "print(s.min())\n",
    "print(s.max())"
   ]
  },
  {
   "cell_type": "markdown",
   "id": "4cd1a7e2",
   "metadata": {},
   "source": [
    "Так как значения принимают вещественные значения (прошу прощения за тавтологию), то это точно не время в секундах.\n",
    "Если мы говорим об одной сессии (игрок зашел в игру - вышел из нее), то она явно не должна быть длительностью в месяцы и годы. С учетом этого, может быть, что это время в минутах?"
   ]
  },
  {
   "cell_type": "code",
   "execution_count": 55,
   "id": "6e3ea47a",
   "metadata": {},
   "outputs": [
    {
     "data": {
      "text/plain": [
       "9.0"
      ]
     },
     "execution_count": 55,
     "metadata": {},
     "output_type": "execute_result"
    }
   ],
   "source": [
    "# тогда\n",
    "np.round(s.max()/60/24/30)"
   ]
  },
  {
   "cell_type": "markdown",
   "id": "42640d1d",
   "metadata": {},
   "source": [
    "Не очень похоже на правду, что какой-то игрок мог играть подряд одну сессию 9 мес. подряд. Поэтому оставим этот ключ непознанным."
   ]
  },
  {
   "cell_type": "markdown",
   "id": "a3032c62",
   "metadata": {},
   "source": [
    "ключ 7 - revenue\n",
    "- доход от конкретного показа рекламы (eCPM = revenue * 1000)"
   ]
  },
  {
   "cell_type": "markdown",
   "id": "1508d3b9",
   "metadata": {},
   "source": [
    "ключ 8 - ads_ltv\n",
    "- накапливающийся доход от рекламы, равен сумме всех revenue юзера\n",
    "\n",
    "Т.о., если я правильно понял, что это просто накопительная сумма всех доходов с одного юзера, то последняя по дате запись в dataset'е для каждого пользователя должна быть наибольшей из всех.\n",
    "\n",
    "Проверим:"
   ]
  },
  {
   "cell_type": "code",
   "execution_count": 56,
   "id": "0c60a01d",
   "metadata": {},
   "outputs": [
    {
     "data": {
      "text/plain": [
       "'JL5pmKYe8g7'"
      ]
     },
     "execution_count": 56,
     "metadata": {},
     "output_type": "execute_result"
    }
   ],
   "source": [
    "# возьмем самого топового с т.з. количества event'ов пользователя\n",
    "df[['profile_id', 'event_json']].groupby('profile_id').agg('count').sort_values('event_json').iloc[-1].name"
   ]
  },
  {
   "cell_type": "code",
   "execution_count": 57,
   "id": "e442e9d0",
   "metadata": {},
   "outputs": [],
   "source": [
    "df1 = df.query('profile_id == \"JL5pmKYe8g7\"')[['event_timestamp', 'event_json']]"
   ]
  },
  {
   "cell_type": "code",
   "execution_count": 58,
   "id": "38404686",
   "metadata": {},
   "outputs": [],
   "source": [
    "df1['event_timestamp'] = df1['event_timestamp'].apply(lambda x: pd.Timestamp(x, unit='s'))"
   ]
  },
  {
   "cell_type": "code",
   "execution_count": 59,
   "id": "7703563c",
   "metadata": {},
   "outputs": [],
   "source": [
    "# и сравним то, что значения ads_ltv отсортированные по колонке event_timestamp и по самой ads_ltv эквивалентны\n",
    "df1 = df1.sort_values('event_timestamp', ascending=False)"
   ]
  },
  {
   "cell_type": "code",
   "execution_count": 60,
   "id": "4826e378",
   "metadata": {},
   "outputs": [],
   "source": [
    "s = []\n",
    "for i in df1.event_json:\n",
    "    j = json.loads(i)\n",
    "    s.append(j['ads_ltv'])\n",
    "s = pd.Series(s)"
   ]
  },
  {
   "cell_type": "code",
   "execution_count": 61,
   "id": "b148ef84",
   "metadata": {},
   "outputs": [],
   "source": [
    "s1 = s.sort_values(ascending=False)"
   ]
  },
  {
   "cell_type": "code",
   "execution_count": 62,
   "id": "fd01e780",
   "metadata": {},
   "outputs": [
    {
     "name": "stdout",
     "output_type": "stream",
     "text": [
      "[ True]\n"
     ]
    }
   ],
   "source": [
    "print(s.eq(s1).unique())"
   ]
  },
  {
   "cell_type": "markdown",
   "id": "454fcc33",
   "metadata": {},
   "source": [
    "Отлично, необходимое условие выполнено."
   ]
  },
  {
   "cell_type": "markdown",
   "id": "df09c6dc",
   "metadata": {},
   "source": [
    "ключ 9 - ecpm_sma\n",
    "- это eCPM (revenue/1000), т.к. более никокого eCPM в данных не наблюдается\n",
    "\n",
    "(Но что за приписка sma?)"
   ]
  },
  {
   "cell_type": "markdown",
   "id": "2505c9ed",
   "metadata": {},
   "source": [
    "ключ 10 - normalized_ecpm_sma\n",
    "- это eCPM, каким-то образом нормированная\n",
    "\n",
    "Но каким? - на этот вопрос можно попробовать найти ответ, если рассмотреть 2е колонки с eCPM (нормализованную и нет) и применить к ненормализованной стандартные способы нормализации (log, деление на время сессии, например), но всвязи с тем, что в задании этого требования нет, и что время ограничено, я этого здесь делать не буду"
   ]
  },
  {
   "cell_type": "markdown",
   "id": "579f1194",
   "metadata": {},
   "source": [
    "ключ 11 - value\n",
    "- ???\n",
    "\n",
    "Посмотрим:"
   ]
  },
  {
   "cell_type": "code",
   "execution_count": 126,
   "id": "c2502845",
   "metadata": {
    "scrolled": true
   },
   "outputs": [],
   "source": [
    "s = []\n",
    "for i in df.event_json:\n",
    "    j = json.loads(i)\n",
    "    s.append(j['value'])\n",
    "s = pd.Series(s)"
   ]
  },
  {
   "cell_type": "code",
   "execution_count": 138,
   "id": "a757f1cd",
   "metadata": {},
   "outputs": [
    {
     "data": {
      "text/plain": [
       "0    0.000510\n",
       "1    0.000510\n",
       "2    0.002386\n",
       "3    0.013894\n",
       "4    0.006828\n",
       "dtype: float64"
      ]
     },
     "execution_count": 138,
     "metadata": {},
     "output_type": "execute_result"
    }
   ],
   "source": [
    "s.head()"
   ]
  },
  {
   "cell_type": "code",
   "execution_count": 146,
   "id": "179bd2ae",
   "metadata": {},
   "outputs": [
    {
     "data": {
      "text/plain": [
       "count    860079.000000\n",
       "mean          0.002780\n",
       "std           0.015129\n",
       "min           0.000000\n",
       "25%           0.000046\n",
       "50%           0.000494\n",
       "75%           0.000533\n",
       "max           0.937196\n",
       "dtype: float64"
      ]
     },
     "execution_count": 146,
     "metadata": {},
     "output_type": "execute_result"
    }
   ],
   "source": [
    "s.describe()"
   ]
  },
  {
   "cell_type": "markdown",
   "id": "8f4a4c8d",
   "metadata": {},
   "source": [
    "Могу предположить, что это связано с колонкой currency, но тогда что это за значение, если есть revenue?\n",
    "В общем, решение такое же: в задании не нужно, время ограничено, не рассматриваю."
   ]
  },
  {
   "cell_type": "markdown",
   "id": "cb613a03",
   "metadata": {},
   "source": [
    "ключ 12 - currency\n",
    "- валюта"
   ]
  },
  {
   "cell_type": "code",
   "execution_count": 147,
   "id": "e46cfb73",
   "metadata": {},
   "outputs": [],
   "source": [
    "s = []\n",
    "for i in df.event_json:\n",
    "    j = json.loads(i)\n",
    "    s.append(j['currency'])\n",
    "s = pd.Series(s)"
   ]
  },
  {
   "cell_type": "code",
   "execution_count": 149,
   "id": "212ebb6f",
   "metadata": {
    "scrolled": true
   },
   "outputs": [
    {
     "data": {
      "text/plain": [
       "array(['USD'], dtype=object)"
      ]
     },
     "execution_count": 149,
     "metadata": {},
     "output_type": "execute_result"
    }
   ],
   "source": [
    "s.unique()"
   ]
  },
  {
   "cell_type": "markdown",
   "id": "8d2b4ba9",
   "metadata": {},
   "source": [
    "ключ 13 - ad_country_code\n",
    "- полагаю, это код страны, предоставивший рекламу (т.е. язык рекламы)"
   ]
  },
  {
   "cell_type": "code",
   "execution_count": 150,
   "id": "638802bc",
   "metadata": {},
   "outputs": [],
   "source": [
    "s = []\n",
    "for i in df.event_json:\n",
    "    j = json.loads(i)\n",
    "    s.append(j['ad_country_code'])\n",
    "s = pd.Series(s)"
   ]
  },
  {
   "cell_type": "code",
   "execution_count": 152,
   "id": "1cdc05a0",
   "metadata": {
    "scrolled": true
   },
   "outputs": [
    {
     "name": "stdout",
     "output_type": "stream",
     "text": [
      "['US' 'GB' 'FR' 'DE' 'EG' 'KR' 'ID' 'CA' 'MX']\n",
      "9\n"
     ]
    }
   ],
   "source": [
    "print(s.unique())\n",
    "print(s.nunique())"
   ]
  },
  {
   "cell_type": "markdown",
   "id": "28b1390b",
   "metadata": {},
   "source": [
    "ключ 14 - network_name\n",
    "- имя рекламной сетки (скорее всего) - да, \"рекламная сеть, от которой был показ\""
   ]
  },
  {
   "cell_type": "code",
   "execution_count": 153,
   "id": "07ad46d3",
   "metadata": {},
   "outputs": [],
   "source": [
    "s = []\n",
    "for i in df.event_json:\n",
    "    j = json.loads(i)\n",
    "    s.append(j['network_name'])\n",
    "s = pd.Series(s)"
   ]
  },
  {
   "cell_type": "code",
   "execution_count": 154,
   "id": "5df92475",
   "metadata": {
    "scrolled": false
   },
   "outputs": [
    {
     "name": "stdout",
     "output_type": "stream",
     "text": [
      "['Google AdMob' 'APPLOVIN_EXCHANGE' 'AppLovin' 'Facebook']\n",
      "4\n"
     ]
    }
   ],
   "source": [
    "print(s.unique())\n",
    "print(s.nunique())"
   ]
  },
  {
   "cell_type": "markdown",
   "id": "2bd6f4bb",
   "metadata": {},
   "source": [
    "ключ 15 - ad_unit_id\n",
    "- имя рекламной публикации? - может быть"
   ]
  },
  {
   "cell_type": "code",
   "execution_count": 155,
   "id": "e8693947",
   "metadata": {},
   "outputs": [],
   "source": [
    "s = []\n",
    "for i in df.event_json:\n",
    "    j = json.loads(i)\n",
    "    s.append(j['ad_unit_id'])\n",
    "s = pd.Series(s)"
   ]
  },
  {
   "cell_type": "code",
   "execution_count": 157,
   "id": "7cb8b21f",
   "metadata": {
    "scrolled": true
   },
   "outputs": [
    {
     "name": "stdout",
     "output_type": "stream",
     "text": [
      "['64c6b1114ea8c1cc' '3ab7705b07ebb75f' '731adac31d29c507']\n",
      "3\n"
     ]
    }
   ],
   "source": [
    "print(s.unique())\n",
    "print(s.nunique())"
   ]
  },
  {
   "cell_type": "markdown",
   "id": "01cf56d9",
   "metadata": {},
   "source": [
    "ключ 16 - ad_network_placement\n",
    "- ??? (и как связано с network_name?)"
   ]
  },
  {
   "cell_type": "code",
   "execution_count": 158,
   "id": "9a969d37",
   "metadata": {},
   "outputs": [],
   "source": [
    "s = []\n",
    "for i in df.event_json:\n",
    "    j = json.loads(i)\n",
    "    s.append(j['ad_network_placement'])\n",
    "s = pd.Series(s)"
   ]
  },
  {
   "cell_type": "code",
   "execution_count": 160,
   "id": "b9d7ed64",
   "metadata": {
    "scrolled": true
   },
   "outputs": [
    {
     "name": "stdout",
     "output_type": "stream",
     "text": [
      "27\n"
     ]
    }
   ],
   "source": [
    "print(s.nunique())"
   ]
  },
  {
   "cell_type": "code",
   "execution_count": 161,
   "id": "79e9345b",
   "metadata": {
    "scrolled": true
   },
   "outputs": [
    {
     "name": "stdout",
     "output_type": "stream",
     "text": [
      "['ca-app-pub-7511632782617496/8825263691' 'banner_regular' 'inter_regular'\n",
      " 'ca-app-pub-7511632782617496/6197324251'\n",
      " 'ca-app-pub-7511632782617496/4884242584'\n",
      " '524377382067272_528134061691604'\n",
      " 'ca-app-pub-7511632782617496/9814911735'\n",
      " 'ca-app-pub-7511632782617496/6833525175'\n",
      " 'ca-app-pub-7511632782617496/3824218458'\n",
      " 'ca-app-pub-7511632782617496/7849758211'\n",
      " 'ca-app-pub-7511632782617496/1189815249'\n",
      " 'ca-app-pub-7511632782617496/2311325220' 'inter_videoa'\n",
      " '524377382067272_528132981691712'\n",
      " 'ca-app-pub-7511632782617496/8484360640'\n",
      " 'ca-app-pub-7511632782617496/9765475119'\n",
      " '524377382067272_528133115025032'\n",
      " 'ca-app-pub-7511632782617496/4462189301'\n",
      " 'ca-app-pub-7511632782617496/5197009874'\n",
      " 'ca-app-pub-7511632782617496/8342047967'\n",
      " 'ca-app-pub-7511632782617496/1329917050'\n",
      " 'ca-app-pub-7511632782617496/6288931395'\n",
      " 'ca-app-pub-7511632782617496/7233636966'\n",
      " 'ca-app-pub-7511632782617496/9595419886'\n",
      " 'ca-app-pub-7511632782617496/4151521517'\n",
      " 'ca-app-pub-7511632782617496/6401956938'\n",
      " 'ca-app-pub-7511632782617496/3413154913']\n"
     ]
    }
   ],
   "source": [
    "print(s.unique())"
   ]
  },
  {
   "cell_type": "markdown",
   "id": "470df876",
   "metadata": {},
   "source": [
    "ключ 17 - creativeId\n",
    "- ???"
   ]
  },
  {
   "cell_type": "code",
   "execution_count": 162,
   "id": "1354ffde",
   "metadata": {},
   "outputs": [],
   "source": [
    "s = []\n",
    "for i in df.event_json:\n",
    "    j = json.loads(i)\n",
    "    s.append(j['creativeId'])\n",
    "s = pd.Series(s)"
   ]
  },
  {
   "cell_type": "code",
   "execution_count": 164,
   "id": "5ed451b4",
   "metadata": {
    "scrolled": true
   },
   "outputs": [
    {
     "name": "stdout",
     "output_type": "stream",
     "text": [
      "509066\n"
     ]
    }
   ],
   "source": [
    "print(s.nunique())"
   ]
  },
  {
   "cell_type": "markdown",
   "id": "45f93b2a",
   "metadata": {},
   "source": [
    "**Структура данных такова:**"
   ]
  },
  {
   "cell_type": "markdown",
   "id": "9e2b7b86",
   "metadata": {},
   "source": [
    "COLUMNS\n",
    "- 1) profile_id          – id пользователя\n",
    "- 2) os_version          – верся ОС Android\n",
    "- 3) device_manufacturer – производитель устройства\n",
    "- 4) device_model        – модель устройства\n",
    "- 5) device_type         – тип устройства (телефон, планшет)\n",
    "- 6) device_locale       – страна и язык девайса во время event'а\n",
    "- 7) event_name          – имя события (1 значение) **DROP**\n",
    "- 8) event_json – содержит данные:\n",
    "        - ad_type              – формат рекламы (int [полноэкранная], banner или rv [по желанию])\n",
    "        - placement            – когда/где был показ рекламы в игре\n",
    "        - view_index           – номер показа конкретного формата рекламы для юзера (не поддерживается для баннеров)\n",
    "        - session_view_index   – номер показа конкретного формата рекламы для юзера, но \"на сессию\" (не поддерживается для баннеров)\n",
    "        - cur_ticks            – ???\n",
    "        - session_length       – ??? длительность одной игровой сессии?\n",
    "        - revenue              – доход от конкретного показа рекламы (eCPM = revenue * 1000)\n",
    "        - ads_ltv              – накапливающийся доход от рекламы, равен сумме всех revenue юзера\n",
    "        - ecpm_sma             – eCPM (но что такое sma?)\n",
    "        - normalized_ecpm_sma  – ??? eCPM (? как-то нормализованная)\n",
    "        - value                – ???\n",
    "        - currency             – ??? валюта (чего, Revenue?)\n",
    "        - ad_country_code      – код страны, предоставивший рекламу (т.е. язык рекламы)\n",
    "        - network_name         – рекламная сеть, от которой был показ\n",
    "        - ad_unit_id           – ??? имя рекламной публикации?\n",
    "        - ad_network_placement – ???\n",
    "        - creativeId           – ???\n",
    "- 9) event_datetime      – ??? **DROP**\n",
    "- 10) event_timestamp    – время совершения event'а\n",
    "- 11) event_receive_datetime  – ??? **DROP**\n",
    "- 12) event_receive_timestamp – ??? **DROP**\n",
    "- 13) connection_type    – тип соединения (wi-fi, cel, nAn)\n",
    "- 14) operator_name      – ???\n",
    "- 15) country_iso_code   – (1 значение) **DROP**\n",
    "- 16) city               – город девайса во время event'а"
   ]
  },
  {
   "cell_type": "markdown",
   "id": "fe5abf03",
   "metadata": {},
   "source": [
    "## Обработка данных. Манипуляции"
   ]
  },
  {
   "cell_type": "code",
   "execution_count": 168,
   "id": "58c86ca7",
   "metadata": {},
   "outputs": [],
   "source": [
    "df_init = df.copy()\n",
    "df = df.drop(columns=['event_name', 'event_datetime', 'event_receive_datetime', 'event_receive_timestamp', 'country_iso_code'])"
   ]
  },
  {
   "cell_type": "code",
   "execution_count": 182,
   "id": "1d6c32e8",
   "metadata": {},
   "outputs": [],
   "source": [
    "df.event_timestamp = df.event_timestamp.apply(lambda x: pd.Timestamp(x, unit='s'))"
   ]
  },
  {
   "cell_type": "code",
   "execution_count": 185,
   "id": "8c6eb690",
   "metadata": {},
   "outputs": [
    {
     "data": {
      "text/html": [
       "<div>\n",
       "<style scoped>\n",
       "    .dataframe tbody tr th:only-of-type {\n",
       "        vertical-align: middle;\n",
       "    }\n",
       "\n",
       "    .dataframe tbody tr th {\n",
       "        vertical-align: top;\n",
       "    }\n",
       "\n",
       "    .dataframe thead th {\n",
       "        text-align: right;\n",
       "    }\n",
       "</style>\n",
       "<table border=\"1\" class=\"dataframe\">\n",
       "  <thead>\n",
       "    <tr style=\"text-align: right;\">\n",
       "      <th></th>\n",
       "      <th>profile_id</th>\n",
       "      <th>os_version</th>\n",
       "      <th>device_manufacturer</th>\n",
       "      <th>device_model</th>\n",
       "      <th>device_type</th>\n",
       "      <th>device_locale</th>\n",
       "      <th>event_json</th>\n",
       "      <th>event_timestamp</th>\n",
       "      <th>connection_type</th>\n",
       "      <th>operator_name</th>\n",
       "      <th>city</th>\n",
       "    </tr>\n",
       "  </thead>\n",
       "  <tbody>\n",
       "    <tr>\n",
       "      <th>0</th>\n",
       "      <td>JLjpGzDHBQm</td>\n",
       "      <td>11</td>\n",
       "      <td>Samsung</td>\n",
       "      <td>Galaxy Tab S6</td>\n",
       "      <td>tablet</td>\n",
       "      <td>en_US</td>\n",
       "      <td>{\"ad_type\":\"banner\",\"placement\":\"\",\"view_index...</td>\n",
       "      <td>2022-02-04 17:02:28</td>\n",
       "      <td>wifi</td>\n",
       "      <td>NaN</td>\n",
       "      <td>Norwalk</td>\n",
       "    </tr>\n",
       "    <tr>\n",
       "      <th>1</th>\n",
       "      <td>JLjpGzDHBQm</td>\n",
       "      <td>11</td>\n",
       "      <td>Samsung</td>\n",
       "      <td>Galaxy Tab S6</td>\n",
       "      <td>tablet</td>\n",
       "      <td>en_US</td>\n",
       "      <td>{\"ad_type\":\"banner\",\"placement\":\"\",\"view_index...</td>\n",
       "      <td>2022-02-04 17:02:45</td>\n",
       "      <td>wifi</td>\n",
       "      <td>NaN</td>\n",
       "      <td>Norwalk</td>\n",
       "    </tr>\n",
       "    <tr>\n",
       "      <th>2</th>\n",
       "      <td>JLkVacrzHY6</td>\n",
       "      <td>11</td>\n",
       "      <td>Google</td>\n",
       "      <td>Pixel 2</td>\n",
       "      <td>phone</td>\n",
       "      <td>en_US</td>\n",
       "      <td>{\"ad_type\":\"banner\",\"placement\":\"\",\"view_index...</td>\n",
       "      <td>2022-02-05 14:53:05</td>\n",
       "      <td>wifi</td>\n",
       "      <td>Verizon</td>\n",
       "      <td>Charlotte</td>\n",
       "    </tr>\n",
       "    <tr>\n",
       "      <th>3</th>\n",
       "      <td>JMC6wG3cX0f</td>\n",
       "      <td>10</td>\n",
       "      <td>Samsung</td>\n",
       "      <td>Galaxy S9</td>\n",
       "      <td>phone</td>\n",
       "      <td>en_US</td>\n",
       "      <td>{\"ad_type\":\"int\",\"placement\":\"next_level\",\"vie...</td>\n",
       "      <td>2022-02-06 14:09:01</td>\n",
       "      <td>wifi</td>\n",
       "      <td>T-Mobile</td>\n",
       "      <td>Cocoa</td>\n",
       "    </tr>\n",
       "    <tr>\n",
       "      <th>4</th>\n",
       "      <td>JLzWWTJfi1b</td>\n",
       "      <td>10</td>\n",
       "      <td>Samsung</td>\n",
       "      <td>Galaxy S9</td>\n",
       "      <td>phone</td>\n",
       "      <td>en_US</td>\n",
       "      <td>{\"ad_type\":\"banner\",\"placement\":\"\",\"view_index...</td>\n",
       "      <td>2022-02-06 14:15:38</td>\n",
       "      <td>cell</td>\n",
       "      <td>Verizon</td>\n",
       "      <td>NaN</td>\n",
       "    </tr>\n",
       "  </tbody>\n",
       "</table>\n",
       "</div>"
      ],
      "text/plain": [
       "    profile_id os_version device_manufacturer   device_model device_type  \\\n",
       "0  JLjpGzDHBQm         11             Samsung  Galaxy Tab S6      tablet   \n",
       "1  JLjpGzDHBQm         11             Samsung  Galaxy Tab S6      tablet   \n",
       "2  JLkVacrzHY6         11              Google        Pixel 2       phone   \n",
       "3  JMC6wG3cX0f         10             Samsung      Galaxy S9       phone   \n",
       "4  JLzWWTJfi1b         10             Samsung      Galaxy S9       phone   \n",
       "\n",
       "  device_locale                                         event_json  \\\n",
       "0         en_US  {\"ad_type\":\"banner\",\"placement\":\"\",\"view_index...   \n",
       "1         en_US  {\"ad_type\":\"banner\",\"placement\":\"\",\"view_index...   \n",
       "2         en_US  {\"ad_type\":\"banner\",\"placement\":\"\",\"view_index...   \n",
       "3         en_US  {\"ad_type\":\"int\",\"placement\":\"next_level\",\"vie...   \n",
       "4         en_US  {\"ad_type\":\"banner\",\"placement\":\"\",\"view_index...   \n",
       "\n",
       "      event_timestamp connection_type operator_name       city  \n",
       "0 2022-02-04 17:02:28            wifi           NaN    Norwalk  \n",
       "1 2022-02-04 17:02:45            wifi           NaN    Norwalk  \n",
       "2 2022-02-05 14:53:05            wifi       Verizon  Charlotte  \n",
       "3 2022-02-06 14:09:01            wifi      T-Mobile      Cocoa  \n",
       "4 2022-02-06 14:15:38            cell      Verizon         NaN  "
      ]
     },
     "execution_count": 185,
     "metadata": {},
     "output_type": "execute_result"
    }
   ],
   "source": [
    "df.head()"
   ]
  },
  {
   "cell_type": "code",
   "execution_count": 183,
   "id": "83676452",
   "metadata": {},
   "outputs": [
    {
     "data": {
      "text/plain": [
       "profile_id                     object\n",
       "os_version                     object\n",
       "device_manufacturer            object\n",
       "device_model                   object\n",
       "device_type                    object\n",
       "device_locale                  object\n",
       "event_json                     object\n",
       "event_timestamp        datetime64[ns]\n",
       "connection_type                object\n",
       "operator_name                  object\n",
       "city                           object\n",
       "dtype: object"
      ]
     },
     "execution_count": 183,
     "metadata": {},
     "output_type": "execute_result"
    }
   ],
   "source": [
    "df.dtypes"
   ]
  },
  {
   "cell_type": "markdown",
   "id": "f1e0d34a",
   "metadata": {},
   "source": [
    "**Теперь у нас есть предобработанные данные, которые мы знаем и понимаем**\n",
    "\n",
    "Можно приступать к заданиям"
   ]
  },
  {
   "cell_type": "markdown",
   "id": "85a28328",
   "metadata": {},
   "source": [
    "# Задача 1"
   ]
  },
  {
   "cell_type": "markdown",
   "id": "7bfd91bb",
   "metadata": {},
   "source": [
    "Для каждого формата рекламы:\n",
    "- a. построить распределение средних eCPM-ов юзеров\n",
    "- b. построить распределение eCPM-ов по городам, версиям ОС\n",
    "- c. построить распределение доходов по городам, версиям ОС"
   ]
  },
  {
   "cell_type": "markdown",
   "id": "eb68c3cf",
   "metadata": {},
   "source": [
    "## Подзадача А"
   ]
  },
  {
   "cell_type": "markdown",
   "id": "15e83742",
   "metadata": {},
   "source": [
    "Для того, чтобы построить распределение средних eCPM-ов пользователей, нужно:\n",
    "1. Взять из df данные по profile_id и event_json\n",
    "2. Распарсить из колонки event_json данные ключа ecpm_sma и normalized_ecpm по каждому пользователю; результат: df1 с 3-мя колонками (profile_id, ecpm_sma, normalized_ecpm)\n",
    "3. Сгруппировать df1 по profile_id с аггрегаций по среднему по 2-ум остальным полям\n",
    "4. Построить N.D. для profile_id+ecpm_sma и profile_id+normalized_ecpm"
   ]
  },
  {
   "cell_type": "code",
   "execution_count": null,
   "id": "dbb3be87",
   "metadata": {},
   "outputs": [],
   "source": []
  },
  {
   "cell_type": "code",
   "execution_count": null,
   "id": "ef7015fd",
   "metadata": {},
   "outputs": [],
   "source": []
  },
  {
   "cell_type": "code",
   "execution_count": null,
   "id": "55b4335e",
   "metadata": {},
   "outputs": [],
   "source": []
  },
  {
   "cell_type": "code",
   "execution_count": null,
   "id": "409ff9bc",
   "metadata": {},
   "outputs": [],
   "source": []
  },
  {
   "cell_type": "code",
   "execution_count": null,
   "id": "d625dbdb",
   "metadata": {},
   "outputs": [],
   "source": []
  },
  {
   "cell_type": "code",
   "execution_count": null,
   "id": "f62bddda",
   "metadata": {},
   "outputs": [],
   "source": []
  },
  {
   "cell_type": "code",
   "execution_count": null,
   "id": "92247cc1",
   "metadata": {},
   "outputs": [],
   "source": []
  },
  {
   "cell_type": "code",
   "execution_count": null,
   "id": "486877d1",
   "metadata": {},
   "outputs": [],
   "source": []
  },
  {
   "cell_type": "code",
   "execution_count": null,
   "id": "2e0f78c8",
   "metadata": {},
   "outputs": [],
   "source": []
  },
  {
   "cell_type": "code",
   "execution_count": null,
   "id": "5c19e3c3",
   "metadata": {},
   "outputs": [],
   "source": []
  },
  {
   "cell_type": "code",
   "execution_count": null,
   "id": "1f7c4189",
   "metadata": {},
   "outputs": [],
   "source": []
  }
 ],
 "metadata": {
  "kernelspec": {
   "display_name": "Python 3 (ipykernel)",
   "language": "python",
   "name": "python3"
  },
  "language_info": {
   "codemirror_mode": {
    "name": "ipython",
    "version": 3
   },
   "file_extension": ".py",
   "mimetype": "text/x-python",
   "name": "python",
   "nbconvert_exporter": "python",
   "pygments_lexer": "ipython3",
   "version": "3.10.5"
  }
 },
 "nbformat": 4,
 "nbformat_minor": 5
}

{
 "cells": [
  {
   "cell_type": "markdown",
   "id": "9608e716",
   "metadata": {},
   "source": [
    "# Из Общей Информации"
   ]
  },
  {
   "cell_type": "markdown",
   "id": "c69cdb23",
   "metadata": {},
   "source": [
    "Форматы рекламы в мобильных играх:\n",
    "- int – полноэкранная реклама; \n",
    "- banner – горизонтальный баннер, висит внизу экрана пока юзер играет;\n",
    "- rv – видео, которое юзер смотрит по желанию и за просмотр получает монетки или др. ресурсы.\n",
    "\n",
    "eCPM – доход за 1000 показов рекламы."
   ]
  },
  {
   "cell_type": "markdown",
   "id": "d0751360",
   "metadata": {},
   "source": [
    "# Бизнес Задача"
   ]
  },
  {
   "cell_type": "markdown",
   "id": "df54e71d",
   "metadata": {},
   "source": [
    "Провести исследование показов рекламы с целью понять на сколько отличается eCPM в зависимости от географии (города) юзера, версии ОС и других параметров.\n",
    "\n",
    "Этот csv файл (544,4 Mb) содержит информацию о показах рекламы для юзеров США:\n",
    "https://drive.google.com/drive/folders/1bjWlzyXV8ALcoxZYrdNQH6_MOm3nS3Pl?usp=sharing"
   ]
  },
  {
   "cell_type": "markdown",
   "id": "1b740527",
   "metadata": {},
   "source": [
    "# Детализация Задач"
   ]
  },
  {
   "cell_type": "markdown",
   "id": "5aa93529",
   "metadata": {},
   "source": [
    "- 1. Для каждого формата рекламы:\n",
    "    - a. построить распределение средних eCPM-ов юзеров\n",
    "    - b. построить распределение eCPM-ов по городам, версиям ОС\n",
    "    - c. построить распределение доходов по городам, версиям ОС\n",
    "- 2. Учесть статистическую значимость (отобразить, отфильтровать незначимое или хотя бы прокомментировать). Объяснить решение.\n",
    "- 3. Описать наблюдения и вывод по исследованию.\n",
    "\n",
    "**Доп.:**\n",
    "\n",
    "Исследовать:\n",
    "- 4. Какой процент доходов содержит информацию о городе юзера\n",
    "- 5. Зависит ли eCPM от времени дня"
   ]
  },
  {
   "cell_type": "markdown",
   "id": "31c66f0c",
   "metadata": {},
   "source": [
    "# Информация о Данных"
   ]
  },
  {
   "cell_type": "markdown",
   "id": "7376ad63",
   "metadata": {},
   "source": [
    "- Столбец profile_id – id юзера\n",
    "- Столбец event_json содержит данные о событии показа рекламы:\n",
    "    - ad_type – формат рекламы (int, banner или rv)\n",
    "    - placement – когда/где был показ рекламы в игре\n",
    "    - view_index – номер показа конкретного формата рекламы для юзера (не поддерживается для баннеров)\n",
    "\n",
    "    - revenue – доход от конкретного показа рекламы (eCPM = revenue * 1000)\n",
    "    - ads_ltv – накапливающийся доход от рекламы, равен сумме всех revenue юзера\n",
    "    - network_name – рекламная сеть, от которой был показ"
   ]
  },
  {
   "cell_type": "markdown",
   "id": "cbfa9d3c",
   "metadata": {},
   "source": [
    "# Требования к Работе"
   ]
  },
  {
   "cell_type": "markdown",
   "id": "55af488e",
   "metadata": {},
   "source": [
    "- Понятная визуализация данных, грамотный выбор средств для презентации данных (типы диаграмм, таблиц или др.)\n",
    "- Чистотый и понятный код\n",
    "- Описание наблюдений в процессе иследования и выводы"
   ]
  },
  {
   "cell_type": "code",
   "execution_count": null,
   "id": "323d1313",
   "metadata": {},
   "outputs": [],
   "source": []
  },
  {
   "cell_type": "code",
   "execution_count": null,
   "id": "3878ddf2",
   "metadata": {},
   "outputs": [],
   "source": []
  },
  {
   "cell_type": "code",
   "execution_count": null,
   "id": "cd28a883",
   "metadata": {},
   "outputs": [],
   "source": []
  },
  {
   "cell_type": "code",
   "execution_count": null,
   "id": "5b2b45f3",
   "metadata": {},
   "outputs": [],
   "source": []
  },
  {
   "cell_type": "code",
   "execution_count": null,
   "id": "69a0c2f7",
   "metadata": {},
   "outputs": [],
   "source": []
  },
  {
   "cell_type": "code",
   "execution_count": null,
   "id": "f2489af8",
   "metadata": {},
   "outputs": [],
   "source": []
  },
  {
   "cell_type": "code",
   "execution_count": null,
   "id": "515c145e",
   "metadata": {},
   "outputs": [],
   "source": []
  },
  {
   "cell_type": "code",
   "execution_count": null,
   "id": "4f4926e6",
   "metadata": {},
   "outputs": [],
   "source": []
  },
  {
   "cell_type": "code",
   "execution_count": null,
   "id": "27cbf65f",
   "metadata": {},
   "outputs": [],
   "source": []
  },
  {
   "cell_type": "code",
   "execution_count": null,
   "id": "111f360a",
   "metadata": {},
   "outputs": [],
   "source": []
  },
  {
   "cell_type": "code",
   "execution_count": null,
   "id": "d8965fbb",
   "metadata": {},
   "outputs": [],
   "source": []
  },
  {
   "cell_type": "code",
   "execution_count": null,
   "id": "1679e517",
   "metadata": {},
   "outputs": [],
   "source": []
  },
  {
   "cell_type": "code",
   "execution_count": null,
   "id": "d2c596df",
   "metadata": {},
   "outputs": [],
   "source": []
  }
 ],
 "metadata": {
  "kernelspec": {
   "display_name": "Python 3 (ipykernel)",
   "language": "python",
   "name": "python3"
  },
  "language_info": {
   "codemirror_mode": {
    "name": "ipython",
    "version": 3
   },
   "file_extension": ".py",
   "mimetype": "text/x-python",
   "name": "python",
   "nbconvert_exporter": "python",
   "pygments_lexer": "ipython3",
   "version": "3.9.6"
  }
 },
 "nbformat": 4,
 "nbformat_minor": 5
}
